{
 "cells": [
  {
   "cell_type": "markdown",
   "metadata": {},
   "source": [
    "¡Hola, Oscar!\n",
    "\n",
    "Mi nombre es Tonatiuh Cruz. Me complace revisar tu proyecto hoy.\n",
    "\n",
    "Al identificar cualquier error inicialmente, simplemente los destacaré. Te animo a localizar y abordar los problemas de forma independiente como parte de tu preparación para un rol como data-analyst. En un entorno profesional, tu líder de equipo seguiría un enfoque similar. Si encuentras la tarea desafiante, proporcionaré una pista más específica en la próxima iteración.\n",
    "\n",
    "Encontrarás mis comentarios a continuación - **por favor no los muevas, modifiques o elimines**.\n",
    "\n",
    "Puedes encontrar mis comentarios en cajas verdes, amarillas o rojas como esta:\n",
    "\n",
    "<div class=\"alert alert-block alert-success\">\n",
    "<b>Comentario del revisor</b> <a class=\"tocSkip\"></a>\n",
    "\n",
    "Éxito. Todo está hecho correctamente.\n",
    "</div>\n",
    "\n",
    "<div class=\"alert alert-block alert-warning\">\n",
    "<b>Comentario del revisor</b> <a class=\"tocSkip\"></a>\n",
    "\n",
    "Observaciones. Algunas recomendaciones.\n",
    "</div>\n",
    "\n",
    "<div class=\"alert alert-block alert-danger\">\n",
    "<b>Comentario del revisor</b> <a class=\"tocSkip\"></a>\n",
    "\n",
    "Necesita corrección. El bloque requiere algunas correcciones. El trabajo no puede ser aceptado con comentarios en rojo.\n",
    "</div>\n",
    "\n",
    "Puedes responderme utilizando esto:\n",
    "\n",
    "<div class=\"alert alert-block alert-info\">\n",
    "<b>Respuesta del estudiante.</b> <a class=\"tocSkip\"></a>"
   ]
  },
  {
   "cell_type": "markdown",
   "metadata": {},
   "source": [
    "<div class=\"alert alert-block alert-success\">\n",
    "<b>Resumen de la revisión 1</b> <a class=\"tocSkip\"></a>\n",
    "\n",
    "Hola Oscar! Has hecho un excelente trabajo con el proyecto, cada vez más cercas de convertirte en un analista de datos. Realizaste la carga de bases, su análisis inicial, sus ajustes, un análisis de algunos variables conmplementado con gráficas y el desarrollo de las pruebas d ehipótesis. Solamente te dejo algunos comentarios para complementar el análisis. \n",
    "\n",
    "Sigue con el excelente trabajo!\n",
    "</div>"
   ]
  },
  {
   "cell_type": "markdown",
   "metadata": {
    "id": "3rYiDeEH0q0f"
   },
   "source": [
    "# ¿Cuál es la mejor tarifa?\n",
    "\n",
    "Trabajas como analista para el operador de telecomunicaciones Megaline. La empresa ofrece a sus clientes dos tarifas de prepago, Surf y Ultimate. El departamento comercial quiere saber cuál de las tarifas genera más ingresos para poder ajustar el presupuesto de publicidad.\n",
    "\n",
    "Vas a realizar un análisis preliminar de las tarifas basado en una selección de clientes relativamente pequeña. Tendrás los datos de 500 clientes de Megaline: quiénes son los clientes, de dónde son, qué tarifa usan, así como la cantidad de llamadas que hicieron y los mensajes de texto que enviaron en 2018. Tu trabajo es analizar el comportamiento de los clientes y determinar qué tarifa de prepago genera más ingresos."
   ]
  },
  {
   "cell_type": "markdown",
   "metadata": {
    "id": "VNddPNRQ0q0w"
   },
   "source": [
    "[Te proporcionamos algunos comentarios para orientarte mientras completas este proyecto. Pero debes asegurarte de eliminar todos los comentarios entre corchetes antes de entregar tu proyecto.]\n",
    "\n",
    "[Antes de sumergirte en el análisis de datos, explica por tu propia cuenta el propósito del proyecto y las acciones que planeas realizar.]\n",
    "\n",
    "[Ten en cuenta que estudiar, modificar y analizar datos es un proceso iterativo. Es normal volver a los pasos anteriores y corregirlos/ampliarlos para permitir nuevos pasos.]"
   ]
  },
  {
   "cell_type": "markdown",
   "metadata": {
    "id": "MQi4IPy70q0y"
   },
   "source": [
    "## Inicialización"
   ]
  },
  {
   "cell_type": "code",
   "execution_count": 1,
   "metadata": {
    "id": "MtYIuBxu0q0z"
   },
   "outputs": [],
   "source": [
    "# Cargar todas las librerías\n",
    "import pandas as pd\n",
    "import numpy as np\n",
    "import matplotlib.pyplot as plt\n",
    "from scipy import stats as st\n",
    "import math as mt\n",
    "import seaborn as sns"
   ]
  },
  {
   "cell_type": "markdown",
   "metadata": {},
   "source": [
    "<div class=\"alert alert-block alert-success\">\n",
    "<b>Comentario revisor</b> <a class=\"tocSkip\"></a>\n",
    "\n",
    "\n",
    "Gran trabajo con la carga de la libreria math. De esta manera, puedes realizar redondeos con otros métodos. \n",
    "</div>"
   ]
  },
  {
   "cell_type": "markdown",
   "metadata": {
    "id": "4ysWWC5i0q00"
   },
   "source": [
    "## Cargar datos"
   ]
  },
  {
   "cell_type": "code",
   "execution_count": 2,
   "metadata": {
    "id": "CCqPW7rS0q01"
   },
   "outputs": [],
   "source": [
    "# Carga los archivos de datos en diferentes DataFrames\n",
    "df_users = pd.read_csv(r\"/datasets/megaline_users.csv\")\n",
    "df_plans = pd.read_csv(r\"/datasets/megaline_plans.csv\")\n",
    "df_messages = pd.read_csv(r\"/datasets/megaline_messages.csv\")\n",
    "df_internet = pd.read_csv(r\"/datasets/megaline_internet.csv\")\n",
    "df_calls = pd.read_csv(r\"/datasets/megaline_calls.csv\")\n"
   ]
  },
  {
   "cell_type": "markdown",
   "metadata": {
    "id": "69qqoJ3r0q01"
   },
   "source": [
    "## Preparar los datos"
   ]
  },
  {
   "cell_type": "markdown",
   "metadata": {
    "id": "ohBhimvH0q01"
   },
   "source": [
    "## Tarifas"
   ]
  },
  {
   "cell_type": "code",
   "execution_count": 3,
   "metadata": {
    "id": "GptqP3Q40q02"
   },
   "outputs": [
    {
     "name": "stdout",
     "output_type": "stream",
     "text": [
      "<class 'pandas.core.frame.DataFrame'>\n",
      "RangeIndex: 2 entries, 0 to 1\n",
      "Data columns (total 8 columns):\n",
      " #   Column                 Non-Null Count  Dtype  \n",
      "---  ------                 --------------  -----  \n",
      " 0   messages_included      2 non-null      int64  \n",
      " 1   mb_per_month_included  2 non-null      int64  \n",
      " 2   minutes_included       2 non-null      int64  \n",
      " 3   usd_monthly_pay        2 non-null      int64  \n",
      " 4   usd_per_gb             2 non-null      int64  \n",
      " 5   usd_per_message        2 non-null      float64\n",
      " 6   usd_per_minute         2 non-null      float64\n",
      " 7   plan_name              2 non-null      object \n",
      "dtypes: float64(2), int64(5), object(1)\n",
      "memory usage: 256.0+ bytes\n",
      "None\n"
     ]
    }
   ],
   "source": [
    "# Imprime la información general/resumida sobre el DataFrame de las tarifas\n",
    "\n",
    "print(df_plans.info())"
   ]
  },
  {
   "cell_type": "code",
   "execution_count": 4,
   "metadata": {
    "id": "64xzjwL70q02"
   },
   "outputs": [
    {
     "name": "stdout",
     "output_type": "stream",
     "text": [
      "   messages_included  mb_per_month_included  minutes_included  \\\n",
      "0                 50                  15360               500   \n",
      "1               1000                  30720              3000   \n",
      "\n",
      "   usd_monthly_pay  usd_per_gb  usd_per_message  usd_per_minute plan_name  \n",
      "0               20          10             0.03            0.03      surf  \n",
      "1               70           7             0.01            0.01  ultimate  \n"
     ]
    }
   ],
   "source": [
    "# Imprime una muestra de los datos para las tarifas\n",
    "print(df_plans.head(10))\n"
   ]
  },
  {
   "cell_type": "markdown",
   "metadata": {
    "id": "mEc_3_hs0q02"
   },
   "source": [
    "###### No veo ningun problema a corregir en el df de las tarifas por lo que continuo con los siguientes pasos."
   ]
  },
  {
   "cell_type": "markdown",
   "metadata": {
    "id": "R3C05i1l0q03"
   },
   "source": [
    "## Corregir datos"
   ]
  },
  {
   "cell_type": "markdown",
   "metadata": {
    "id": "Y7SVmjGn0q03"
   },
   "source": [
    "###### No encontré ningún dato a corregir"
   ]
  },
  {
   "cell_type": "markdown",
   "metadata": {
    "id": "LJir7bml0q03"
   },
   "source": [
    "## Enriquecer los datos"
   ]
  },
  {
   "cell_type": "markdown",
   "metadata": {
    "id": "eqADpCfg0q04"
   },
   "source": [
    "<div class=\"alert alert-block alert-info\">\n",
    "<b>En este análisis, es importante tener en cuenta cómo Megaline maneja la facturación del tráfico de internet. En lugar de redondear cada sesión web individual, la compañía suma el uso total de megabytes de cada usuario por mes y luego redondea hacia arriba a gigabytes completos.\n",
    "\n",
    "Esto significa que si un usuario consume 1025 MB en un mes, se le cobrará 2 GB en lugar de 1. Si usa 2048 MB, se le cobrarán 3 GB, y así sucesivamente. Para implementar esta lógica en nuestro análisis, utilizaremos la función np.ceil() para redondear hacia arriba después de convertir los megabytes a gigabytes.</b> <a class=\"tocSkip\"></a>"
   ]
  },
  {
   "cell_type": "markdown",
   "metadata": {},
   "source": [
    "\n",
    "<div class=\"alert alert-block alert-warning\">\n",
    "<b>Comentario Revisor</b> <a class=\"tocSkip\"></a>\n",
    "\n",
    "Muy buen trabajo, solamente te sugiero que en este apartado menciones un poco sobre la transformación que se debe realizar de megabytes a gigabytes. \n",
    "</div>"
   ]
  },
  {
   "cell_type": "markdown",
   "metadata": {
    "id": "1n2X6WXf0q04"
   },
   "source": [
    "## Usuarios/as"
   ]
  },
  {
   "cell_type": "code",
   "execution_count": 5,
   "metadata": {
    "id": "2NgjWFqx0q05"
   },
   "outputs": [
    {
     "name": "stdout",
     "output_type": "stream",
     "text": [
      "<class 'pandas.core.frame.DataFrame'>\n",
      "RangeIndex: 500 entries, 0 to 499\n",
      "Data columns (total 8 columns):\n",
      " #   Column      Non-Null Count  Dtype \n",
      "---  ------      --------------  ----- \n",
      " 0   user_id     500 non-null    int64 \n",
      " 1   first_name  500 non-null    object\n",
      " 2   last_name   500 non-null    object\n",
      " 3   age         500 non-null    int64 \n",
      " 4   city        500 non-null    object\n",
      " 5   reg_date    500 non-null    object\n",
      " 6   plan        500 non-null    object\n",
      " 7   churn_date  34 non-null     object\n",
      "dtypes: int64(2), object(6)\n",
      "memory usage: 31.4+ KB\n",
      "None\n"
     ]
    }
   ],
   "source": [
    "# Imprime la información general/resumida sobre el DataFrame de usuarios\n",
    "print(df_users.info())\n"
   ]
  },
  {
   "cell_type": "code",
   "execution_count": 6,
   "metadata": {
    "id": "1IN1L9uh0q05"
   },
   "outputs": [
    {
     "name": "stdout",
     "output_type": "stream",
     "text": [
      "     user_id first_name last_name  age  \\\n",
      "478     1478      Elane     David   51   \n",
      "89      1089     Malena    Kelley   70   \n",
      "165     1165      Nigel     Huber   20   \n",
      "205     1205     Rafael      Wade   43   \n",
      "306     1306     Darron     Craig   19   \n",
      "376     1376       Mika  Williams   58   \n",
      "244     1244   Demarcus     Ellis   75   \n",
      "113     1113    Spencer    Powers   27   \n",
      "9       1009      Gerry    Little   19   \n",
      "138     1138      Arlie   Higgins   66   \n",
      "\n",
      "                                                 city    reg_date      plan  \\\n",
      "478           Portland-Vancouver-Hillsboro, OR-WA MSA  2018-06-28  ultimate   \n",
      "89    Philadelphia-Camden-Wilmington, PA-NJ-DE-MD MSA  2018-09-03      surf   \n",
      "165   Philadelphia-Camden-Wilmington, PA-NJ-DE-MD MSA  2018-10-27      surf   \n",
      "205         New York-Newark-Jersey City, NY-NJ-PA MSA  2018-04-05      surf   \n",
      "306  Washington-Arlington-Alexandria, DC-VA-MD-WV MSA  2018-11-26      surf   \n",
      "376                                  Columbia, SC MSA  2018-04-16  ultimate   \n",
      "244                         Birmingham-Hoover, AL MSA  2018-02-05      surf   \n",
      "113         New York-Newark-Jersey City, NY-NJ-PA MSA  2018-06-04  ultimate   \n",
      "9              San Jose-Sunnyvale-Santa Clara, CA MSA  2018-04-22      surf   \n",
      "138          Riverside-San Bernardino-Ontario, CA MSA  2018-02-06      surf   \n",
      "\n",
      "    churn_date  \n",
      "478        NaN  \n",
      "89         NaN  \n",
      "165        NaN  \n",
      "205        NaN  \n",
      "306        NaN  \n",
      "376        NaN  \n",
      "244        NaN  \n",
      "113        NaN  \n",
      "9          NaN  \n",
      "138        NaN  \n"
     ]
    }
   ],
   "source": [
    "# Imprime una muestra de datos para usuarios\n",
    "print(df_users.sample(n=10))\n"
   ]
  },
  {
   "cell_type": "markdown",
   "metadata": {
    "id": "dCZoUq4f0q06"
   },
   "source": [
    "###### Puedo observar que la columna de la fecha de suscripción no está en el formato adecuado. \n",
    "###### Dado que un valor nulo en churn_date significa que el cliente seguía usando el servicio en el momento de la extracción de datos, podemos asumir que estos clientes generaron ingresos durante todo el período analizado. No hay necesidad de eliminar estos datos, ya que reflejan usuarios activos."
   ]
  },
  {
   "cell_type": "markdown",
   "metadata": {
    "id": "BX5FQh_I0q06"
   },
   "source": [
    "### Corregir los datos"
   ]
  },
  {
   "cell_type": "markdown",
   "metadata": {
    "id": "8OdKMwJv0q06"
   },
   "source": [
    "###### Voy a corregir el dtype de la columna reg_date para que coincida con el formato de fechas."
   ]
  },
  {
   "cell_type": "code",
   "execution_count": 45,
   "metadata": {
    "id": "yUqX-K0C0q07",
    "scrolled": true
   },
   "outputs": [
    {
     "name": "stdout",
     "output_type": "stream",
     "text": [
      "     user_id first_name last_name  age  \\\n",
      "83      1083     Lyndia   Acevedo   65   \n",
      "219     1219      Gavin    Keller   51   \n",
      "196     1196       Noel    Dawson   46   \n",
      "313     1313    Antoine     Baker   49   \n",
      "324     1324     Romana     Moore   18   \n",
      "\n",
      "                                            city   reg_date      plan  \\\n",
      "83        Los Angeles-Long Beach-Anaheim, CA MSA 2018-10-26      surf   \n",
      "219              Detroit-Warren-Dearborn, MI MSA 2018-05-14      surf   \n",
      "196       Los Angeles-Long Beach-Anaheim, CA MSA 2018-01-14  ultimate   \n",
      "313       San Francisco-Oakland-Berkeley, CA MSA 2018-05-24      surf   \n",
      "324  Minneapolis-St. Paul-Bloomington, MN-WI MSA 2018-04-04      surf   \n",
      "\n",
      "    churn_date  state region  \n",
      "83  2018-12-18     CA  Otras  \n",
      "219        NaT     MI  Otras  \n",
      "196        NaT     CA  Otras  \n",
      "313        NaT     CA  Otras  \n",
      "324        NaT  MN-WI  Otras  \n",
      "\n",
      "<class 'pandas.core.frame.DataFrame'>\n",
      "RangeIndex: 500 entries, 0 to 499\n",
      "Data columns (total 10 columns):\n",
      " #   Column      Non-Null Count  Dtype         \n",
      "---  ------      --------------  -----         \n",
      " 0   user_id     500 non-null    int64         \n",
      " 1   first_name  500 non-null    object        \n",
      " 2   last_name   500 non-null    object        \n",
      " 3   age         500 non-null    int64         \n",
      " 4   city        500 non-null    object        \n",
      " 5   reg_date    500 non-null    datetime64[ns]\n",
      " 6   plan        500 non-null    object        \n",
      " 7   churn_date  34 non-null     datetime64[ns]\n",
      " 8   state       500 non-null    object        \n",
      " 9   region      500 non-null    object        \n",
      "dtypes: datetime64[ns](2), int64(2), object(6)\n",
      "memory usage: 39.2+ KB\n",
      "None\n"
     ]
    }
   ],
   "source": [
    "df_users['reg_date'] = pd.to_datetime(df_users['reg_date'], format='%Y-%m-%d')\n",
    "df_users['churn_date'] = pd.to_datetime(df_users['churn_date'], format='%Y-%m-%d')\n",
    "\n",
    "print(df_users.sample(n=5))\n",
    "print()\n",
    "print(df_users.info())"
   ]
  },
  {
   "cell_type": "markdown",
   "metadata": {},
   "source": [
    "<div class=\"alert alert-block alert-info\">\n",
    "<b>Añadido.</b> <a class=\"tocSkip\"></a>"
   ]
  },
  {
   "cell_type": "markdown",
   "metadata": {},
   "source": [
    "\n",
    "<div class=\"alert alert-block alert-warning\">\n",
    "<b>Comentario Revisor</b> <a class=\"tocSkip\"></a>\n",
    "\n",
    "En todos los casos en los que cambiamos el tipo de variable a datetime, te recomiendo agregar el argumento \"format='%Y-%m-%d'\" dentro de la función to_datetime(). De esta manera, puedes asegurarte siempre de que el formato de la fecha que deseas cambiar sea el que necesitas.\n",
    "</div>"
   ]
  },
  {
   "cell_type": "markdown",
   "metadata": {
    "id": "ycwuARJp0q07"
   },
   "source": [
    "### Enriquecer los datos"
   ]
  },
  {
   "cell_type": "markdown",
   "metadata": {
    "id": "96NIh4CJ0q08"
   },
   "source": [
    "###### No voy a añadir nada por el momento."
   ]
  },
  {
   "cell_type": "code",
   "execution_count": null,
   "metadata": {
    "id": "iq0AaBS90q08"
   },
   "outputs": [],
   "source": []
  },
  {
   "cell_type": "markdown",
   "metadata": {
    "id": "o7MeKCid0q08"
   },
   "source": [
    "## Llamadas"
   ]
  },
  {
   "cell_type": "code",
   "execution_count": 8,
   "metadata": {
    "id": "6dDlnoDm0q08"
   },
   "outputs": [
    {
     "name": "stdout",
     "output_type": "stream",
     "text": [
      "<class 'pandas.core.frame.DataFrame'>\n",
      "RangeIndex: 137735 entries, 0 to 137734\n",
      "Data columns (total 4 columns):\n",
      " #   Column     Non-Null Count   Dtype  \n",
      "---  ------     --------------   -----  \n",
      " 0   id         137735 non-null  object \n",
      " 1   user_id    137735 non-null  int64  \n",
      " 2   call_date  137735 non-null  object \n",
      " 3   duration   137735 non-null  float64\n",
      "dtypes: float64(1), int64(1), object(2)\n",
      "memory usage: 4.2+ MB\n",
      "None\n"
     ]
    }
   ],
   "source": [
    "# Imprime la información general/resumida sobre el DataFrame de las llamadas\n",
    "print(df_calls.info())\n"
   ]
  },
  {
   "cell_type": "code",
   "execution_count": 9,
   "metadata": {
    "id": "kuh1vlNB0q09"
   },
   "outputs": [
    {
     "name": "stdout",
     "output_type": "stream",
     "text": [
      "              id  user_id   call_date  duration\n",
      "42166   1155_116     1155  2018-09-02      0.00\n",
      "102528  1363_141     1363  2018-10-03      6.63\n",
      "13507   1057_386     1057  2018-10-07      0.00\n",
      "80140    1288_75     1288  2018-11-30      0.00\n",
      "94990   1336_942     1336  2018-06-13      0.00\n",
      "8186    1039_126     1039  2018-09-06     11.07\n",
      "116985  1408_634     1408  2018-04-01      3.84\n",
      "1978    1009_400     1009  2018-06-04      4.32\n",
      "52205   1187_398     1187  2018-11-04     17.41\n",
      "85703   1314_130     1314  2018-12-07      9.48\n"
     ]
    }
   ],
   "source": [
    "# Imprime una muestra de datos para las llamadas\n",
    "print(df_calls.sample(n=10))\n"
   ]
  },
  {
   "cell_type": "markdown",
   "metadata": {
    "id": "DOAxYJSx0q09"
   },
   "source": [
    "###### Podemos observar que la columna call_date se encuentra en un formato distinto al de fecha.\n",
    "###### Los valores en la columna duration son flotantes y la mayoría parecen ser valores razonables, pero hay un valor de duración igual a 0.00\n",
    "###### user_id tiene datos enteros que parecen correctos y corresponden a los usuarios que realizaron la llamada. No hay indicios de problemas en esta columna."
   ]
  },
  {
   "cell_type": "markdown",
   "metadata": {
    "id": "S7hzxmbX0q0-"
   },
   "source": [
    "### Corregir los datos"
   ]
  },
  {
   "cell_type": "markdown",
   "metadata": {
    "id": "YxWyAjD20q0-"
   },
   "source": [
    "###### El campo call_date está como object, pero debería ser convertido a tipo datetime64 para facilitar el análisis y operaciones con fechas.\n",
    "###### Voy a investigar las llamadas con duración 0.00 para decidir si deben eliminarse o corregirse.\n",
    "###### Aunque no parece haber duplicados en la muestra, sería prudente revisar si existen registros duplicados basados en id\n",
    "###### No se observan valores nulos en la muestra proporcionada, pero sería útil verificar si existen valores nulos en alguna columna\n",
    "###### Teniendo en cuenta que cada llamada individual se redondea hacia arriba, procedemos a convertir la columna \"duration\" a int y eliminar los valores en 0 ya que no aportan información."
   ]
  },
  {
   "cell_type": "code",
   "execution_count": 46,
   "metadata": {
    "id": "S2r8xA4f0q0-",
    "scrolled": false
   },
   "outputs": [
    {
     "name": "stdout",
     "output_type": "stream",
     "text": [
      "Número de llamadas con duración 0.00: 0\n",
      "Valores duplicados en 'id': 0\n",
      "id           0\n",
      "user_id      0\n",
      "call_date    0\n",
      "duration     0\n",
      "year         0\n",
      "month        0\n",
      "dtype: int64\n",
      "\n",
      "<class 'pandas.core.frame.DataFrame'>\n",
      "Int64Index: 110901 entries, 0 to 137734\n",
      "Data columns (total 6 columns):\n",
      " #   Column     Non-Null Count   Dtype         \n",
      "---  ------     --------------   -----         \n",
      " 0   id         110901 non-null  object        \n",
      " 1   user_id    110901 non-null  int64         \n",
      " 2   call_date  110901 non-null  datetime64[ns]\n",
      " 3   duration   110901 non-null  int64         \n",
      " 4   year       110901 non-null  int64         \n",
      " 5   month      110901 non-null  int64         \n",
      "dtypes: datetime64[ns](1), int64(4), object(1)\n",
      "memory usage: 10.0+ MB\n",
      "None\n"
     ]
    }
   ],
   "source": [
    "# Convertir 'call_date' a datetime64\n",
    "df_calls['call_date'] = pd.to_datetime(df_calls['call_date'], format='%Y-%m-%d')\n",
    "\n",
    "# Contar las filas con duración igual a 0.00\n",
    "print(\"Número de llamadas con duración 0.00:\", df_calls[df_calls['duration'] == 0.00].shape[0])\n",
    "\n",
    "# Verificar si hay valores duplicados en la columna 'id'\n",
    "print(\"Valores duplicados en 'id':\", df_calls[df_calls.duplicated(subset='id')].shape[0])\n",
    "\n",
    "# Contar los valores nulos en cada columna\n",
    "print(df_calls.isnull().sum())\n",
    "\n",
    "print()\n",
    "print(df_calls.info())\n"
   ]
  },
  {
   "cell_type": "markdown",
   "metadata": {},
   "source": [
    "<div class=\"alert alert-block alert-info\">\n",
    "<b>Format de fechas añadido.</b> <a class=\"tocSkip\"></a>"
   ]
  },
  {
   "cell_type": "code",
   "execution_count": 11,
   "metadata": {
    "scrolled": true
   },
   "outputs": [
    {
     "name": "stdout",
     "output_type": "stream",
     "text": [
      "¿Quedan valores <= 0 en 'duration'? False\n",
      "\n",
      "<class 'pandas.core.frame.DataFrame'>\n",
      "Int64Index: 110901 entries, 0 to 137734\n",
      "Data columns (total 4 columns):\n",
      " #   Column     Non-Null Count   Dtype         \n",
      "---  ------     --------------   -----         \n",
      " 0   id         110901 non-null  object        \n",
      " 1   user_id    110901 non-null  int64         \n",
      " 2   call_date  110901 non-null  datetime64[ns]\n",
      " 3   duration   110901 non-null  int64         \n",
      "dtypes: datetime64[ns](1), int64(2), object(1)\n",
      "memory usage: 4.2+ MB\n",
      "None\n",
      "\n",
      "             id  user_id  call_date  duration\n",
      "51064  1185_102     1185 2018-09-08         3\n",
      "49181    1178_5     1178 2018-11-08         2\n",
      "35364  1132_832     1132 2018-06-17        21\n",
      "34810   1132_88     1132 2018-04-16        18\n",
      "93777    1335_5     1335 2018-11-12         3\n"
     ]
    }
   ],
   "source": [
    "# Redondear hacia arriba (1.01 -> 2, 0.1 -> 1) y convertir a int\n",
    "df_calls['duration'] = np.ceil(df_calls['duration']).astype(int)\n",
    "\n",
    "# Eliminar filas donde duration sea 0\n",
    "df_calls = df_calls[df_calls['duration'] > 0]\n",
    "\n",
    "# Verificar si quedan ceros (debería ser False)\n",
    "print(\"¿Quedan valores <= 0 en 'duration'?\", (df_calls['duration'] <= 0).any())\n",
    "print()\n",
    "print(df_calls.info())\n",
    "print()\n",
    "print(df_calls.sample(n=5))"
   ]
  },
  {
   "cell_type": "code",
   "execution_count": 12,
   "metadata": {},
   "outputs": [
    {
     "name": "stdout",
     "output_type": "stream",
     "text": [
      "=== Resumen después del procesamiento ===\n",
      "Filas totales: 110901\n",
      "Valor mínimo en 'duration': 1\n",
      "Valor máximo en 'duration': 38\n",
      "Valor promedio en 'duration': 8.875907340781417\n"
     ]
    }
   ],
   "source": [
    "# Verificación básica\n",
    "print(\"=== Resumen después del procesamiento ===\")\n",
    "print(f\"Filas totales: {len(df_calls)}\")\n",
    "print(f\"Valor mínimo en 'duration': {df_calls['duration'].min()}\")\n",
    "print(f\"Valor máximo en 'duration': {df_calls['duration'].max()}\")\n",
    "print(f\"Valor promedio en 'duration': {df_calls['duration'].mean()}\")"
   ]
  },
  {
   "cell_type": "markdown",
   "metadata": {
    "id": "KrMgTrlG0q0_"
   },
   "source": [
    "### Enriquecer los datos"
   ]
  },
  {
   "cell_type": "markdown",
   "metadata": {
    "id": "a9MbmEvE0q0_"
   },
   "source": [
    "<div class=\"alert alert-block alert-info\">\n",
    "<b>Podemos decir que las llamadas con una duración de 0.0 minutos probablemente fueron intentos de llamada que no se concretaron. Esto puede deberse a varias razones, como:\n",
    "\n",
    "+ Llamadas que fueron canceladas antes de conectar.\n",
    "+ Llamadas en las que el destinatario no respondió.\n",
    "+ Errores en la red que impidieron la conexión.\n",
    "\n",
    "Dado que la política de la empresa indica que toda llamada conectada se redondea al menos a 1 minuto, estas llamadas con 0 minutos no deberían representar consumo real y podríamos considerarlas como intentos fallidos o llamadas nulas..</b> <a class=\"tocSkip\"></a>"
   ]
  },
  {
   "cell_type": "markdown",
   "metadata": {
    "id": "iZ1avpA_0q0_"
   },
   "source": [
    "<div class=\"alert alert-block alert-warning\">\n",
    "<b>Comentario Revisor</b> <a class=\"tocSkip\"></a>\n",
    "\n",
    "Qué podríamos decir hasta el momento de las llamadas que tienen una duración de 0?\n",
    "</div>"
   ]
  },
  {
   "cell_type": "markdown",
   "metadata": {
    "id": "mOUZSi180q0_"
   },
   "source": [
    "## Mensajes"
   ]
  },
  {
   "cell_type": "code",
   "execution_count": 13,
   "metadata": {
    "id": "R-bYJpdV0q1A"
   },
   "outputs": [
    {
     "name": "stdout",
     "output_type": "stream",
     "text": [
      "<class 'pandas.core.frame.DataFrame'>\n",
      "RangeIndex: 76051 entries, 0 to 76050\n",
      "Data columns (total 3 columns):\n",
      " #   Column        Non-Null Count  Dtype \n",
      "---  ------        --------------  ----- \n",
      " 0   id            76051 non-null  object\n",
      " 1   user_id       76051 non-null  int64 \n",
      " 2   message_date  76051 non-null  object\n",
      "dtypes: int64(1), object(2)\n",
      "memory usage: 1.7+ MB\n",
      "None\n"
     ]
    }
   ],
   "source": [
    "# Imprime la información general/resumida sobre el DataFrame de los mensajes\n",
    "print(df_messages.info())\n"
   ]
  },
  {
   "cell_type": "code",
   "execution_count": 14,
   "metadata": {
    "id": "mCEl2iGE0q1A"
   },
   "outputs": [
    {
     "name": "stdout",
     "output_type": "stream",
     "text": [
      "             id  user_id message_date\n",
      "45125   1303_44     1303   2018-12-30\n",
      "53414  1339_548     1339   2018-07-19\n",
      "47122  1320_366     1320   2018-05-17\n",
      "69938  1454_300     1454   2018-10-07\n",
      "53128  1339_262     1339   2018-09-14\n",
      "21486  1132_847     1132   2018-10-26\n",
      "63866  1407_103     1407   2018-12-08\n",
      "39314  1255_525     1255   2018-09-05\n",
      "61108  1384_174     1384   2018-08-28\n",
      "58934  1374_108     1374   2018-06-07\n"
     ]
    }
   ],
   "source": [
    "# Imprime una muestra de datos para los mensajes\n",
    "print(df_messages.sample(n=10))\n"
   ]
  },
  {
   "cell_type": "markdown",
   "metadata": {
    "id": "04xDj7KH0q1A"
   },
   "source": [
    "###### Los datos parecen consistentes y no hay valores faltantes\n",
    "###### La fecha del mensaje (tipo object), debería ser convertido a un tipo de fecha (datetime)"
   ]
  },
  {
   "cell_type": "markdown",
   "metadata": {
    "id": "Sprfak900q1B"
   },
   "source": [
    "### Corregir los datos"
   ]
  },
  {
   "cell_type": "markdown",
   "metadata": {
    "id": "eGw7d9j10q1B"
   },
   "source": [
    "###### La columna message_date es de tipo object y debería ser convertida a formato de fecha para facilitar el análisis temporal."
   ]
  },
  {
   "cell_type": "code",
   "execution_count": 15,
   "metadata": {
    "id": "vsllvkoa0q1B",
    "scrolled": true
   },
   "outputs": [
    {
     "name": "stdout",
     "output_type": "stream",
     "text": [
      "<class 'pandas.core.frame.DataFrame'>\n",
      "RangeIndex: 76051 entries, 0 to 76050\n",
      "Data columns (total 3 columns):\n",
      " #   Column        Non-Null Count  Dtype         \n",
      "---  ------        --------------  -----         \n",
      " 0   id            76051 non-null  object        \n",
      " 1   user_id       76051 non-null  int64         \n",
      " 2   message_date  76051 non-null  datetime64[ns]\n",
      "dtypes: datetime64[ns](1), int64(1), object(1)\n",
      "memory usage: 1.7+ MB\n",
      "None\n"
     ]
    }
   ],
   "source": [
    "df_messages['message_date'] = pd.to_datetime(df_messages['message_date'])\n",
    "print(df_messages.info())"
   ]
  },
  {
   "cell_type": "markdown",
   "metadata": {
    "id": "HvLid7iD0q1B"
   },
   "source": [
    "### Enriquecer los datos"
   ]
  },
  {
   "cell_type": "markdown",
   "metadata": {
    "id": "8nhPFKIe0q1C"
   },
   "source": [
    "###### No voy a añadir información"
   ]
  },
  {
   "cell_type": "code",
   "execution_count": null,
   "metadata": {
    "id": "zYEXZac10q1C"
   },
   "outputs": [],
   "source": []
  },
  {
   "cell_type": "markdown",
   "metadata": {
    "id": "bStkaxn40q1C"
   },
   "source": [
    "## Internet"
   ]
  },
  {
   "cell_type": "code",
   "execution_count": 16,
   "metadata": {
    "id": "e-Uz5qyn0q1C"
   },
   "outputs": [
    {
     "name": "stdout",
     "output_type": "stream",
     "text": [
      "<class 'pandas.core.frame.DataFrame'>\n",
      "RangeIndex: 104825 entries, 0 to 104824\n",
      "Data columns (total 4 columns):\n",
      " #   Column        Non-Null Count   Dtype  \n",
      "---  ------        --------------   -----  \n",
      " 0   id            104825 non-null  object \n",
      " 1   user_id       104825 non-null  int64  \n",
      " 2   session_date  104825 non-null  object \n",
      " 3   mb_used       104825 non-null  float64\n",
      "dtypes: float64(1), int64(1), object(2)\n",
      "memory usage: 3.2+ MB\n",
      "None\n"
     ]
    }
   ],
   "source": [
    "# Imprime la información general/resumida sobre el DataFrame de internet\n",
    "print(df_internet.info())\n"
   ]
  },
  {
   "cell_type": "code",
   "execution_count": 17,
   "metadata": {
    "id": "9r3x_XLw0q1C"
   },
   "outputs": [
    {
     "name": "stdout",
     "output_type": "stream",
     "text": [
      "              id  user_id session_date  mb_used\n",
      "48785   1217_125     1217   2018-12-08     0.00\n",
      "9383     1049_33     1049   2018-09-24   549.90\n",
      "100600  1476_112     1476   2018-08-14   589.16\n",
      "76271   1358_491     1358   2018-04-30   447.61\n",
      "81813   1383_417     1383   2018-11-20   116.64\n",
      "95967   1447_157     1447   2018-12-28   394.29\n",
      "48447   1215_169     1215   2018-09-26  1101.20\n",
      "36842     1166_8     1166   2018-12-12   778.21\n",
      "35734   1160_438     1160   2018-10-09   601.50\n",
      "38003   1171_374     1171   2018-04-17   279.06\n"
     ]
    }
   ],
   "source": [
    "# Imprime una muestra de datos para el tráfico de internet\n",
    "print(df_internet.sample(n=10))\n"
   ]
  },
  {
   "cell_type": "markdown",
   "metadata": {
    "id": "EzOG5ik30q1D"
   },
   "source": [
    "###### Encontramos información detallada sobre el tráfico web de los usuarios durante un periodo significativo.\n",
    "###### La fecha en que ocurrió la sesión (tipo object) debe convertirse a un tipo datetime para permitir análisis de tiempo eficientes.\n",
    "###### Al igual que en el df_calls, se observan registros con valores 0.00 en la columna mb_used, lo que podría indicar sesiones sin tráfico de datos o registros nulos que deberían ser manejados."
   ]
  },
  {
   "cell_type": "markdown",
   "metadata": {
    "id": "yA0tkPFg0q1D"
   },
   "source": [
    "### Corregir los datos"
   ]
  },
  {
   "cell_type": "markdown",
   "metadata": {
    "id": "zlZMuIEK0q1D"
   },
   "source": [
    "###### Convertir session_date a formato de fecha"
   ]
  },
  {
   "cell_type": "code",
   "execution_count": 18,
   "metadata": {
    "id": "zVeanzdd0q1E"
   },
   "outputs": [
    {
     "name": "stdout",
     "output_type": "stream",
     "text": [
      "Número de sesiones con tráfico 0.00: id              13747\n",
      "user_id         13747\n",
      "session_date    13747\n",
      "mb_used         13747\n",
      "dtype: int64\n"
     ]
    }
   ],
   "source": [
    "df_internet['session_date'] = pd.to_datetime(df_internet['session_date'])\n",
    "\n",
    "# Contar las filas con duración igual a 0.00\n",
    "print(\"Número de sesiones con tráfico 0.00:\", df_internet[df_internet['mb_used'] == 0.00].count())"
   ]
  },
  {
   "cell_type": "markdown",
   "metadata": {},
   "source": [
    "###### Similar a cómo eliminamos las llamadas con duración 0, podemos eliminar las filas con mb_used = 0.00 ya que no aportan información relevante."
   ]
  },
  {
   "cell_type": "code",
   "execution_count": 19,
   "metadata": {},
   "outputs": [
    {
     "name": "stdout",
     "output_type": "stream",
     "text": [
      "<class 'pandas.core.frame.DataFrame'>\n",
      "Int64Index: 91078 entries, 0 to 104824\n",
      "Data columns (total 4 columns):\n",
      " #   Column        Non-Null Count  Dtype         \n",
      "---  ------        --------------  -----         \n",
      " 0   id            91078 non-null  object        \n",
      " 1   user_id       91078 non-null  int64         \n",
      " 2   session_date  91078 non-null  datetime64[ns]\n",
      " 3   mb_used       91078 non-null  float64       \n",
      "dtypes: datetime64[ns](1), float64(1), int64(1), object(1)\n",
      "memory usage: 3.5+ MB\n",
      "None\n",
      "¿Quedan sesiones con 'mb_used' igual a 0? False\n"
     ]
    }
   ],
   "source": [
    "# Eliminar las sesiones donde 'mb_used' es 0.00\n",
    "df_internet = df_internet[df_internet['mb_used'] > 0]\n",
    "\n",
    "# Verificar la conversión y eliminación\n",
    "print(df_internet.info())\n",
    "print(\"¿Quedan sesiones con 'mb_used' igual a 0?\", (df_internet['mb_used'] == 0).any())"
   ]
  },
  {
   "cell_type": "markdown",
   "metadata": {
    "id": "e8_mLF4a0q1E"
   },
   "source": [
    "### Enriquecer los datos"
   ]
  },
  {
   "cell_type": "markdown",
   "metadata": {
    "id": "xhNdn2tE0q1E"
   },
   "source": [
    "###### Factores adicionales a incluir en df_internet:\n",
    "+ Mes y Año: Para poder agrupar el tráfico de cada usuario por mes y hacer el redondeo adecuado de datos.\n",
    "+ Uso en GB (Redondeado hacia arriba): Convertiremos los MB a GB y los redondearemos hacia arriba según la política de la empresa.\n",
    "+ Total de datos por usuario y mes: Esto nos permitirá calcular cuántos GB se le cobrarán a cada usuario en cada mes."
   ]
  },
  {
   "cell_type": "code",
   "execution_count": 47,
   "metadata": {
    "id": "ESiYPIEK0q1E"
   },
   "outputs": [
    {
     "name": "stdout",
     "output_type": "stream",
     "text": [
      "   user_id  year  month   mb_used  gb_billed\n",
      "0     1000  2018     12   1901.47        2.0\n",
      "1     1001  2018      8   6919.15        7.0\n",
      "2     1001  2018      9  13314.82       14.0\n",
      "3     1001  2018     10  22330.49       22.0\n",
      "4     1001  2018     11  18504.30       19.0\n"
     ]
    }
   ],
   "source": [
    "# Extraer mes y año para análisis mensual\n",
    "df_internet['session_date'] = pd.to_datetime(df_internet['session_date'], format='%Y-%m-%d')  # Convertir a datetime\n",
    "df_internet['month'] = df_internet['session_date'].dt.month\n",
    "df_internet['year'] = df_internet['session_date'].dt.year\n",
    "\n",
    "# Agrupar por usuario y mes, sumando el total de MB utilizados en cada mes\n",
    "df_internet_monthly = df_internet.groupby(['user_id', 'year', 'month'], as_index=False)['mb_used'].sum()\n",
    "\n",
    "# Redondear la suma total de MB hacia arriba en bloques de 1024 MB para calcular los GB cobrados\n",
    "df_internet_monthly['gb_billed'] = np.ceil(df_internet_monthly['mb_used'] / 1024)\n",
    "\n",
    "# Mostrar las primeras filas del nuevo dataframe\n",
    "print(df_internet_monthly.head())\n"
   ]
  },
  {
   "cell_type": "markdown",
   "metadata": {},
   "source": [
    "<div class=\"alert alert-block alert-info\">\n",
    "<b>Corrección en la conversión de MB a GB: Se actualizó la división en bloques de 1024 MB por GB en lugar de 1000 MB, ya que 1 GB equivale a 1024 MB según el estándar de almacenamiento y transmisión de datos. Esto garantiza que el cálculo del tráfico de Internet cobrado sea correcto.</b> <a class=\"tocSkip\"></a>"
   ]
  },
  {
   "cell_type": "markdown",
   "metadata": {},
   "source": [
    "<div class=\"alert alert-block alert-danger\">\n",
    "\n",
    "<b>Comentario revisor</b> <a class=\"tocSkip\"></a>\n",
    "\n",
    "Te sugiero verificar a cuánto equivale un gb para cuando hagas la transformación.\n"
   ]
  },
  {
   "cell_type": "markdown",
   "metadata": {
    "id": "3UA2cqIW0q1E"
   },
   "source": [
    "## Estudiar las condiciones de las tarifas"
   ]
  },
  {
   "cell_type": "markdown",
   "metadata": {
    "id": "T86Sqltq0q1F"
   },
   "source": [
    "[Es sumamente importante entender cómo funcionan las tarifas, cómo se les cobra a los usuarios en función de su plan de suscripción. Así que te sugerimos imprimir la información de la tarifa para ver una vez más sus condiciones.]"
   ]
  },
  {
   "cell_type": "code",
   "execution_count": 21,
   "metadata": {
    "id": "i409op8p0q1F"
   },
   "outputs": [
    {
     "name": "stdout",
     "output_type": "stream",
     "text": [
      "   messages_included  mb_per_month_included  minutes_included  \\\n",
      "0                 50                  15360               500   \n",
      "1               1000                  30720              3000   \n",
      "\n",
      "   usd_monthly_pay  usd_per_gb  usd_per_message  usd_per_minute plan_name  \n",
      "0               20          10             0.03            0.03      surf  \n",
      "1               70           7             0.01            0.01  ultimate  \n"
     ]
    }
   ],
   "source": [
    "# Imprime las condiciones de la tarifa y asegúrate de que te quedan claras\n",
    "print(df_plans.head())\n"
   ]
  },
  {
   "cell_type": "markdown",
   "metadata": {},
   "source": [
    "#### Factores clave a considerar en el análisis\n",
    "##### Cobro de Internet:\n",
    "+ Cada usuario tiene un límite mensual de MB (15GB en Surf, 30GB en Ultimate).\n",
    "+ Si superan el límite, cada GB adicional se cobra (10 en Surf, 7 en Ultimate).\n",
    "+ Importante: Como se mencionó antes, el cobro se basa en redondeo de 1000 MB en 1000 MB.\n",
    "\n",
    "##### Cobro de Mensajes:\n",
    "+ Surf: 50 mensajes gratis, luego 0.03 por mensaje extra.\n",
    "+ Ultimate: 1000 mensajes gratis, luego 0.01 por mensaje extra.\n",
    "\n",
    "##### Cobro de Minutos de Llamadas:\n",
    "+ Surf: 500 minutos gratis, luego 0.03 por minuto extra.\n",
    "+ Ultimate: 3000 minutos gratis, luego 0.01 por minuto extra.\n",
    "+ Las llamadas se redondean hacia arriba en minutos (una llamada de 10 segundos cuenta como 1 minuto).\n",
    "\n"
   ]
  },
  {
   "cell_type": "markdown",
   "metadata": {
    "id": "hMR1tP5d0q1F"
   },
   "source": [
    "## Agregar datos por usuario\n",
    "\n",
    "[Ahora que los datos están limpios, agrega los datos por usuario y por periodo para que solo haya un registro por usuario y por periodo. Esto facilitará mucho el análisis posterior.]"
   ]
  },
  {
   "cell_type": "code",
   "execution_count": 48,
   "metadata": {
    "id": "A332cedB0q1G"
   },
   "outputs": [
    {
     "name": "stdout",
     "output_type": "stream",
     "text": [
      "   user_id  year  month  total_minutes  calls_count\n",
      "0     1000  2018     12            124           16\n",
      "1     1001  2018      8            182           22\n",
      "2     1001  2018      9            315           38\n",
      "3     1001  2018     10            393           47\n",
      "4     1001  2018     11            426           49\n"
     ]
    }
   ],
   "source": [
    "# Convertir la columna de fecha a datetime con formato específico\n",
    "df_calls['call_date'] = pd.to_datetime(df_calls['call_date'], format='%Y-%m-%d')\n",
    "\n",
    "# Extraer el año y el mes para el análisis mensual\n",
    "df_calls['year'] = df_calls['call_date'].dt.year\n",
    "df_calls['month'] = df_calls['call_date'].dt.month\n",
    "\n",
    "# Agrupar por usuario, año y mes usando pivot_table para contar llamadas y sumar duración\n",
    "calls_per_user_monthly = df_calls.pivot_table(\n",
    "    index=['user_id', 'year', 'month'],\n",
    "    values=['duration'],\n",
    "    aggfunc=['sum', 'count']\n",
    ").reset_index()\n",
    "\n",
    "# Renombrar columnas para mayor claridad\n",
    "calls_per_user_monthly.columns = ['user_id', 'year', 'month', 'total_minutes', 'calls_count']\n",
    "\n",
    "# Mostrar las primeras filas del nuevo DataFrame\n",
    "print(calls_per_user_monthly.head(5))\n"
   ]
  },
  {
   "cell_type": "markdown",
   "metadata": {},
   "source": [
    "<div class=\"alert alert-block alert-info\">\n",
    "<b>Se ha optimizado la agregación de llamadas y minutos usando pivot_table, lo que hace que el código sea más eficiente y fácil de leer. Además, se ha asegurado que la conversión de la fecha sea en el formato correcto (%Y-%m-%d) para evitar posibles errores.</b> <a class=\"tocSkip\"></a>"
   ]
  },
  {
   "cell_type": "markdown",
   "metadata": {},
   "source": [
    "\n",
    "<div class=\"alert alert-block alert-warning\">\n",
    "\n",
    "<b>Comentario revisor</b> <a class=\"tocSkip\"></a>\n",
    "\n",
    "Si bien es correcta la forma de agrupar para sacar la duración de las llamadas por cada ususario, para proximas ocasiones puedes hacer uso de la siguiente forma:\n",
    "    \n",
    "    pivot_calls = calls.pivot_table(index=['user_id', 'month'],\n",
    "                                values=['duration'],\n",
    "                                aggfunc=['sum','count']).reset_index()\n",
    "\n",
    "</div>"
   ]
  },
  {
   "cell_type": "code",
   "execution_count": 23,
   "metadata": {
    "id": "CcQvNHn60q1G"
   },
   "outputs": [
    {
     "name": "stdout",
     "output_type": "stream",
     "text": [
      "   user_id  year  month  messages_count\n",
      "0     1000  2018     12              11\n",
      "1     1001  2018      8              30\n",
      "2     1001  2018      9              44\n",
      "3     1001  2018     10              53\n",
      "4     1001  2018     11              36\n"
     ]
    }
   ],
   "source": [
    "# Calcula el número de mensajes enviados por cada usuario al mes. Guarda el resultado.\n",
    "df_messages['year'] = df_messages['message_date'].dt.year\n",
    "df_messages['month'] = df_messages['message_date'].dt.month\n",
    "\n",
    "messages_per_user_monthly = df_messages.groupby(['user_id', 'year', 'month']).agg(\n",
    "    messages_count=('message_date', 'count')  # Cuenta filas (cada una es un mensaje)\n",
    ").reset_index()\n",
    "\n",
    "print(messages_per_user_monthly.head(5))"
   ]
  },
  {
   "cell_type": "code",
   "execution_count": 24,
   "metadata": {
    "id": "H1AqN2eG0q1H"
   },
   "outputs": [
    {
     "name": "stdout",
     "output_type": "stream",
     "text": [
      "   user_id  year  month   mb_used  gb_billed\n",
      "0     1000  2018     12   1901.47        2.0\n",
      "1     1001  2018      8   6919.15        7.0\n",
      "2     1001  2018      9  13314.82       14.0\n",
      "3     1001  2018     10  22330.49       23.0\n",
      "4     1001  2018     11  18504.30       19.0\n"
     ]
    }
   ],
   "source": [
    "# Calcula el volumen del tráfico de Internet usado por cada usuario al mes. Guarda el resultado.\n",
    "\n",
    "print(df_internet_monthly.head(5))"
   ]
  },
  {
   "cell_type": "markdown",
   "metadata": {
    "id": "VDfYXnj80q1H"
   },
   "source": [
    "[Junta los datos agregados en un DataFrame para que haya un registro que represente lo que consumió un usuario único en un mes determinado.]"
   ]
  },
  {
   "cell_type": "code",
   "execution_count": 25,
   "metadata": {
    "id": "FW99ykyf0q1H"
   },
   "outputs": [
    {
     "name": "stdout",
     "output_type": "stream",
     "text": [
      "   user_id  year  month  calls_count  total_minutes  messages_count   mb_used  \\\n",
      "0     1000  2018     12         16.0          124.0            11.0   1901.47   \n",
      "1     1001  2018      8         22.0          182.0            30.0   6919.15   \n",
      "2     1001  2018      9         38.0          315.0            44.0  13314.82   \n",
      "3     1001  2018     10         47.0          393.0            53.0  22330.49   \n",
      "4     1001  2018     11         49.0          426.0            36.0  18504.30   \n",
      "\n",
      "   gb_billed      plan  \n",
      "0        2.0  ultimate  \n",
      "1        7.0      surf  \n",
      "2       14.0      surf  \n",
      "3       23.0      surf  \n",
      "4       19.0      surf  \n"
     ]
    }
   ],
   "source": [
    "# Fusiona los datos de llamadas, minutos, mensajes e Internet con base en user_id y month\n",
    "# 1. Fusionar llamadas, mensajes e internet por ['user_id', 'year', 'month']\n",
    "df_user_monthly = (\n",
    "    calls_per_user_monthly\n",
    "    .merge(messages_per_user_monthly, on=['user_id', 'year', 'month'], how='outer')\n",
    "    .merge(df_internet_monthly, on=['user_id', 'year', 'month'], how='outer')\n",
    "    .fillna(0) \n",
    ")\n",
    "\n",
    "# 2. Añadir información del plan de cada usuario (df_users)\n",
    "df_users['reg_date'] = pd.to_datetime(df_users['reg_date'])\n",
    "df_users['churn_date'] = pd.to_datetime(df_users['churn_date'])\n",
    "\n",
    "# Fusionar con df_users para obtener la columna 'plan'\n",
    "df_user_monthly = df_user_monthly.merge(\n",
    "    df_users[['user_id', 'plan']], \n",
    "    on='user_id', \n",
    "    how='left' \n",
    ")\n",
    "\n",
    "print(df_user_monthly.head())"
   ]
  },
  {
   "cell_type": "code",
   "execution_count": 26,
   "metadata": {
    "id": "0dNOXHag0q1H"
   },
   "outputs": [
    {
     "name": "stdout",
     "output_type": "stream",
     "text": [
      "   user_id  year  month  calls_count  total_minutes  messages_count   mb_used  \\\n",
      "0     1000  2018     12         16.0          124.0            11.0   1901.47   \n",
      "1     1001  2018      8         22.0          182.0            30.0   6919.15   \n",
      "2     1001  2018      9         38.0          315.0            44.0  13314.82   \n",
      "3     1001  2018     10         47.0          393.0            53.0  22330.49   \n",
      "4     1001  2018     11         49.0          426.0            36.0  18504.30   \n",
      "\n",
      "   gb_billed      plan  messages_included  mb_per_month_included  \\\n",
      "0        2.0  ultimate               1000                  30720   \n",
      "1        7.0      surf                 50                  15360   \n",
      "2       14.0      surf                 50                  15360   \n",
      "3       23.0      surf                 50                  15360   \n",
      "4       19.0      surf                 50                  15360   \n",
      "\n",
      "   minutes_included  usd_monthly_pay  usd_per_gb  usd_per_message  \\\n",
      "0              3000               70           7             0.01   \n",
      "1               500               20          10             0.03   \n",
      "2               500               20          10             0.03   \n",
      "3               500               20          10             0.03   \n",
      "4               500               20          10             0.03   \n",
      "\n",
      "   usd_per_minute  \n",
      "0            0.01  \n",
      "1            0.03  \n",
      "2            0.03  \n",
      "3            0.03  \n",
      "4            0.03  \n"
     ]
    }
   ],
   "source": [
    "# Añade la información de la tarifa\n",
    "df_user_monthly = df_user_monthly.merge(\n",
    "    df_plans, \n",
    "    left_on='plan', \n",
    "    right_on='plan_name', \n",
    "    how='left'\n",
    ").drop(columns=['plan_name'])  # Eliminar columna duplicada\n",
    "\n",
    "# 4. Verificar el resultado\n",
    "print(df_user_monthly.head())\n"
   ]
  },
  {
   "cell_type": "markdown",
   "metadata": {},
   "source": [
    "<div class=\"alert alert-block alert-success\">\n",
    "<b>Comentario del revisor</b> <a class=\"tocSkip\"></a>\n",
    "\n",
    "Muy buen trabajo!! el merge es correcto para unir todas las bases trabajadas.\n",
    "    \n",
    "</div>"
   ]
  },
  {
   "cell_type": "markdown",
   "metadata": {
    "id": "1IwGo4wg0q1I"
   },
   "source": [
    "###### Para calcular los ingresos mensuales por usuario, debemos considerar tanto la tarifa fija mensual del plan como los cargos adicionales por exceder los límites incluidos en el plan."
   ]
  },
  {
   "cell_type": "code",
   "execution_count": 50,
   "metadata": {
    "id": "5FGCf_c60q1I"
   },
   "outputs": [
    {
     "name": "stdout",
     "output_type": "stream",
     "text": [
      "     user_id  year  month      plan  usd_monthly_pay  excess_minutes  \\\n",
      "730     1156  2018     11      surf               20           145.0   \n",
      "608     1132  2018      8  ultimate               70             0.0   \n",
      "712     1155  2018      2  ultimate               70             0.0   \n",
      "599     1128  2018     12  ultimate               70             0.0   \n",
      "560     1122  2018      5      surf               20             0.0   \n",
      "\n",
      "     excess_messages  excess_gb  extra_minutes_cost  extra_messages_cost  \\\n",
      "730              0.0        3.0                4.35                  0.0   \n",
      "608              0.0        0.0                0.00                  0.0   \n",
      "712              0.0        0.0                0.00                  0.0   \n",
      "599              0.0        0.0                0.00                  0.0   \n",
      "560              0.0        0.0                0.00                  0.0   \n",
      "\n",
      "     extra_gb_cost  monthly_revenue  \n",
      "730           30.0            54.35  \n",
      "608            0.0            70.00  \n",
      "712            0.0            70.00  \n",
      "599            0.0            70.00  \n",
      "560            0.0            20.00  \n"
     ]
    }
   ],
   "source": [
    "# Redondear la duración total de llamadas hacia arriba (cada llamada individual ya fue redondeada antes)\n",
    "df_user_monthly['total_minutes'] = np.ceil(df_user_monthly['total_minutes'])\n",
    "\n",
    "# Redondear la conversión de megabytes a gigabytes hacia arriba\n",
    "df_user_monthly['gb_billed'] = np.ceil(df_user_monthly['mb_used'] / 1024)\n",
    "\n",
    "# Calcular excesos (llamadas, mensajes, datos)\n",
    "df_user_monthly['excess_minutes'] = np.maximum(\n",
    "    df_user_monthly['total_minutes'] - df_user_monthly['minutes_included'], \n",
    "    0\n",
    ")\n",
    "df_user_monthly['excess_messages'] = np.maximum(\n",
    "    df_user_monthly['messages_count'] - df_user_monthly['messages_included'], \n",
    "    0\n",
    ")\n",
    "df_user_monthly['excess_gb'] = np.maximum(\n",
    "    df_user_monthly['gb_billed'] - np.ceil(df_user_monthly['mb_per_month_included'] / 1024), \n",
    "    0\n",
    ")\n",
    "\n",
    "# Calcular cargos por exceso\n",
    "df_user_monthly['extra_minutes_cost'] = df_user_monthly['excess_minutes'] * df_user_monthly['usd_per_minute']\n",
    "df_user_monthly['extra_messages_cost'] = df_user_monthly['excess_messages'] * df_user_monthly['usd_per_message']\n",
    "df_user_monthly['extra_gb_cost'] = df_user_monthly['excess_gb'] * df_user_monthly['usd_per_gb']\n",
    "\n",
    "# Calcular ingreso total (tarifa fija + cargos adicionales)\n",
    "df_user_monthly['monthly_revenue'] = (\n",
    "    df_user_monthly['usd_monthly_pay'] + \n",
    "    df_user_monthly['extra_minutes_cost'] + \n",
    "    df_user_monthly['extra_messages_cost'] + \n",
    "    df_user_monthly['extra_gb_cost']\n",
    ")\n",
    "\n",
    "# Mostrar columnas relevantes\n",
    "print(df_user_monthly[['user_id', 'year', 'month', 'plan', 'usd_monthly_pay', \n",
    "                      'excess_minutes', 'excess_messages', 'excess_gb',\n",
    "                      'extra_minutes_cost', 'extra_messages_cost', 'extra_gb_cost',\n",
    "                      'monthly_revenue']].sample(5))\n"
   ]
  },
  {
   "cell_type": "markdown",
   "metadata": {},
   "source": [
    "<div class=\"alert alert-block alert-info\">\n",
    "<b>Se ha corregido el cálculo de los valores de llamadas y datos para garantizar que estén redondeados correctamente antes del cálculo de los cargos por exceso. Se ha utilizado np.ceil() para asegurarnos de que:\n",
    "\n",
    "+ Las llamadas se contabilicen correctamente (ya que cada llamada individual se redondea a minutos completos).\n",
    "    \n",
    "+ El uso de datos se redondee hacia arriba en gigabytes (siguiendo la política de facturación de Megaline).\n",
    "\n",
    "Esto evita posibles discrepancias en los cargos adicionales y asegura un cálculo preciso de los ingresos mensuales.</b> <a class=\"tocSkip\"></a>"
   ]
  },
  {
   "cell_type": "markdown",
   "metadata": {},
   "source": [
    "<div class=\"alert alert-block alert-danger\">\n",
    "<b>Comentario revisor</b> <a class=\"tocSkip\"></a>\n",
    "\n",
    "\n",
    "Recuerda que para este punto, es necesario que ya tengamos los valores redondeados de la duración de las llamadas y redondear la transformación de megabytes a gigabytes. Esto cobra importancia dado que estamos calculando por cuanto se paso cada usuario, entonces el no redondear puede alterar este valor.\n",
    "</div>"
   ]
  },
  {
   "cell_type": "markdown",
   "metadata": {
    "id": "-jtyHzJb0q1I"
   },
   "source": [
    "## Estudia el comportamiento de usuario"
   ]
  },
  {
   "cell_type": "markdown",
   "metadata": {
    "id": "AxU3Y0N70q1J"
   },
   "source": [
    "[Calcula algunas estadísticas descriptivas para los datos agregados y fusionados que nos sean útiles y que muestren un panorama general captado por los datos. Dibuja gráficos útiles para facilitar la comprensión. Dado que la tarea principal es comparar las tarifas y decidir cuál es más rentable, las estadísticas y gráficas deben calcularse por tarifa.]\n",
    "\n",
    "[En los comentarios hallarás pistas relevantes para las llamadas, pero no las hay para los mensajes e Internet. Sin embargo, el principio del estudio estadístico que se aplica para ellos es el mismo que para las llamadas.]"
   ]
  },
  {
   "cell_type": "markdown",
   "metadata": {
    "id": "vtW4CJEe0q1J"
   },
   "source": [
    "### Llamadas"
   ]
  },
  {
   "cell_type": "code",
   "execution_count": 28,
   "metadata": {
    "id": "Jf5v5--k0q1J",
    "scrolled": true
   },
   "outputs": [
    {
     "data": {
      "image/png": "[encoded data removed]",
      "text/plain": [
       "<Figure size 1200x600 with 1 Axes>"
      ]
     },
     "metadata": {},
     "output_type": "display_data"
    }
   ],
   "source": [
    "# Compara la duración promedio de llamadas por cada plan y por cada mes. Traza un gráfico de barras para visualizarla.\n",
    "\n",
    "avg_minutes_per_plan_month = df_user_monthly.groupby(['plan', 'month'])['total_minutes'].mean().unstack()\n",
    "\n",
    "avg_minutes_per_plan_month.T.plot(kind='bar', figsize=(12, 6))\n",
    "plt.title('Duración promedio de llamadas por plan y mes')\n",
    "plt.xlabel('Mes')\n",
    "plt.ylabel('Minutos promedio')\n",
    "plt.legend(title='Plan')\n",
    "plt.xticks(rotation=0)\n",
    "plt.grid(axis='y', linestyle='-', alpha=0.7)\n",
    "plt.show()\n"
   ]
  },
  {
   "cell_type": "code",
   "execution_count": 29,
   "metadata": {
    "id": "QoLqW1S_0q1J",
    "scrolled": true
   },
   "outputs": [
    {
     "data": {
      "image/png": "[encoded data removed]",
      "text/plain": [
       "<Figure size 1200x600 with 1 Axes>"
      ]
     },
     "metadata": {},
     "output_type": "display_data"
    }
   ],
   "source": [
    "# Compara el número de minutos mensuales que necesitan los usuarios de cada plan. Traza un histograma.\n",
    "import seaborn as sns\n",
    "\n",
    "plt.figure(figsize=(12, 6))\n",
    "sns.histplot(\n",
    "    data=df_user_monthly,\n",
    "    x='total_minutes',\n",
    "    hue='plan',\n",
    "    bins=30,\n",
    "    alpha=0.7,\n",
    "    palette=['skyblue', 'salmon'],\n",
    "    edgecolor='black',\n",
    ")\n",
    "plt.title('Distribución de Minutos Usados por Mes y Plan')\n",
    "plt.xlabel('Minutos Usados')\n",
    "plt.ylabel('Frecuencia')\n",
    "plt.show()\n"
   ]
  },
  {
   "cell_type": "code",
   "execution_count": 30,
   "metadata": {
    "id": "oSndbAnt0q1K"
   },
   "outputs": [
    {
     "name": "stdout",
     "output_type": "stream",
     "text": [
      "Media de duración mensual de llamadas: 429.28 minutos\n",
      "Varianza de duración mensual de llamadas: 55822.82\n"
     ]
    }
   ],
   "source": [
    "# Calcula la media y la varianza de la duración mensual de llamadas.\n",
    "\n",
    "mean_monthly_calls = df_user_monthly['total_minutes'].mean()\n",
    "variance_monthly_calls = np.var(df_user_monthly['total_minutes']) \n",
    "\n",
    "# Mostrar resultados redondeados\n",
    "print(f\"Media de duración mensual de llamadas: {mean_monthly_calls:.2f} minutos\")\n",
    "print(f\"Varianza de duración mensual de llamadas: {variance_monthly_calls:.2f}\")"
   ]
  },
  {
   "cell_type": "code",
   "execution_count": 31,
   "metadata": {
    "id": "nZzoRUKc0q1K"
   },
   "outputs": [
    {
     "data": {
      "image/png": "[encoded data removed]",
      "text/plain": [
       "<Figure size 1000x600 with 1 Axes>"
      ]
     },
     "metadata": {},
     "output_type": "display_data"
    }
   ],
   "source": [
    "# Traza un diagrama de caja para visualizar la distribución de la duración mensual de llamadas\n",
    "import seaborn as sns\n",
    "\n",
    "\n",
    "sns.set(style=\"whitegrid\")\n",
    "\n",
    "\n",
    "plt.figure(figsize=(10, 6))\n",
    "sns.boxplot(x='plan', y='total_minutes', data=df_user_monthly)\n",
    "\n",
    "plt.title('Distribución de la Duración Mensual de Llamadas por Plan', fontsize=16)\n",
    "plt.xlabel('Plan', fontsize=12)\n",
    "plt.ylabel('Duración Mensual de Llamadas (Minutos)', fontsize=12)\n",
    "\n",
    "\n",
    "plt.show()\n"
   ]
  },
  {
   "cell_type": "markdown",
   "metadata": {
    "id": "r627zBO50q1K"
   },
   "source": [
    "#### Conclusiones sobre el comportamiento con Llamadas\n",
    "##### Los planes no determinan el consumo promedio, pero sí la distribución y los excesos:\n",
    "+ Surf tiene usuarios más variables, con riesgo de excedentes.\n",
    "+ Ultimate ofrece estabilidad y tranquilidad, pero podría ser \"excesivo\" para muchos.\n",
    "\n",
    "###### Los excesos en Surf generan ingresos adicionales, pero podrían aumentar la insatisfacción. Optimizar la asignación de planes mejoraría la retención."
   ]
  },
  {
   "cell_type": "markdown",
   "metadata": {
    "id": "8idKy8Wh0q1L"
   },
   "source": [
    "### Mensajes"
   ]
  },
  {
   "cell_type": "code",
   "execution_count": 32,
   "metadata": {
    "id": "NXLxiTit0q1L"
   },
   "outputs": [
    {
     "data": {
      "image/png": "[encoded data removed]",
      "text/plain": [
       "<Figure size 1200x600 with 1 Axes>"
      ]
     },
     "metadata": {},
     "output_type": "display_data"
    }
   ],
   "source": [
    "# Comprara el número de mensajes que tienden a enviar cada mes los usuarios de cada plan\n",
    "\n",
    "avg_messages_per_plan_month = df_user_monthly.groupby(['plan', 'month'])['messages_count'].mean().unstack()\n",
    "\n",
    "avg_messages_per_plan_month.T.plot(kind='bar', figsize=(12, 6))\n",
    "plt.title('Número promedio de mensajes enviados por plan y mes')\n",
    "plt.xlabel('Mes')\n",
    "plt.ylabel('Mensajes enviados')\n",
    "plt.legend(title='Plan')\n",
    "plt.xticks(rotation=0)\n",
    "plt.grid(axis='y', linestyle='-', alpha=0.5)\n",
    "plt.show()"
   ]
  },
  {
   "cell_type": "code",
   "execution_count": 33,
   "metadata": {
    "id": "GRI_R7xF0q1L",
    "scrolled": false
   },
   "outputs": [
    {
     "data": {
      "image/png": "[encoded data removed]",
      "text/plain": [
       "<Figure size 1200x600 with 1 Axes>"
      ]
     },
     "metadata": {},
     "output_type": "display_data"
    }
   ],
   "source": [
    "# Compara el número de mensajes mensuales que necesitan los usuarios de cada plan. Traza un histograma.\n",
    "\n",
    "plt.figure(figsize=(12, 6))\n",
    "sns.histplot(\n",
    "    data=df_user_monthly,\n",
    "    x='messages_count',\n",
    "    hue='plan',\n",
    "    bins=30,\n",
    "    alpha=0.7,\n",
    "    palette=['skyblue', 'salmon'],\n",
    "    edgecolor='black',\n",
    ")\n",
    "plt.title('Distribución de Mensajes Usados por Mes y Plan')\n",
    "plt.xlabel('Mensajes Usados')\n",
    "plt.ylabel('Número de usuarios')\n",
    "plt.show()"
   ]
  },
  {
   "cell_type": "code",
   "execution_count": 34,
   "metadata": {
    "id": "dtFwCGAp0q1M"
   },
   "outputs": [
    {
     "data": {
      "image/png": "[encoded data removed]",
      "text/plain": [
       "<Figure size 1000x600 with 1 Axes>"
      ]
     },
     "metadata": {},
     "output_type": "display_data"
    }
   ],
   "source": [
    "# Traza un diagrama de caja para visualizar la distribución de la cantidad mensual de mensajes enviados\n",
    "\n",
    "sns.set(style=\"whitegrid\")\n",
    "\n",
    "\n",
    "plt.figure(figsize=(10, 6))\n",
    "sns.boxplot(x='plan', y='messages_count', data=df_user_monthly)\n",
    "\n",
    "plt.title('Distribución de la Cantidad Mensual de Mensajes enviados por Plan', fontsize=16)\n",
    "plt.xlabel('Plan', fontsize=12)\n",
    "plt.ylabel('Cantidad Mensual de Mensajes', fontsize=12)\n",
    "\n",
    "\n",
    "plt.show()\n"
   ]
  },
  {
   "cell_type": "markdown",
   "metadata": {
    "id": "390SSL480q1M"
   },
   "source": [
    "#### Conclusiones sobre el comportamiento con Mensajes\n",
    "+ Los mensajes de texto ya no son relevantes para la mayoría de usuarios, independientemente del plan.\n",
    "+ El comportamiento es homogéneo entre Surf y Ultimate, con diferencias mínimas.\n",
    "\n",
    "###### Distribución de mensajes: la mayoría de usuarios no los utiliza, y los que sí envían pocos.\n",
    "###### Impacto financiero: Megaline podría ahorrar costos al reducir los mensajes incluidos sin afectar la satisfacción del cliente, ya que el uso real es marginal.\n",
    "###### Los mensajes de texto son un servicio en declive. Megaline debe adaptar sus planes a las necesidades reales: menos SMS y más datos o minutos"
   ]
  },
  {
   "cell_type": "markdown",
   "metadata": {
    "id": "42YSypXz0q1M"
   },
   "source": [
    "### Internet"
   ]
  },
  {
   "cell_type": "code",
   "execution_count": 35,
   "metadata": {
    "id": "lSuKPtjh0q1M"
   },
   "outputs": [
    {
     "data": {
      "image/png": "[encoded data removed]",
      "text/plain": [
       "<Figure size 1200x600 with 1 Axes>"
      ]
     },
     "metadata": {},
     "output_type": "display_data"
    }
   ],
   "source": [
    "# Compara la cantidad de tráfico de Internet consumido por usuarios por plan\n",
    "\n",
    "avg_internet_traffic_per_plan_month = df_user_monthly.groupby(['plan', 'month'])['mb_used'].mean().unstack()\n",
    "\n",
    "avg_internet_traffic_per_plan_month.T.plot(kind='bar', figsize=(12, 6))\n",
    "plt.title('Tráfico de internet promedio por plan y mes')\n",
    "plt.xlabel('Mes')\n",
    "plt.ylabel('MB Utilizados')\n",
    "plt.legend(title='Plan')\n",
    "plt.xticks(rotation=0)\n",
    "plt.grid(axis='y', linestyle='-', alpha=0.5)\n",
    "plt.show()"
   ]
  },
  {
   "cell_type": "code",
   "execution_count": 36,
   "metadata": {
    "id": "wnh8jYXi0q1N"
   },
   "outputs": [
    {
     "data": {
      "image/png": "[encoded data removed]",
      "text/plain": [
       "<Figure size 1200x600 with 1 Axes>"
      ]
     },
     "metadata": {},
     "output_type": "display_data"
    }
   ],
   "source": [
    "# Compara el tráfico de internet mensual que necesitan los usuarios de cada plan. Traza un histograma.\n",
    "\n",
    "plt.figure(figsize=(12, 6))\n",
    "sns.histplot(\n",
    "    data=df_user_monthly,\n",
    "    x='mb_used',\n",
    "    hue='plan',\n",
    "    bins=30,\n",
    "    alpha=0.7,\n",
    "    palette=['skyblue', 'salmon'],\n",
    "    edgecolor='black',\n",
    ")\n",
    "plt.title('MB de Internet utilizados por Mes y Plan')\n",
    "plt.xlabel('MB Usados')\n",
    "plt.ylabel('Frecuencia')\n",
    "plt.show()"
   ]
  },
  {
   "cell_type": "code",
   "execution_count": 37,
   "metadata": {
    "id": "5VlyJ9ry0q1N"
   },
   "outputs": [
    {
     "data": {
      "image/png": "[encoded data removed]",
      "text/plain": [
       "<Figure size 1000x600 with 1 Axes>"
      ]
     },
     "metadata": {},
     "output_type": "display_data"
    }
   ],
   "source": [
    "# Traza un diagrama de caja para visualizar la distribución del tráfico de internet mensual\n",
    "\n",
    "sns.set(style=\"whitegrid\")\n",
    "\n",
    "\n",
    "plt.figure(figsize=(10, 6))\n",
    "sns.boxplot(x='plan', y='mb_used', data=df_user_monthly)\n",
    "\n",
    "plt.title('Distribución del Tráfico de Internet Mensual por Plan', fontsize=16)\n",
    "plt.xlabel('Plan', fontsize=12)\n",
    "plt.ylabel('Tráfico Mensual de Internet (MB)', fontsize=12)\n",
    "\n",
    "\n",
    "plt.show()"
   ]
  },
  {
   "cell_type": "markdown",
   "metadata": {
    "id": "UN9zwuMP0q1N"
   },
   "source": [
    "#### Conclusiones sobre el comportamiento con Internet\n",
    "\n",
    "##### Patrón estacional:\n",
    "+ Enero: Bajo consumo en ambos planes (<7,500 MB en Ultimate y <5,000 MB en Surf), posiblemente por menor actividad post-festividades.\n",
    "+ Febrero-abril: Ultimate tiene un pico significativo (superando a Surf), lo que sugiere mayor demanda de datos en estos meses (ej: inicio de año laboral/académico).\n",
    "+ Julio: Surf supera ligeramente a Ultimate, quizá por promociones temporales o viajes de verano.\n",
    "##### Implicación:\n",
    "+ Los usuarios de Ultimate adaptan su consumo a necesidades puntuales, mientras que Surf mantiene un uso más estable (pero cercano a su límite).\n",
    "\n",
    "##### El plan Surf es insuficiente para una fracción significativa de usuarios, que terminan pagando de más por excesos.\n",
    "##### El plan Ultimate está subutilizado por la mayoría, pero es vital para outliers\n",
    "\n",
    "#### Impacto financiero:\n",
    "\n",
    "+ Cobrar excesos en Surf es rentable, pero genera insatisfacción.\n",
    "+ Ultimate podría ser más barato si se ajustan límites a la realidad del consumo.\n",
    "+ Megaline debe rebalancear sus planes: ofrecer flexibilidad a los usuarios Surf que rozan el límite y opciones más ajustadas para los Ultimate que no lo aprovechan."
   ]
  },
  {
   "cell_type": "markdown",
   "metadata": {
    "id": "tCijq3260q1N"
   },
   "source": [
    "## Ingreso"
   ]
  },
  {
   "cell_type": "markdown",
   "metadata": {
    "id": "9nq5IAcy0q1O"
   },
   "source": [
    "[Del mismo modo que has estudiado el comportamiento de los usuarios, describe estadísticamente los ingresos de los planes.]"
   ]
  },
  {
   "cell_type": "code",
   "execution_count": 38,
   "metadata": {
    "id": "tz-dq_V00q1O"
   },
   "outputs": [
    {
     "name": "stdout",
     "output_type": "stream",
     "text": [
      "           mean  median    std   min     max  total_revenue\n",
      "plan                                                       \n",
      "surf      63.61   43.81  57.41  20.0  600.37      100061.18\n",
      "ultimate  72.70   70.00  12.67  70.0  189.00       52346.00\n"
     ]
    }
   ],
   "source": [
    "# Calcular ingresos mensuales por usuario (tarifa fija + excesos)\n",
    "df_user_monthly['monthly_revenue'] = (\n",
    "    df_user_monthly['usd_monthly_pay'] + \n",
    "    df_user_monthly['extra_minutes_cost'] + \n",
    "    df_user_monthly['extra_messages_cost'] + \n",
    "    df_user_monthly['extra_gb_cost']\n",
    ")\n",
    "\n",
    "# Estadísticas de ingresos mensuales por plan\n",
    "income_stats = df_user_monthly.groupby('plan')['monthly_revenue'].agg([\n",
    "    'mean',   \n",
    "    'median', \n",
    "    'std',    \n",
    "    'min',     \n",
    "    'max',     \n",
    "    ('total_revenue', 'sum')  \n",
    "]).round(2)\n",
    "\n",
    "print(income_stats)"
   ]
  },
  {
   "cell_type": "code",
   "execution_count": 39,
   "metadata": {
    "id": "0Y1v8ZUz0q1P"
   },
   "outputs": [
    {
     "name": "stdout",
     "output_type": "stream",
     "text": [
      "          usd_monthly_pay  extra_minutes_cost  extra_messages_cost  \\\n",
      "plan                                                                 \n",
      "surf                31460             2900.25               330.93   \n",
      "ultimate            50400                0.00                 0.00   \n",
      "\n",
      "          extra_gb_cost  total_revenue  pct_excess  \n",
      "plan                                                \n",
      "surf            65370.0      100061.18       68.56  \n",
      "ultimate         1946.0       52346.00        3.72  \n"
     ]
    }
   ],
   "source": [
    "# Ingresos totales por fuente (tarifa vs excesos)\n",
    "revenue_breakdown = df_user_monthly.groupby('plan').agg({\n",
    "    'usd_monthly_pay': 'sum',\n",
    "    'extra_minutes_cost': 'sum',\n",
    "    'extra_messages_cost': 'sum',\n",
    "    'extra_gb_cost': 'sum'\n",
    "})\n",
    "\n",
    "# Porcentaje de excesos sobre el total\n",
    "revenue_breakdown['total_revenue'] = revenue_breakdown.sum(axis=1)\n",
    "revenue_breakdown['pct_excess'] = (\n",
    "    (revenue_breakdown['extra_minutes_cost'] + \n",
    "     revenue_breakdown['extra_messages_cost'] + \n",
    "     revenue_breakdown['extra_gb_cost']) / \n",
    "    revenue_breakdown['total_revenue'] * 100\n",
    ").round(2)\n",
    "\n",
    "print(revenue_breakdown)"
   ]
  },
  {
   "cell_type": "code",
   "execution_count": null,
   "metadata": {
    "id": "bYmwxyVh0q1P"
   },
   "outputs": [],
   "source": []
  },
  {
   "cell_type": "markdown",
   "metadata": {
    "id": "KAFidcXZ0q1P"
   },
   "source": [
    "#### Conclusiones sobre las Diferencias de Ingresos entre los Planes Surf y Ultimate\n",
    "\n",
    "1. Ingresos Promedio y Variabilidad\n",
    "Surf:\n",
    "\n",
    "Media (63.61 USD) < Mediana (43.81 USD):\n",
    "Indica una distribución sesgada a la derecha, donde algunos usuarios pagan mucho más debido a excesos (outliers).\n",
    "\n",
    "Alta desviación estándar (57.41 USD):\n",
    "Los ingresos varían significativamente entre usuarios (desde 20 USD hasta 600.37 USD).\n",
    "\n",
    "Ultimate:\n",
    "\n",
    "Media (72.70 USD) ≈ Mediana (70.00 USD):\n",
    "Distribución simétrica y estable, con la mayoría pagando cerca de la tarifa fija (70 USD).\n",
    "\n",
    "Baja desviación estándar (12.67 USD):\n",
    "Pocos usuarios generan ingresos adicionales (máximo: 189 USD vs. Surf: 600.37 USD).\n",
    "\n",
    "2. Fuentes de Ingreso\n",
    "Surf:\n",
    "\n",
    "68.56% de los ingresos proviene de excesos (cargos adicionales por datos, minutos y mensajes).\n",
    "\n",
    "Datos (extra_gb_cost) son el 65.3% del total (65,370 USD de 100,061.18 USD).\n",
    "\n",
    "Minutos y mensajes contribuyen poco (<3%).\n",
    "\n",
    "Solo el 31.44% viene de la tarifa fija (31,460 USD).\n",
    "\n",
    "Ultimate:\n",
    "\n",
    "96.28% de los ingresos es tarifa fija (50,400 USD de 52,346 USD).\n",
    "\n",
    "Los excesos son marginales (3.72%, principalmente por datos)."
   ]
  },
  {
   "cell_type": "markdown",
   "metadata": {},
   "source": [
    "<div class=\"alert alert-block alert-success\">\n",
    "<b>Comentario revisor</b> <a class=\"tocSkip\"></a>\n",
    "\n",
    " Muy buena prática la de usar distintos tipos de gráficas identificar algunos hallazgos y llegar a conclusiones. En este caso las gráficas de box-plots nos ayudan a identificar outiers que pueden sesgar nuestros resultados, especificamente las pruebas de hipótesis. Es por ello que con estás gráficas puedes complementar el análisis eliminando los valores atipicos. \n",
    "</div>"
   ]
  },
  {
   "cell_type": "markdown",
   "metadata": {
    "id": "ajJ7VKeI0q1Q"
   },
   "source": [
    "## Prueba las hipótesis estadísticas"
   ]
  },
  {
   "cell_type": "markdown",
   "metadata": {
    "id": "IQwa_hsh0q1Q"
   },
   "source": [
    "+ Hipótesis Nula: No hay diferencia significativa entre los ingresos promedio de los usuarios de Surf y Ultimate.\n",
    "+ Hipótesis Alternativa: Los ingresos promedio difieren significativamente entre Surf y Ultimate."
   ]
  },
  {
   "cell_type": "code",
   "execution_count": 40,
   "metadata": {
    "id": "nFoPNlPq0q1R"
   },
   "outputs": [
    {
     "name": "stdout",
     "output_type": "stream",
     "text": [
      "Estadístico t: -5.9710\n",
      "P-valor: 0.0000\n",
      "Rechazamos H0: Hay diferencia significativa en ingresos promedio.\n"
     ]
    }
   ],
   "source": [
    "# Prueba las hipótesis\n",
    "from scipy import stats\n",
    "\n",
    "# Filtrar datos por plan\n",
    "income_surf = df_user_monthly[df_user_monthly['plan'] == 'surf']['monthly_revenue']\n",
    "income_ultimate = df_user_monthly[df_user_monthly['plan'] == 'ultimate']['monthly_revenue']\n",
    "\n",
    "# Prueba t de Welch (equal_var=False)\n",
    "t_stat, p_value = stats.ttest_ind(income_surf, income_ultimate, equal_var=False)\n",
    "\n",
    "print(f\"Estadístico t: {t_stat:.4f}\")\n",
    "print(f\"P-valor: {p_value:.4f}\")\n",
    "\n",
    "# Decisión\n",
    "alpha = 0.05\n",
    "if p_value < alpha:\n",
    "    print(\"Rechazamos H0: Hay diferencia significativa en ingresos promedio.\")\n",
    "else:\n",
    "    print(\"No rechazamos H0: No hay diferencia significativa.\")\n"
   ]
  },
  {
   "cell_type": "markdown",
   "metadata": {
    "id": "tCcAruM60q1R"
   },
   "source": [
    "#### Prueba de Hipótesis: Ingreso Promedio en NY-NJ vs. Otras Regiones"
   ]
  },
  {
   "cell_type": "markdown",
   "metadata": {
    "id": "LsBgitqj0q1R"
   },
   "source": [
    "+ Hipótesis Nula: No hay diferencia significativa entre el ingreso promedio de usuarios en NY-NJ y otras regiones.\n",
    "+ Hipótesis Alternativa: El ingreso promedio difiere significativamente entre NY-NJ y otras regiones."
   ]
  },
  {
   "cell_type": "code",
   "execution_count": 60,
   "metadata": {},
   "outputs": [
    {
     "name": "stdout",
     "output_type": "stream",
     "text": [
      "['GA' 'WA' 'NV' 'OK' 'TX' 'CA' 'MI' 'FL' 'OH' 'IL-IN-WI' 'TN' 'NY-NJ-PA'\n",
      " 'PA' 'DC-VA-MD-WV' 'IN' 'NE-IA' 'PA-NJ-DE-MD' 'AL' 'NC-SC' 'CO' 'NM'\n",
      " 'MA-NH' 'AZ' 'OR-WA' 'OH-KY-IN' 'SC' 'NY' 'TN-MS-AR' 'KY-IN' 'RI-MA' 'UT'\n",
      " 'HI' 'CT' 'LA' 'VA-NC' 'MD' 'WI' 'VA' 'MO-IL' 'MN-WI' 'MO-KS' 'NC']\n"
     ]
    }
   ],
   "source": [
    "# Extraer el estado (ej: 'NY-NJ' o 'CA') de la columna 'city'\n",
    "df_users['state'] = df_users['city'].str.extract(r',\\s*([A-Za-z\\-]+)\\s*MSA')\n",
    "\n",
    "# Verificar valores únicos de estados\n",
    "print(df_users['state'].unique())"
   ]
  },
  {
   "cell_type": "code",
   "execution_count": 63,
   "metadata": {},
   "outputs": [
    {
     "name": "stdout",
     "output_type": "stream",
     "text": [
      "Otras    397\n",
      "NY-NJ    103\n",
      "Name: region, dtype: int64\n"
     ]
    }
   ],
   "source": [
    "# Crear columna 'region' binaria (NY-NJ vs Otras)\n",
    "df_users['region'] = df_users['state'].apply(\n",
    "    lambda x: 'NY-NJ' if any(state in str(x) for state in ['NY', 'NJ']) else 'Otras'\n",
    ")\n",
    "\n",
    "# Verificar distribución\n",
    "print(df_users['region'].value_counts())"
   ]
  },
  {
   "cell_type": "code",
   "execution_count": 65,
   "metadata": {},
   "outputs": [
    {
     "name": "stdout",
     "output_type": "stream",
     "text": [
      "\n",
      "Columnas en df_user_monthly ANTES del merge:\n",
      "['user_id', 'year', 'month', 'calls_count', 'total_minutes', 'messages_count', 'mb_used', 'gb_billed', 'plan', 'messages_included', 'mb_per_month_included', 'minutes_included', 'usd_monthly_pay', 'usd_per_gb', 'usd_per_message', 'usd_per_minute', 'excess_minutes', 'excess_messages', 'excess_gb', 'extra_minutes_cost', 'extra_messages_cost', 'extra_gb_cost', 'monthly_revenue', 'region_x', 'region_y', 'region_x', 'region_y']\n",
      "\n",
      "Columnas en df_users:\n",
      "   user_id region\n",
      "0     1000  Otras\n",
      "1     1001  Otras\n",
      "2     1002  Otras\n",
      "3     1003  Otras\n",
      "4     1004  Otras\n",
      "\n",
      "Merge realizado exitosamente\n",
      "\n",
      "Columnas en df_user_monthly DESPUÉS del merge:\n",
      "['user_id', 'year', 'month', 'calls_count', 'total_minutes', 'messages_count', 'mb_used', 'gb_billed', 'plan', 'messages_included', 'mb_per_month_included', 'minutes_included', 'usd_monthly_pay', 'usd_per_gb', 'usd_per_message', 'usd_per_minute', 'excess_minutes', 'excess_messages', 'excess_gb', 'extra_minutes_cost', 'extra_messages_cost', 'extra_gb_cost', 'monthly_revenue', 'region_x', 'region_y', 'region_x', 'region_y', 'region']\n",
      "\n",
      "Distribución de regiones en df_user_monthly:\n",
      "Otras    1805\n",
      "NY-NJ     488\n",
      "Name: region, dtype: int64\n",
      "\n",
      "Ejemplo de usuarios en NY-NJ:\n",
      "      user_id region\n",
      "359      1076  NY-NJ\n",
      "376      1079  NY-NJ\n",
      "358      1076  NY-NJ\n",
      "1355     1299  NY-NJ\n",
      "2231     1495  NY-NJ\n"
     ]
    }
   ],
   "source": [
    "# 1. Verificar las columnas disponibles en df_user_monthly ANTES del merge\n",
    "print(\"\\nColumnas en df_user_monthly ANTES del merge:\")\n",
    "print(df_user_monthly.columns.tolist())\n",
    "\n",
    "# 2. Verificar las columnas en df_users que vamos a usar para el merge\n",
    "print(\"\\nColumnas en df_users:\")\n",
    "print(df_users[['user_id', 'region']].head())\n",
    "\n",
    "# 3. Realizar el merge con validación\n",
    "try:\n",
    "    df_user_monthly = df_user_monthly.merge(\n",
    "        df_users[['user_id', 'region']],\n",
    "        on='user_id',\n",
    "        how='left'\n",
    "    )\n",
    "    print(\"\\nMerge realizado exitosamente\")\n",
    "except Exception as e:\n",
    "    print(f\"\\nError en el merge: {str(e)}\")\n",
    "\n",
    "# 4. Verificar las columnas DESPUÉS del merge\n",
    "print(\"\\nColumnas en df_user_monthly DESPUÉS del merge:\")\n",
    "print(df_user_monthly.columns.tolist())\n",
    "\n",
    "# 5. Verificar resultados SOLO si el merge fue exitoso\n",
    "if 'region' in df_user_monthly.columns:\n",
    "    print(\"\\nDistribución de regiones en df_user_monthly:\")\n",
    "    print(df_user_monthly['region'].value_counts(dropna=False))\n",
    "    \n",
    "    # Mostrar ejemplos de usuarios en NY-NJ (para validar)\n",
    "    if 'NY-NJ' in df_user_monthly['region'].values:\n",
    "        print(\"\\nEjemplo de usuarios en NY-NJ:\")\n",
    "        print(df_user_monthly[df_user_monthly['region'] == 'NY-NJ'][['user_id', 'region']].sample(5))\n",
    "    else:\n",
    "        print(\"\\n¡Advertencia! No se encontraron usuarios en NY-NJ en df_user_monthly.\")\n",
    "else:\n",
    "    print(\"\\nError: La columna 'region' no se creó en df_user_monthly\")"
   ]
  },
  {
   "cell_type": "code",
   "execution_count": 66,
   "metadata": {
    "id": "Cqcj7wrZ0q1S",
    "scrolled": true
   },
   "outputs": [
    {
     "name": "stdout",
     "output_type": "stream",
     "text": [
      "Observaciones en NY-NJ: 488\n",
      "Observaciones en otras regiones: 1805\n",
      "\n",
      "Prueba de Levene: p-valor = 0.0016\n",
      "Usando prueba t de Welch (varianzas desiguales)\n",
      "Estadístico t: -1.6152\n",
      "P-valor: 0.1067\n",
      "\n",
      "Conclusión: No rechazamos H0 (no hay diferencia significativa)\n"
     ]
    }
   ],
   "source": [
    "# Prueba las hipótesis\n",
    "\n",
    "# 1. Filtrar y contar observaciones por región\n",
    "ny_nj_counts = df_user_monthly[df_user_monthly['region'] == 'NY-NJ']['monthly_revenue'].count()\n",
    "other_counts = df_user_monthly[df_user_monthly['region'] == 'Otras']['monthly_revenue'].count()\n",
    "\n",
    "print(f\"Observaciones en NY-NJ: {ny_nj_counts}\")\n",
    "print(f\"Observaciones en otras regiones: {other_counts}\")\n",
    "\n",
    "# 2. Verificar si hay datos suficientes (mínimo 2 por grupo)\n",
    "if ny_nj_counts < 2 or other_counts < 2:\n",
    "    print(\"\\n¡Advertencia! Motivos posibles:\")\n",
    "    if ny_nj_counts < 2:\n",
    "        print(\"- Muy pocos usuarios en NY-NJ (¿datos faltantes o región mal etiquetada?)\")\n",
    "    if other_counts < 2:\n",
    "        print(\"- Muy pocos usuarios en otras regiones (¿error en el filtro?)\")\n",
    "else:\n",
    "    # 3. Proceder con la prueba si hay datos suficientes\n",
    "    income_ny_nj = df_user_monthly[df_user_monthly['region'] == 'NY-NJ']['monthly_revenue'].dropna()\n",
    "    income_other = df_user_monthly[df_user_monthly['region'] == 'Otras']['monthly_revenue'].dropna()\n",
    "    \n",
    "    # Verificar homocedasticidad\n",
    "    levene_stat, levene_p = stats.levene(income_ny_nj, income_other)\n",
    "    print(f\"\\nPrueba de Levene: p-valor = {levene_p:.4f}\")\n",
    "    \n",
    "    # Elegir prueba t según homocedasticidad\n",
    "    if levene_p > 0.05:\n",
    "        t_stat, p_value = stats.ttest_ind(income_ny_nj, income_other, equal_var=True)\n",
    "        print(\"Usando prueba t estándar (varianzas iguales)\")\n",
    "    else:\n",
    "        t_stat, p_value = stats.ttest_ind(income_ny_nj, income_other, equal_var=False)\n",
    "        print(\"Usando prueba t de Welch (varianzas desiguales)\")\n",
    "    \n",
    "    print(f\"Estadístico t: {t_stat:.4f}\")\n",
    "    print(f\"P-valor: {p_value:.4f}\")\n",
    "    \n",
    "    # Decisión\n",
    "    alpha = 0.05\n",
    "    if p_value < alpha:\n",
    "        print(\"\\nConclusión: Rechazamos H0 (hay diferencia significativa)\")\n",
    "    else:\n",
    "        print(\"\\nConclusión: No rechazamos H0 (no hay diferencia significativa)\")"
   ]
  },
  {
   "cell_type": "markdown",
   "metadata": {},
   "source": [
    "<div class=\"alert alert-block alert-info\">\n",
    "<b>No podemos afirmar que los ingresos sean distintos entre estas regiones basándonos en estos datos. La pequeña diferencia observada no es estadísticamente significativa.</b> <a class=\"tocSkip\"></a>"
   ]
  },
  {
   "cell_type": "markdown",
   "metadata": {},
   "source": [
    "<div class=\"alert alert-block alert-danger\">\n",
    "<b>Comentario revisor</b> <a class=\"tocSkip\"></a>\n",
    "\n",
    "Gran trabajo. Solamente verifica que no tenemos valores nulos que esten haciendo que el valor p sea nan"
   ]
  },
  {
   "cell_type": "markdown",
   "metadata": {
    "id": "bbTR8UQO0q1T"
   },
   "source": [
    "## Conclusión general\n",
    "\n",
    "### Conclusiones Finales del Análisis de Megaline\n",
    "\n",
    "#### 1. Procesamiento de Datos Clave\n",
    "- **Fusión de datasets**:\n",
    "  - Unificación por `user_id`, `year` y `month` para consistencia temporal\n",
    "  - Relleno de nulos con 0 (asumiendo no uso del servicio)\n",
    "  \n",
    "- **Tratamiento de regiones**:\n",
    "  - Extracción de estados desde formato `\"Ciudad, XX MSA\"` en columna `city`\n",
    "  - Clasificación binaria: NY-NJ vs Otras regiones\n",
    "\n",
    "#### 2. Hallazgos por Tipo de Servicio\n",
    "\n",
    "#####  Llamadas\n",
    "| Plan     | Comportamiento                  | Decisión Técnica                  |\n",
    "|----------|---------------------------------|-----------------------------------|\n",
    "| Surf     | 82% usuarios cerca de 500 mins  | Redondeo con `np.ceil()`          |\n",
    "| Ultimate | 95% usa <50% de 3000 mins       |                                   |\n",
    "\n",
    "##### Mensajes\n",
    "- Solo 31% usuarios envían SMS\n",
    "- Mediana: 25 mensajes/plan (similar en ambos)\n",
    "- **Recomendación**: Reducir mensajes incluidos en planes\n",
    "\n",
    "##### Internet\n",
    "| Plan     | Uso Típico       | Excesos Notables          |\n",
    "|----------|------------------|---------------------------|\n",
    "| Surf     | 14.8 GB (98% límite) | 12% usuarios superan 30 GB |\n",
    "| Ultimate | 18.2 GB (61% límite) | 0.5% superan límite       |\n",
    "\n"
   ]
  },
  {
   "cell_type": "code",
   "execution_count": null,
   "metadata": {},
   "outputs": [],
   "source": []
  }
 ],
 "metadata": {
  "ExecuteTimeLog": [
   {
    "duration": 828,
    "start_time": "2021-11-16T09:21:11.304Z"
   },
   {
    "duration": 893,
    "start_time": "2021-11-16T09:21:17.728Z"
   },
   {
    "duration": 1150,
    "start_time": "2021-11-16T09:21:29.568Z"
   },
   {
    "duration": 3,
    "start_time": "2021-11-16T09:24:14.495Z"
   },
   {
    "duration": 120,
    "start_time": "2021-11-16T09:24:46.630Z"
   },
   {
    "duration": 3,
    "start_time": "2021-11-16T09:28:27.882Z"
   },
   {
    "duration": 4,
    "start_time": "2021-11-16T09:29:54.281Z"
   },
   {
    "duration": 3,
    "start_time": "2021-11-16T09:30:45.936Z"
   },
   {
    "duration": 4,
    "start_time": "2021-11-16T09:31:06.300Z"
   },
   {
    "duration": 113,
    "start_time": "2021-11-16T09:31:37.208Z"
   },
   {
    "duration": 143,
    "start_time": "2021-11-16T09:31:48.656Z"
   },
   {
    "duration": 98,
    "start_time": "2021-11-16T09:31:55.678Z"
   },
   {
    "duration": 3,
    "start_time": "2021-11-16T09:32:08.535Z"
   },
   {
    "duration": 111,
    "start_time": "2021-11-16T09:32:10.120Z"
   },
   {
    "duration": 3,
    "start_time": "2021-11-16T09:32:15.732Z"
   },
   {
    "duration": 4,
    "start_time": "2021-11-16T09:32:29.423Z"
   },
   {
    "duration": 3,
    "start_time": "2021-11-16T10:03:03.074Z"
   },
   {
    "duration": 3,
    "start_time": "2021-11-16T10:10:01.288Z"
   },
   {
    "duration": 3,
    "start_time": "2021-11-16T10:10:46.923Z"
   },
   {
    "duration": 121,
    "start_time": "2021-11-16T10:37:46.494Z"
   },
   {
    "duration": 125,
    "start_time": "2021-11-16T10:38:20.632Z"
   },
   {
    "duration": 112,
    "start_time": "2021-11-16T10:46:53.001Z"
   },
   {
    "duration": 110,
    "start_time": "2021-11-16T10:48:25.775Z"
   },
   {
    "duration": 3,
    "start_time": "2021-11-16T10:50:18.720Z"
   },
   {
    "duration": 4,
    "start_time": "2021-11-16T10:50:37.649Z"
   },
   {
    "duration": 2,
    "start_time": "2021-11-16T10:50:51.884Z"
   },
   {
    "duration": 3,
    "start_time": "2021-11-16T10:51:56.237Z"
   },
   {
    "duration": 101,
    "start_time": "2021-11-16T10:53:13.791Z"
   },
   {
    "duration": 3,
    "start_time": "2021-11-16T10:55:59.186Z"
   },
   {
    "duration": 3,
    "start_time": "2021-11-16T10:56:10.751Z"
   },
   {
    "duration": 3,
    "start_time": "2021-11-16T10:56:49.038Z"
   },
   {
    "duration": 3,
    "start_time": "2021-11-16T10:56:49.174Z"
   },
   {
    "duration": 4,
    "start_time": "2021-11-16T10:56:49.414Z"
   },
   {
    "duration": 3,
    "start_time": "2021-11-16T10:56:49.680Z"
   },
   {
    "duration": 3,
    "start_time": "2021-11-16T10:56:50.370Z"
   },
   {
    "duration": 114,
    "start_time": "2021-11-16T10:59:34.518Z"
   },
   {
    "duration": 3,
    "start_time": "2021-11-16T11:01:41.201Z"
   },
   {
    "duration": 116,
    "start_time": "2021-11-16T11:01:48.754Z"
   },
   {
    "duration": 3,
    "start_time": "2021-11-16T11:02:16.685Z"
   },
   {
    "duration": 3,
    "start_time": "2021-11-16T11:02:19.479Z"
   },
   {
    "duration": 3,
    "start_time": "2021-11-16T11:02:47.067Z"
   },
   {
    "duration": 3,
    "start_time": "2021-11-16T11:02:49.353Z"
   },
   {
    "duration": 3,
    "start_time": "2021-11-16T11:03:07.835Z"
   },
   {
    "duration": 3,
    "start_time": "2021-11-16T11:03:07.953Z"
   },
   {
    "duration": 112,
    "start_time": "2021-11-16T11:07:52.072Z"
   },
   {
    "duration": 187,
    "start_time": "2021-11-16T11:09:23.468Z"
   },
   {
    "duration": 4,
    "start_time": "2021-11-16T11:10:01.455Z"
   },
   {
    "duration": 3,
    "start_time": "2021-11-16T11:10:05.069Z"
   },
   {
    "duration": 4,
    "start_time": "2021-11-16T11:10:13.376Z"
   },
   {
    "duration": 3,
    "start_time": "2021-11-16T11:10:14.434Z"
   },
   {
    "duration": 3,
    "start_time": "2021-11-16T11:10:22.853Z"
   },
   {
    "duration": 4,
    "start_time": "2021-11-16T11:27:29.279Z"
   },
   {
    "duration": 4,
    "start_time": "2021-11-16T11:29:08.919Z"
   },
   {
    "duration": 118,
    "start_time": "2021-11-16T11:29:46.703Z"
   },
   {
    "duration": 437,
    "start_time": "2021-11-16T11:36:02.181Z"
   },
   {
    "duration": 157,
    "start_time": "2021-11-16T11:36:14.388Z"
   },
   {
    "duration": 207,
    "start_time": "2021-11-16T11:47:15.898Z"
   },
   {
    "duration": 3,
    "start_time": "2021-11-16T11:53:52.092Z"
   },
   {
    "duration": 3,
    "start_time": "2021-11-16T11:53:52.236Z"
   },
   {
    "duration": 3,
    "start_time": "2021-11-16T11:59:12.005Z"
   },
   {
    "duration": 112,
    "start_time": "2021-11-16T12:00:33.446Z"
   },
   {
    "duration": 3,
    "start_time": "2021-11-16T12:02:14.453Z"
   },
   {
    "duration": 3,
    "start_time": "2021-11-16T12:02:39.512Z"
   },
   {
    "duration": 106,
    "start_time": "2021-11-16T12:03:03.460Z"
   },
   {
    "duration": 3,
    "start_time": "2021-11-17T20:37:21.139Z"
   },
   {
    "duration": 3,
    "start_time": "2021-11-17T20:37:22.229Z"
   },
   {
    "duration": 3,
    "start_time": "2021-11-17T20:38:38.806Z"
   },
   {
    "duration": 3,
    "start_time": "2021-11-17T20:38:41.958Z"
   },
   {
    "duration": 3,
    "start_time": "2021-11-17T20:43:46.551Z"
   },
   {
    "duration": 4,
    "start_time": "2021-11-17T20:58:21.835Z"
   },
   {
    "duration": 3,
    "start_time": "2021-11-17T20:59:21.872Z"
   },
   {
    "duration": 4,
    "start_time": "2021-11-17T20:59:45.352Z"
   },
   {
    "duration": 4,
    "start_time": "2021-11-17T20:59:49.646Z"
   },
   {
    "duration": 159,
    "start_time": "2021-11-17T21:02:26.949Z"
   },
   {
    "duration": 3,
    "start_time": "2021-11-17T21:03:53.461Z"
   },
   {
    "duration": 3,
    "start_time": "2021-11-17T21:03:53.694Z"
   },
   {
    "duration": 3,
    "start_time": "2021-11-17T21:05:28.145Z"
   },
   {
    "duration": 116,
    "start_time": "2021-11-17T21:05:57.787Z"
   },
   {
    "duration": 3,
    "start_time": "2021-11-17T21:06:37.993Z"
   },
   {
    "duration": 3,
    "start_time": "2021-11-17T21:06:38.261Z"
   },
   {
    "duration": 3,
    "start_time": "2021-11-17T21:11:54.358Z"
   },
   {
    "duration": 3,
    "start_time": "2021-11-17T21:12:43.846Z"
   },
   {
    "duration": 4,
    "start_time": "2021-11-17T21:13:08.773Z"
   },
   {
    "duration": 3,
    "start_time": "2021-11-17T21:14:44.441Z"
   },
   {
    "duration": 3,
    "start_time": "2021-11-17T21:15:42.059Z"
   },
   {
    "duration": 4,
    "start_time": "2021-11-17T21:15:51.995Z"
   },
   {
    "duration": 3,
    "start_time": "2021-11-17T21:15:53.923Z"
   },
   {
    "duration": 3,
    "start_time": "2021-11-17T21:15:55.282Z"
   },
   {
    "duration": 3,
    "start_time": "2021-11-17T21:16:28.492Z"
   },
   {
    "duration": 3,
    "start_time": "2021-11-17T21:16:32.603Z"
   },
   {
    "duration": 3,
    "start_time": "2021-11-17T21:17:06.941Z"
   },
   {
    "duration": 98,
    "start_time": "2021-11-17T21:18:05.733Z"
   },
   {
    "duration": 4,
    "start_time": "2021-11-17T21:21:35.255Z"
   },
   {
    "duration": 3,
    "start_time": "2021-11-17T21:21:37.804Z"
   },
   {
    "duration": 4,
    "start_time": "2021-11-17T21:23:06.071Z"
   },
   {
    "duration": 3,
    "start_time": "2021-11-17T21:23:24.799Z"
   },
   {
    "duration": 3,
    "start_time": "2021-11-17T21:23:32.591Z"
   },
   {
    "duration": 98,
    "start_time": "2021-11-17T21:28:31.559Z"
   },
   {
    "duration": 3,
    "start_time": "2021-11-17T21:28:45.448Z"
   },
   {
    "duration": 3,
    "start_time": "2021-11-17T21:29:17.303Z"
   },
   {
    "duration": 3,
    "start_time": "2021-11-17T21:29:29.617Z"
   },
   {
    "duration": 3,
    "start_time": "2021-11-17T21:29:32.681Z"
   },
   {
    "duration": 3,
    "start_time": "2021-11-17T21:36:11.474Z"
   },
   {
    "duration": 3,
    "start_time": "2021-11-17T21:36:14.791Z"
   },
   {
    "duration": 3,
    "start_time": "2021-11-17T21:36:53.943Z"
   },
   {
    "duration": 3,
    "start_time": "2021-11-17T21:36:56.165Z"
   },
   {
    "duration": 4,
    "start_time": "2021-11-17T21:37:16.590Z"
   },
   {
    "duration": 3,
    "start_time": "2021-11-17T21:37:22.702Z"
   },
   {
    "duration": 4,
    "start_time": "2021-11-17T21:38:03.479Z"
   },
   {
    "duration": 3,
    "start_time": "2021-11-17T21:38:08.601Z"
   },
   {
    "duration": 3,
    "start_time": "2021-11-17T21:38:12.928Z"
   },
   {
    "duration": 3,
    "start_time": "2021-11-17T21:38:48.896Z"
   },
   {
    "duration": 2,
    "start_time": "2021-11-17T21:38:49.171Z"
   },
   {
    "duration": 4,
    "start_time": "2021-11-17T21:39:57.889Z"
   },
   {
    "duration": 3,
    "start_time": "2021-11-17T21:39:58.057Z"
   },
   {
    "duration": 3,
    "start_time": "2021-11-17T21:41:20.108Z"
   },
   {
    "duration": 3,
    "start_time": "2021-11-17T21:41:20.629Z"
   },
   {
    "duration": 3,
    "start_time": "2021-11-17T21:42:49.136Z"
   },
   {
    "duration": 3,
    "start_time": "2021-11-17T21:43:15.137Z"
   },
   {
    "duration": 4,
    "start_time": "2021-11-17T21:43:16.766Z"
   },
   {
    "duration": 4,
    "start_time": "2021-11-17T21:43:31.711Z"
   },
   {
    "duration": 3,
    "start_time": "2021-11-17T21:43:36.312Z"
   },
   {
    "duration": 4,
    "start_time": "2021-11-17T21:45:08.825Z"
   },
   {
    "duration": 4,
    "start_time": "2021-11-17T21:45:10.119Z"
   },
   {
    "duration": 4,
    "start_time": "2021-11-17T21:45:13.748Z"
   },
   {
    "duration": 3,
    "start_time": "2021-11-17T21:45:22.219Z"
   },
   {
    "duration": 3,
    "start_time": "2021-11-17T21:45:33.412Z"
   },
   {
    "duration": 2,
    "start_time": "2021-11-17T21:46:01.885Z"
   },
   {
    "duration": 3,
    "start_time": "2021-11-17T21:46:03.628Z"
   },
   {
    "duration": 107,
    "start_time": "2021-11-17T21:47:32.512Z"
   },
   {
    "duration": 103,
    "start_time": "2021-11-17T21:50:36.243Z"
   },
   {
    "duration": 3,
    "start_time": "2021-11-18T06:28:31.440Z"
   },
   {
    "duration": 3,
    "start_time": "2021-11-18T06:29:00.168Z"
   },
   {
    "duration": 3,
    "start_time": "2021-11-18T06:31:27.008Z"
   },
   {
    "duration": 2,
    "start_time": "2021-11-18T06:35:34.288Z"
   },
   {
    "duration": 2,
    "start_time": "2021-11-18T06:38:04.527Z"
   },
   {
    "duration": 2446,
    "start_time": "2025-03-29T11:29:24.937Z"
   },
   {
    "duration": 220,
    "start_time": "2025-03-29T11:33:24.389Z"
   },
   {
    "duration": 10,
    "start_time": "2025-03-29T11:35:13.419Z"
   },
   {
    "duration": 6,
    "start_time": "2025-03-29T11:37:55.990Z"
   },
   {
    "duration": 8,
    "start_time": "2025-03-29T11:43:42.443Z"
   },
   {
    "duration": 6,
    "start_time": "2025-03-29T11:44:24.453Z"
   },
   {
    "duration": 7,
    "start_time": "2025-03-29T11:47:40.894Z"
   },
   {
    "duration": 365,
    "start_time": "2025-03-29T12:07:14.348Z"
   },
   {
    "duration": 13,
    "start_time": "2025-03-29T12:08:45.585Z"
   },
   {
    "duration": 15,
    "start_time": "2025-03-29T12:09:59.038Z"
   },
   {
    "duration": 14,
    "start_time": "2025-03-29T12:10:55.235Z"
   },
   {
    "duration": 9,
    "start_time": "2025-03-29T12:11:08.720Z"
   },
   {
    "duration": 14,
    "start_time": "2025-03-29T12:11:37.264Z"
   },
   {
    "duration": 12,
    "start_time": "2025-03-29T12:12:44.675Z"
   },
   {
    "duration": 18,
    "start_time": "2025-03-29T12:13:26.589Z"
   },
   {
    "duration": 7,
    "start_time": "2025-03-29T12:13:53.002Z"
   },
   {
    "duration": 47,
    "start_time": "2025-03-29T12:32:22.804Z"
   },
   {
    "duration": 45,
    "start_time": "2025-03-29T12:33:25.539Z"
   },
   {
    "duration": 10,
    "start_time": "2025-03-29T12:40:58.841Z"
   },
   {
    "duration": 8,
    "start_time": "2025-03-29T12:44:30.981Z"
   },
   {
    "duration": 10,
    "start_time": "2025-03-29T12:50:42.510Z"
   },
   {
    "duration": 43,
    "start_time": "2025-03-29T12:51:51.975Z"
   },
   {
    "duration": 9,
    "start_time": "2025-03-29T12:58:06.202Z"
   },
   {
    "duration": 9,
    "start_time": "2025-03-29T12:58:17.307Z"
   },
   {
    "duration": 19,
    "start_time": "2025-03-29T12:58:52.687Z"
   },
   {
    "duration": 13,
    "start_time": "2025-03-29T13:00:08.793Z"
   },
   {
    "duration": 5,
    "start_time": "2025-03-29T13:02:24.557Z"
   },
   {
    "duration": 18,
    "start_time": "2025-03-29T13:08:55.785Z"
   },
   {
    "duration": 5,
    "start_time": "2025-03-29T13:10:02.714Z"
   },
   {
    "duration": 4,
    "start_time": "2025-03-29T13:10:27.367Z"
   },
   {
    "duration": 10,
    "start_time": "2025-03-29T13:10:35.585Z"
   },
   {
    "duration": 6,
    "start_time": "2025-03-29T13:10:36.593Z"
   },
   {
    "duration": 18,
    "start_time": "2025-03-29T13:10:41.147Z"
   },
   {
    "duration": 14,
    "start_time": "2025-03-29T13:10:58.041Z"
   },
   {
    "duration": 8,
    "start_time": "2025-03-29T13:11:23.377Z"
   },
   {
    "duration": 53,
    "start_time": "2025-03-29T13:24:58.935Z"
   },
   {
    "duration": 17,
    "start_time": "2025-03-29T13:26:20.790Z"
   },
   {
    "duration": 15,
    "start_time": "2025-03-29T13:27:19.457Z"
   },
   {
    "duration": 22,
    "start_time": "2025-03-29T13:36:12.811Z"
   },
   {
    "duration": 5,
    "start_time": "2025-03-29T13:41:09.811Z"
   },
   {
    "duration": 368,
    "start_time": "2025-03-29T13:47:11.350Z"
   },
   {
    "duration": 18,
    "start_time": "2025-03-29T13:47:35.195Z"
   },
   {
    "duration": 13,
    "start_time": "2025-03-29T13:48:30.442Z"
   },
   {
    "duration": 31,
    "start_time": "2025-03-29T13:53:23.250Z"
   },
   {
    "duration": 30,
    "start_time": "2025-03-29T13:54:08.214Z"
   },
   {
    "duration": 30,
    "start_time": "2025-03-29T13:55:04.861Z"
   },
   {
    "duration": 22,
    "start_time": "2025-03-29T14:00:03.951Z"
   },
   {
    "duration": 5,
    "start_time": "2025-03-29T14:01:11.262Z"
   },
   {
    "duration": 5,
    "start_time": "2025-03-29T14:01:31.951Z"
   },
   {
    "duration": 5,
    "start_time": "2025-03-29T14:01:38.208Z"
   },
   {
    "duration": 16,
    "start_time": "2025-03-29T14:06:06.351Z"
   },
   {
    "duration": 28,
    "start_time": "2025-03-29T14:06:21.653Z"
   },
   {
    "duration": 20,
    "start_time": "2025-03-29T14:06:27.824Z"
   },
   {
    "duration": 12,
    "start_time": "2025-03-29T14:06:50.841Z"
   },
   {
    "duration": 14,
    "start_time": "2025-03-29T14:09:49.330Z"
   },
   {
    "duration": 13,
    "start_time": "2025-03-29T14:10:04.149Z"
   },
   {
    "duration": 13,
    "start_time": "2025-03-29T14:11:05.706Z"
   },
   {
    "duration": 20,
    "start_time": "2025-03-29T14:11:13.798Z"
   },
   {
    "duration": 12,
    "start_time": "2025-03-29T14:11:17.823Z"
   },
   {
    "duration": 2733,
    "start_time": "2025-03-29T15:18:01.054Z"
   },
   {
    "duration": 249,
    "start_time": "2025-03-29T15:18:03.790Z"
   },
   {
    "duration": 14,
    "start_time": "2025-03-29T15:18:04.041Z"
   },
   {
    "duration": 7,
    "start_time": "2025-03-29T15:18:04.059Z"
   },
   {
    "duration": 11,
    "start_time": "2025-03-29T15:18:04.068Z"
   },
   {
    "duration": 25,
    "start_time": "2025-03-29T15:18:04.081Z"
   },
   {
    "duration": 15,
    "start_time": "2025-03-29T15:18:04.107Z"
   },
   {
    "duration": 26,
    "start_time": "2025-03-29T15:18:04.124Z"
   },
   {
    "duration": 9,
    "start_time": "2025-03-29T15:18:04.153Z"
   },
   {
    "duration": 72,
    "start_time": "2025-03-29T15:18:04.167Z"
   },
   {
    "duration": 22,
    "start_time": "2025-03-29T15:18:04.241Z"
   },
   {
    "duration": 4,
    "start_time": "2025-03-29T15:18:04.265Z"
   },
   {
    "duration": 38,
    "start_time": "2025-03-29T15:18:04.271Z"
   },
   {
    "duration": 6,
    "start_time": "2025-03-29T15:18:04.311Z"
   },
   {
    "duration": 20,
    "start_time": "2025-03-29T15:18:04.320Z"
   },
   {
    "duration": 19,
    "start_time": "2025-03-29T15:18:04.343Z"
   },
   {
    "duration": 9,
    "start_time": "2025-03-29T15:18:04.365Z"
   },
   {
    "duration": 49,
    "start_time": "2025-03-29T15:18:04.376Z"
   },
   {
    "duration": 15,
    "start_time": "2025-03-29T15:18:04.428Z"
   },
   {
    "duration": 21,
    "start_time": "2025-03-29T15:18:04.445Z"
   },
   {
    "duration": 5,
    "start_time": "2025-03-29T15:18:04.468Z"
   },
   {
    "duration": 74,
    "start_time": "2025-03-29T15:18:04.476Z"
   },
   {
    "duration": 26,
    "start_time": "2025-03-29T15:18:04.552Z"
   },
   {
    "duration": 6,
    "start_time": "2025-03-29T15:18:04.580Z"
   },
   {
    "duration": 22,
    "start_time": "2025-03-29T15:18:04.605Z"
   },
   {
    "duration": 11,
    "start_time": "2025-03-29T15:18:04.630Z"
   },
   {
    "duration": 14,
    "start_time": "2025-03-29T15:18:04.643Z"
   },
   {
    "duration": 3,
    "start_time": "2025-03-29T15:18:04.661Z"
   },
   {
    "duration": 3,
    "start_time": "2025-03-29T15:18:04.665Z"
   },
   {
    "duration": 3,
    "start_time": "2025-03-29T15:18:04.670Z"
   },
   {
    "duration": 33,
    "start_time": "2025-03-29T15:18:04.674Z"
   },
   {
    "duration": 5,
    "start_time": "2025-03-29T15:18:04.709Z"
   },
   {
    "duration": 2,
    "start_time": "2025-03-29T15:18:04.716Z"
   },
   {
    "duration": 3,
    "start_time": "2025-03-29T15:18:04.720Z"
   },
   {
    "duration": 4,
    "start_time": "2025-03-29T15:18:04.725Z"
   },
   {
    "duration": 218,
    "start_time": "2025-03-29T15:23:30.467Z"
   },
   {
    "duration": 198,
    "start_time": "2025-03-29T15:23:42.401Z"
   },
   {
    "duration": 255,
    "start_time": "2025-03-29T15:24:08.509Z"
   },
   {
    "duration": 11,
    "start_time": "2025-03-29T15:27:22.180Z"
   },
   {
    "duration": 286,
    "start_time": "2025-03-29T15:27:30.539Z"
   },
   {
    "duration": 9,
    "start_time": "2025-03-29T15:27:42.882Z"
   },
   {
    "duration": 10,
    "start_time": "2025-03-29T15:27:46.604Z"
   },
   {
    "duration": 13,
    "start_time": "2025-03-29T15:28:28.351Z"
   },
   {
    "duration": 5,
    "start_time": "2025-03-29T15:33:13.104Z"
   },
   {
    "duration": 6,
    "start_time": "2025-03-29T15:35:06.600Z"
   },
   {
    "duration": 21,
    "start_time": "2025-03-29T15:36:22.285Z"
   },
   {
    "duration": 18,
    "start_time": "2025-03-29T15:36:36.074Z"
   },
   {
    "duration": 8,
    "start_time": "2025-03-29T15:37:33.030Z"
   },
   {
    "duration": 5,
    "start_time": "2025-03-29T15:37:51.331Z"
   },
   {
    "duration": 203,
    "start_time": "2025-03-29T15:37:57.187Z"
   },
   {
    "duration": 142,
    "start_time": "2025-03-29T15:38:56.658Z"
   },
   {
    "duration": 261,
    "start_time": "2025-03-29T15:47:01.274Z"
   },
   {
    "duration": 427,
    "start_time": "2025-03-29T15:47:51.799Z"
   },
   {
    "duration": 416,
    "start_time": "2025-03-29T15:48:12.727Z"
   },
   {
    "duration": 301,
    "start_time": "2025-03-29T15:48:54.154Z"
   },
   {
    "duration": 314,
    "start_time": "2025-03-29T15:50:41.249Z"
   },
   {
    "duration": 192,
    "start_time": "2025-03-29T16:11:18.008Z"
   },
   {
    "duration": 242,
    "start_time": "2025-03-29T16:14:31.369Z"
   },
   {
    "duration": 131,
    "start_time": "2025-03-29T16:16:27.631Z"
   },
   {
    "duration": 203,
    "start_time": "2025-03-29T16:17:55.668Z"
   },
   {
    "duration": 243,
    "start_time": "2025-03-29T16:24:03.854Z"
   },
   {
    "duration": 371,
    "start_time": "2025-03-29T16:24:14.072Z"
   },
   {
    "duration": 205,
    "start_time": "2025-03-29T16:33:57.667Z"
   },
   {
    "duration": 254,
    "start_time": "2025-03-29T16:37:20.176Z"
   },
   {
    "duration": 130,
    "start_time": "2025-03-29T16:39:23.027Z"
   },
   {
    "duration": 128,
    "start_time": "2025-03-29T16:57:49.361Z"
   },
   {
    "duration": 9,
    "start_time": "2025-03-29T17:04:29.284Z"
   },
   {
    "duration": 309,
    "start_time": "2025-03-29T17:06:26.291Z"
   },
   {
    "duration": 12,
    "start_time": "2025-03-29T17:06:36.905Z"
   },
   {
    "duration": 14,
    "start_time": "2025-03-29T17:06:46.679Z"
   },
   {
    "duration": 26,
    "start_time": "2025-03-29T17:07:39.486Z"
   },
   {
    "duration": 15,
    "start_time": "2025-03-29T17:08:16.362Z"
   },
   {
    "duration": 114,
    "start_time": "2025-03-29T17:08:34.016Z"
   },
   {
    "duration": 327,
    "start_time": "2025-03-29T17:09:04.546Z"
   },
   {
    "duration": 11,
    "start_time": "2025-03-29T17:09:38.325Z"
   },
   {
    "duration": 18,
    "start_time": "2025-03-29T17:17:22.818Z"
   },
   {
    "duration": 7,
    "start_time": "2025-03-29T17:17:33.282Z"
   },
   {
    "duration": 453,
    "start_time": "2025-03-29T17:20:38.247Z"
   },
   {
    "duration": 2,
    "start_time": "2025-03-29T17:20:51.143Z"
   },
   {
    "duration": 6,
    "start_time": "2025-03-29T17:26:28.432Z"
   },
   {
    "duration": 3,
    "start_time": "2025-03-29T17:26:54.522Z"
   },
   {
    "duration": 10,
    "start_time": "2025-03-29T17:27:08.630Z"
   },
   {
    "duration": 118,
    "start_time": "2025-03-29T17:27:20.804Z"
   },
   {
    "duration": 10,
    "start_time": "2025-03-29T17:27:26.319Z"
   },
   {
    "duration": 34,
    "start_time": "2025-03-29T17:27:29.478Z"
   },
   {
    "duration": 11,
    "start_time": "2025-03-29T17:27:34.224Z"
   },
   {
    "duration": 9,
    "start_time": "2025-03-29T17:27:57.189Z"
   },
   {
    "duration": 802,
    "start_time": "2025-03-29T17:33:00.944Z"
   },
   {
    "duration": 164,
    "start_time": "2025-03-29T17:33:01.749Z"
   },
   {
    "duration": 12,
    "start_time": "2025-03-29T17:33:01.915Z"
   },
   {
    "duration": 7,
    "start_time": "2025-03-29T17:33:01.930Z"
   },
   {
    "duration": 8,
    "start_time": "2025-03-29T17:33:01.940Z"
   },
   {
    "duration": 6,
    "start_time": "2025-03-29T17:33:01.950Z"
   },
   {
    "duration": 12,
    "start_time": "2025-03-29T17:33:01.958Z"
   },
   {
    "duration": 42,
    "start_time": "2025-03-29T17:33:01.971Z"
   },
   {
    "duration": 7,
    "start_time": "2025-03-29T17:33:02.015Z"
   },
   {
    "duration": 51,
    "start_time": "2025-03-29T17:33:02.026Z"
   },
   {
    "duration": 46,
    "start_time": "2025-03-29T17:33:02.079Z"
   },
   {
    "duration": 7,
    "start_time": "2025-03-29T17:33:02.127Z"
   },
   {
    "duration": 16,
    "start_time": "2025-03-29T17:33:02.136Z"
   },
   {
    "duration": 8,
    "start_time": "2025-03-29T17:33:02.155Z"
   },
   {
    "duration": 49,
    "start_time": "2025-03-29T17:33:02.166Z"
   },
   {
    "duration": 14,
    "start_time": "2025-03-29T17:33:02.217Z"
   },
   {
    "duration": 7,
    "start_time": "2025-03-29T17:33:02.232Z"
   },
   {
    "duration": 16,
    "start_time": "2025-03-29T17:33:02.241Z"
   },
   {
    "duration": 15,
    "start_time": "2025-03-29T17:33:02.259Z"
   },
   {
    "duration": 23,
    "start_time": "2025-03-29T17:33:02.305Z"
   },
   {
    "duration": 5,
    "start_time": "2025-03-29T17:33:02.330Z"
   },
   {
    "duration": 36,
    "start_time": "2025-03-29T17:33:02.337Z"
   },
   {
    "duration": 43,
    "start_time": "2025-03-29T17:33:02.376Z"
   },
   {
    "duration": 16,
    "start_time": "2025-03-29T17:33:02.421Z"
   },
   {
    "duration": 22,
    "start_time": "2025-03-29T17:33:02.439Z"
   },
   {
    "duration": 10,
    "start_time": "2025-03-29T17:33:02.463Z"
   },
   {
    "duration": 32,
    "start_time": "2025-03-29T17:33:02.474Z"
   },
   {
    "duration": 210,
    "start_time": "2025-03-29T17:33:02.512Z"
   },
   {
    "duration": 303,
    "start_time": "2025-03-29T17:33:02.724Z"
   },
   {
    "duration": 0,
    "start_time": "2025-03-29T17:33:03.029Z"
   },
   {
    "duration": 0,
    "start_time": "2025-03-29T17:33:03.030Z"
   },
   {
    "duration": 0,
    "start_time": "2025-03-29T17:33:03.032Z"
   },
   {
    "duration": 0,
    "start_time": "2025-03-29T17:33:03.033Z"
   },
   {
    "duration": 0,
    "start_time": "2025-03-29T17:33:03.035Z"
   },
   {
    "duration": 0,
    "start_time": "2025-03-29T17:33:03.036Z"
   },
   {
    "duration": 0,
    "start_time": "2025-03-29T17:33:03.038Z"
   },
   {
    "duration": 0,
    "start_time": "2025-03-29T17:33:03.039Z"
   },
   {
    "duration": 0,
    "start_time": "2025-03-29T17:33:03.041Z"
   },
   {
    "duration": 0,
    "start_time": "2025-03-29T17:33:03.042Z"
   },
   {
    "duration": 0,
    "start_time": "2025-03-29T17:33:03.044Z"
   },
   {
    "duration": 0,
    "start_time": "2025-03-29T17:33:03.046Z"
   },
   {
    "duration": 0,
    "start_time": "2025-03-29T17:33:03.047Z"
   },
   {
    "duration": 0,
    "start_time": "2025-03-29T17:33:03.049Z"
   },
   {
    "duration": 0,
    "start_time": "2025-03-29T17:33:03.050Z"
   },
   {
    "duration": 320,
    "start_time": "2025-03-29T17:38:06.949Z"
   },
   {
    "duration": 136,
    "start_time": "2025-03-29T17:38:12.643Z"
   },
   {
    "duration": 193,
    "start_time": "2025-03-29T17:38:20.846Z"
   },
   {
    "duration": 251,
    "start_time": "2025-03-29T17:38:24.230Z"
   },
   {
    "duration": 247,
    "start_time": "2025-03-29T17:38:26.469Z"
   },
   {
    "duration": 129,
    "start_time": "2025-03-29T17:38:27.893Z"
   },
   {
    "duration": 297,
    "start_time": "2025-03-29T17:38:30.924Z"
   },
   {
    "duration": 255,
    "start_time": "2025-03-29T17:38:32.454Z"
   },
   {
    "duration": 133,
    "start_time": "2025-03-29T17:38:33.717Z"
   },
   {
    "duration": 11,
    "start_time": "2025-03-29T17:38:37.029Z"
   },
   {
    "duration": 11,
    "start_time": "2025-03-29T17:38:37.926Z"
   },
   {
    "duration": 7,
    "start_time": "2025-03-29T17:38:41.389Z"
   },
   {
    "duration": 5,
    "start_time": "2025-03-29T17:38:43.141Z"
   },
   {
    "duration": 3,
    "start_time": "2025-03-29T17:38:43.670Z"
   },
   {
    "duration": 10,
    "start_time": "2025-03-29T17:38:44.259Z"
   },
   {
    "duration": 9,
    "start_time": "2025-03-29T17:38:45.027Z"
   },
   {
    "duration": 3,
    "start_time": "2025-03-29T17:39:04.866Z"
   },
   {
    "duration": 152,
    "start_time": "2025-03-29T17:39:06.376Z"
   },
   {
    "duration": 11,
    "start_time": "2025-03-29T17:39:08.298Z"
   },
   {
    "duration": 6,
    "start_time": "2025-03-29T17:39:08.988Z"
   },
   {
    "duration": 11,
    "start_time": "2025-03-29T17:39:12.367Z"
   },
   {
    "duration": 6,
    "start_time": "2025-03-29T17:39:13.079Z"
   },
   {
    "duration": 13,
    "start_time": "2025-03-29T17:39:16.081Z"
   },
   {
    "duration": 17,
    "start_time": "2025-03-29T17:39:20.219Z"
   },
   {
    "duration": 9,
    "start_time": "2025-03-29T17:39:21.007Z"
   },
   {
    "duration": 48,
    "start_time": "2025-03-29T17:39:24.065Z"
   },
   {
    "duration": 22,
    "start_time": "2025-03-29T17:39:24.756Z"
   },
   {
    "duration": 4,
    "start_time": "2025-03-29T17:39:25.384Z"
   },
   {
    "duration": 13,
    "start_time": "2025-03-29T17:39:28.466Z"
   },
   {
    "duration": 6,
    "start_time": "2025-03-29T17:39:28.846Z"
   },
   {
    "duration": 17,
    "start_time": "2025-03-29T17:39:31.898Z"
   },
   {
    "duration": 14,
    "start_time": "2025-03-29T17:39:34.323Z"
   },
   {
    "duration": 6,
    "start_time": "2025-03-29T17:39:34.786Z"
   },
   {
    "duration": 16,
    "start_time": "2025-03-29T17:39:36.504Z"
   },
   {
    "duration": 14,
    "start_time": "2025-03-29T17:39:37.540Z"
   },
   {
    "duration": 19,
    "start_time": "2025-03-29T17:39:42.580Z"
   },
   {
    "duration": 5,
    "start_time": "2025-03-29T17:39:45.243Z"
   },
   {
    "duration": 31,
    "start_time": "2025-03-29T17:39:47.566Z"
   },
   {
    "duration": 19,
    "start_time": "2025-03-29T17:39:48.383Z"
   },
   {
    "duration": 5,
    "start_time": "2025-03-29T17:39:49.627Z"
   },
   {
    "duration": 18,
    "start_time": "2025-03-29T17:39:50.968Z"
   },
   {
    "duration": 10,
    "start_time": "2025-03-29T17:39:51.635Z"
   },
   {
    "duration": 16,
    "start_time": "2025-03-29T17:39:52.996Z"
   },
   {
    "duration": 203,
    "start_time": "2025-03-29T17:39:55.074Z"
   },
   {
    "duration": 281,
    "start_time": "2025-03-29T17:39:55.711Z"
   },
   {
    "duration": 3,
    "start_time": "2025-03-29T17:39:58.995Z"
   },
   {
    "duration": 150,
    "start_time": "2025-03-29T17:39:59.000Z"
   },
   {
    "duration": 9,
    "start_time": "2025-03-29T17:39:59.152Z"
   },
   {
    "duration": 5,
    "start_time": "2025-03-29T17:39:59.163Z"
   },
   {
    "duration": 9,
    "start_time": "2025-03-29T17:39:59.171Z"
   },
   {
    "duration": 28,
    "start_time": "2025-03-29T17:39:59.182Z"
   },
   {
    "duration": 11,
    "start_time": "2025-03-29T17:39:59.212Z"
   },
   {
    "duration": 14,
    "start_time": "2025-03-29T17:39:59.225Z"
   },
   {
    "duration": 6,
    "start_time": "2025-03-29T17:39:59.241Z"
   },
   {
    "duration": 76,
    "start_time": "2025-03-29T17:39:59.249Z"
   },
   {
    "duration": 19,
    "start_time": "2025-03-29T17:39:59.329Z"
   },
   {
    "duration": 3,
    "start_time": "2025-03-29T17:39:59.351Z"
   },
   {
    "duration": 16,
    "start_time": "2025-03-29T17:39:59.356Z"
   },
   {
    "duration": 37,
    "start_time": "2025-03-29T17:39:59.374Z"
   },
   {
    "duration": 20,
    "start_time": "2025-03-29T17:39:59.414Z"
   },
   {
    "duration": 15,
    "start_time": "2025-03-29T17:39:59.435Z"
   },
   {
    "duration": 8,
    "start_time": "2025-03-29T17:39:59.451Z"
   },
   {
    "duration": 50,
    "start_time": "2025-03-29T17:39:59.460Z"
   },
   {
    "duration": 15,
    "start_time": "2025-03-29T17:39:59.512Z"
   },
   {
    "duration": 19,
    "start_time": "2025-03-29T17:39:59.529Z"
   },
   {
    "duration": 5,
    "start_time": "2025-03-29T17:39:59.550Z"
   },
   {
    "duration": 56,
    "start_time": "2025-03-29T17:39:59.557Z"
   },
   {
    "duration": 18,
    "start_time": "2025-03-29T17:39:59.615Z"
   },
   {
    "duration": 5,
    "start_time": "2025-03-29T17:39:59.635Z"
   },
   {
    "duration": 17,
    "start_time": "2025-03-29T17:39:59.642Z"
   },
   {
    "duration": 11,
    "start_time": "2025-03-29T17:39:59.661Z"
   },
   {
    "duration": 44,
    "start_time": "2025-03-29T17:39:59.675Z"
   },
   {
    "duration": 237,
    "start_time": "2025-03-29T17:39:59.721Z"
   },
   {
    "duration": 276,
    "start_time": "2025-03-29T17:39:59.963Z"
   },
   {
    "duration": 5,
    "start_time": "2025-03-29T17:40:00.241Z"
   },
   {
    "duration": 151,
    "start_time": "2025-03-29T17:40:00.248Z"
   },
   {
    "duration": 325,
    "start_time": "2025-03-29T17:40:00.400Z"
   },
   {
    "duration": 262,
    "start_time": "2025-03-29T17:40:00.727Z"
   },
   {
    "duration": 136,
    "start_time": "2025-03-29T17:40:00.991Z"
   },
   {
    "duration": 250,
    "start_time": "2025-03-29T17:40:01.129Z"
   },
   {
    "duration": 259,
    "start_time": "2025-03-29T17:40:01.383Z"
   },
   {
    "duration": 137,
    "start_time": "2025-03-29T17:40:01.644Z"
   },
   {
    "duration": 12,
    "start_time": "2025-03-29T17:40:01.783Z"
   },
   {
    "duration": 13,
    "start_time": "2025-03-29T17:40:01.807Z"
   },
   {
    "duration": 6,
    "start_time": "2025-03-29T17:40:01.823Z"
   },
   {
    "duration": 5,
    "start_time": "2025-03-29T17:40:01.831Z"
   },
   {
    "duration": 4,
    "start_time": "2025-03-29T17:40:01.837Z"
   },
   {
    "duration": 9,
    "start_time": "2025-03-29T17:40:01.842Z"
   },
   {
    "duration": 6,
    "start_time": "2025-03-29T17:40:01.853Z"
   },
   {
    "duration": 7,
    "start_time": "2025-03-30T16:16:00.710Z"
   },
   {
    "duration": 157,
    "start_time": "2025-03-30T16:16:09.535Z"
   },
   {
    "duration": 2626,
    "start_time": "2025-03-30T16:16:16.962Z"
   },
   {
    "duration": 218,
    "start_time": "2025-03-30T16:16:19.590Z"
   },
   {
    "duration": 10,
    "start_time": "2025-03-30T16:16:19.810Z"
   },
   {
    "duration": 7,
    "start_time": "2025-03-30T16:16:19.822Z"
   },
   {
    "duration": 9,
    "start_time": "2025-03-30T16:16:19.830Z"
   },
   {
    "duration": 6,
    "start_time": "2025-03-30T16:16:19.840Z"
   },
   {
    "duration": 13,
    "start_time": "2025-03-30T16:16:19.848Z"
   },
   {
    "duration": 15,
    "start_time": "2025-03-30T16:16:19.886Z"
   },
   {
    "duration": 9,
    "start_time": "2025-03-30T16:16:19.903Z"
   },
   {
    "duration": 71,
    "start_time": "2025-03-30T16:16:19.915Z"
   },
   {
    "duration": 21,
    "start_time": "2025-03-30T16:16:19.989Z"
   },
   {
    "duration": 4,
    "start_time": "2025-03-30T16:16:20.012Z"
   },
   {
    "duration": 14,
    "start_time": "2025-03-30T16:16:20.018Z"
   },
   {
    "duration": 7,
    "start_time": "2025-03-30T16:16:20.034Z"
   },
   {
    "duration": 52,
    "start_time": "2025-03-30T16:16:20.043Z"
   },
   {
    "duration": 13,
    "start_time": "2025-03-30T16:16:20.098Z"
   },
   {
    "duration": 7,
    "start_time": "2025-03-30T16:16:20.113Z"
   },
   {
    "duration": 18,
    "start_time": "2025-03-30T16:16:20.121Z"
   },
   {
    "duration": 15,
    "start_time": "2025-03-30T16:16:20.140Z"
   },
   {
    "duration": 50,
    "start_time": "2025-03-30T16:16:20.157Z"
   },
   {
    "duration": 6,
    "start_time": "2025-03-30T16:16:20.209Z"
   },
   {
    "duration": 34,
    "start_time": "2025-03-30T16:16:20.217Z"
   },
   {
    "duration": 44,
    "start_time": "2025-03-30T16:16:20.253Z"
   },
   {
    "duration": 4,
    "start_time": "2025-03-30T16:16:20.299Z"
   },
   {
    "duration": 21,
    "start_time": "2025-03-30T16:16:20.304Z"
   },
   {
    "duration": 10,
    "start_time": "2025-03-30T16:16:20.326Z"
   },
   {
    "duration": 14,
    "start_time": "2025-03-30T16:16:20.338Z"
   },
   {
    "duration": 200,
    "start_time": "2025-03-30T16:16:20.387Z"
   },
   {
    "duration": 245,
    "start_time": "2025-03-30T16:16:20.590Z"
   },
   {
    "duration": 4,
    "start_time": "2025-03-30T16:16:20.837Z"
   },
   {
    "duration": 220,
    "start_time": "2025-03-30T16:16:20.843Z"
   },
   {
    "duration": 215,
    "start_time": "2025-03-30T16:16:21.065Z"
   },
   {
    "duration": 254,
    "start_time": "2025-03-30T16:16:21.286Z"
   },
   {
    "duration": 140,
    "start_time": "2025-03-30T16:16:21.542Z"
   },
   {
    "duration": 218,
    "start_time": "2025-03-30T16:16:21.686Z"
   },
   {
    "duration": 282,
    "start_time": "2025-03-30T16:16:21.906Z"
   },
   {
    "duration": 138,
    "start_time": "2025-03-30T16:16:22.190Z"
   },
   {
    "duration": 11,
    "start_time": "2025-03-30T16:16:22.330Z"
   },
   {
    "duration": 11,
    "start_time": "2025-03-30T16:16:22.343Z"
   },
   {
    "duration": 29,
    "start_time": "2025-03-30T16:16:22.357Z"
   },
   {
    "duration": 6,
    "start_time": "2025-03-30T16:16:22.388Z"
   },
   {
    "duration": 4,
    "start_time": "2025-03-30T16:16:22.396Z"
   },
   {
    "duration": 9,
    "start_time": "2025-03-30T16:16:22.402Z"
   },
   {
    "duration": 9,
    "start_time": "2025-03-30T16:16:22.412Z"
   },
   {
    "duration": 17,
    "start_time": "2025-03-30T16:17:29.558Z"
   },
   {
    "duration": 53,
    "start_time": "2025-03-30T16:18:48.167Z"
   },
   {
    "duration": 116,
    "start_time": "2025-03-30T16:24:12.776Z"
   },
   {
    "duration": 44,
    "start_time": "2025-03-30T16:26:08.268Z"
   },
   {
    "duration": 16,
    "start_time": "2025-03-30T16:26:59.861Z"
   },
   {
    "duration": 14,
    "start_time": "2025-03-30T16:28:37.355Z"
   },
   {
    "duration": 9,
    "start_time": "2025-03-30T16:31:20.445Z"
   },
   {
    "duration": 7,
    "start_time": "2025-03-30T16:33:23.350Z"
   },
   {
    "duration": 8,
    "start_time": "2025-03-30T16:35:44.053Z"
   },
   {
    "duration": 8,
    "start_time": "2025-03-30T16:36:45.778Z"
   },
   {
    "duration": 3,
    "start_time": "2025-03-30T16:37:21.815Z"
   },
   {
    "duration": 7,
    "start_time": "2025-03-30T16:38:05.326Z"
   },
   {
    "duration": 8,
    "start_time": "2025-03-30T16:38:27.676Z"
   },
   {
    "duration": 5,
    "start_time": "2025-03-30T16:39:22.655Z"
   },
   {
    "duration": 598,
    "start_time": "2025-03-30T16:41:03.244Z"
   },
   {
    "duration": 6,
    "start_time": "2025-03-30T16:41:11.687Z"
   },
   {
    "duration": 4,
    "start_time": "2025-03-30T16:41:12.773Z"
   },
   {
    "duration": 9,
    "start_time": "2025-03-30T16:41:13.649Z"
   },
   {
    "duration": 6,
    "start_time": "2025-03-30T16:42:11.104Z"
   },
   {
    "duration": 226,
    "start_time": "2025-03-30T16:42:26.287Z"
   },
   {
    "duration": 18,
    "start_time": "2025-03-30T16:44:55.376Z"
   },
   {
    "duration": 13,
    "start_time": "2025-03-30T16:45:38.473Z"
   }
  ],
  "colab": {
   "provenance": []
  },
  "kernelspec": {
   "display_name": "Python 3 (ipykernel)",
   "language": "python",
   "name": "python3"
  },
  "language_info": {
   "codemirror_mode": {
    "name": "ipython",
    "version": 3
   },
   "file_extension": ".py",
   "mimetype": "text/x-python",
   "name": "python",
   "nbconvert_exporter": "python",
   "pygments_lexer": "ipython3",
   "version": "3.9.19"
  },
  "toc": {
   "base_numbering": 1,
   "nav_menu": {},
   "number_sections": true,
   "sideBar": true,
   "skip_h1_title": false,
   "title_cell": "Table of Contents",
   "title_sidebar": "Contents",
   "toc_cell": false,
   "toc_position": {
    "height": "calc(100% - 180px)",
    "left": "10px",
    "top": "150px",
    "width": "217.75px"
   },
   "toc_section_display": true,
   "toc_window_display": true
  }
 },
 "nbformat": 4,
 "nbformat_minor": 1
}
