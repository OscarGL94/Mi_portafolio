{
 "cells": [
  {
   "cell_type": "markdown",
   "id": "3Xg_RQfnafXz",
   "metadata": {
    "id": "3Xg_RQfnafXz"
   },
   "source": [
    "# ¡Llena ese carrito!"
   ]
  },
  {
   "cell_type": "markdown",
   "id": "mhIvmmkW414q",
   "metadata": {
    "id": "mhIvmmkW414q"
   },
   "source": [
    "# Introducción\n",
    "\n",
    "Instacart es una plataforma de entregas de comestibles donde la clientela puede registrar un pedido y hacer que se lo entreguen, similar a Uber Eats y Door Dash.\n",
    "El conjunto de datos que te hemos proporcionado tiene modificaciones del original. Redujimos el tamaño del conjunto para que tus cálculos se hicieran más rápido e introdujimos valores ausentes y duplicados. Tuvimos cuidado de conservar las distribuciones de los datos originales cuando hicimos los cambios.\n",
    "\n",
    "Debes completar tres pasos. Para cada uno de ellos, escribe una breve introducción que refleje con claridad cómo pretendes resolver cada paso, y escribe párrafos explicatorios que justifiquen tus decisiones al tiempo que avanzas en tu solución.  También escribe una conclusión que resuma tus hallazgos y elecciones.\n"
   ]
  },
  {
   "cell_type": "markdown",
   "id": "3MbyzpOQZ5Or",
   "metadata": {
    "id": "3MbyzpOQZ5Or"
   },
   "source": [
    "## Diccionario de datos\n",
    "\n",
    "Hay cinco tablas en el conjunto de datos, y tendrás que usarlas todas para hacer el preprocesamiento de datos y el análisis exploratorio de datos. A continuación se muestra un diccionario de datos que enumera las columnas de cada tabla y describe los datos que contienen.\n",
    "\n",
    "- `instacart_orders.csv`: cada fila corresponde a un pedido en la aplicación Instacart.\n",
    "    - `'order_id'`: número de ID que identifica de manera única cada pedido.\n",
    "    - `'user_id'`: número de ID que identifica de manera única la cuenta de cada cliente.\n",
    "    - `'order_number'`: el número de veces que este cliente ha hecho un pedido.\n",
    "    - `'order_dow'`: día de la semana en que se hizo el pedido (0 si es domingo).\n",
    "    - `'order_hour_of_day'`: hora del día en que se hizo el pedido.\n",
    "    - `'days_since_prior_order'`: número de días transcurridos desde que este cliente hizo su pedido anterior.\n",
    "- `products.csv`: cada fila corresponde a un producto único que pueden comprar los clientes.\n",
    "    - `'product_id'`: número ID que identifica de manera única cada producto.\n",
    "    - `'product_name'`: nombre del producto.\n",
    "    - `'aisle_id'`: número ID que identifica de manera única cada categoría de pasillo de víveres.\n",
    "    - `'department_id'`: número ID que identifica de manera única cada departamento de víveres.\n",
    "- `order_products.csv`: cada fila corresponde a un artículo pedido en un pedido.\n",
    "    - `'order_id'`: número de ID que identifica de manera única cada pedido.\n",
    "    - `'product_id'`: número ID que identifica de manera única cada producto.\n",
    "    - `'add_to_cart_order'`: el orden secuencial en el que se añadió cada artículo en el carrito.\n",
    "    - `'reordered'`: 0 si el cliente nunca ha pedido este producto antes, 1 si lo ha pedido.\n",
    "- `aisles.csv`\n",
    "    - `'aisle_id'`: número ID que identifica de manera única cada categoría de pasillo de víveres.\n",
    "    - `'aisle'`: nombre del pasillo.\n",
    "- `departments.csv`\n",
    "    - `'department_id'`: número ID que identifica de manera única cada departamento de víveres.\n",
    "    - `'department'`: nombre del departamento."
   ]
  },
  {
   "cell_type": "markdown",
   "id": "n3Ha_cNSZ8lK",
   "metadata": {
    "id": "n3Ha_cNSZ8lK"
   },
   "source": [
    "# Paso 1. Descripción de los datos\n",
    "\n",
    "Lee los archivos de datos (`/datasets/instacart_orders.csv`, `/datasets/products.csv`, `/datasets/aisles.csv`, `/datasets/departments.csv` y `/datasets/order_products.csv`) con `pd.read_csv()` usando los parámetros adecuados para leer los datos correctamente. Verifica la información para cada DataFrame creado.\n"
   ]
  },
  {
   "cell_type": "markdown",
   "id": "OmlQPLlyaAfR",
   "metadata": {
    "id": "OmlQPLlyaAfR"
   },
   "source": [
    "## Plan de solución\n",
    "\n",
    "Escribe aquí tu plan de solución para el Paso 1. Descripción de los datos."
   ]
  },
  {
   "cell_type": "code",
   "execution_count": 69,
   "id": "fbf1adab",
   "metadata": {
    "id": "fbf1adab"
   },
   "outputs": [],
   "source": [
    "import pandas as pd \n",
    "from matplotlib import pyplot as plt # importar librerías"
   ]
  },
  {
   "cell_type": "code",
   "execution_count": 70,
   "id": "ad36396d",
   "metadata": {
    "id": "ad36396d"
   },
   "outputs": [],
   "source": [
    "df_cart_orders = pd.read_csv(\"/datasets/instacart_orders.csv\", sep = ';')\n",
    "df_products = pd.read_csv(\"/datasets/products.csv\", sep = ';')\n",
    "df_aisles = pd.read_csv(\"/datasets/aisles.csv\", sep = ';') \n",
    "df_departments = pd.read_csv(\"/datasets/departments.csv\", sep = ';')\n",
    "df_order_products = pd.read_csv(\"/datasets/order_products.csv\", sep = ';') # leer conjuntos de datos en los DataFrames"
   ]
  },
  {
   "cell_type": "code",
   "execution_count": 71,
   "id": "ad6a1efa",
   "metadata": {
    "id": "ad6a1efa"
   },
   "outputs": [
    {
     "name": "stdout",
     "output_type": "stream",
     "text": [
      "<class 'pandas.core.frame.DataFrame'>\n",
      "RangeIndex: 478967 entries, 0 to 478966\n",
      "Data columns (total 6 columns):\n",
      " #   Column                  Non-Null Count   Dtype  \n",
      "---  ------                  --------------   -----  \n",
      " 0   order_id                478967 non-null  int64  \n",
      " 1   user_id                 478967 non-null  int64  \n",
      " 2   order_number            478967 non-null  int64  \n",
      " 3   order_dow               478967 non-null  int64  \n",
      " 4   order_hour_of_day       478967 non-null  int64  \n",
      " 5   days_since_prior_order  450148 non-null  float64\n",
      "dtypes: float64(1), int64(5)\n",
      "memory usage: 21.9 MB\n",
      "None\n"
     ]
    }
   ],
   "source": [
    "print(df_cart_orders.info()) # mostrar información del DataFrame"
   ]
  },
  {
   "cell_type": "code",
   "execution_count": 72,
   "id": "5130e05e",
   "metadata": {
    "id": "5130e05e"
   },
   "outputs": [
    {
     "name": "stdout",
     "output_type": "stream",
     "text": [
      "<class 'pandas.core.frame.DataFrame'>\n",
      "RangeIndex: 49694 entries, 0 to 49693\n",
      "Data columns (total 4 columns):\n",
      " #   Column         Non-Null Count  Dtype \n",
      "---  ------         --------------  ----- \n",
      " 0   product_id     49694 non-null  int64 \n",
      " 1   product_name   48436 non-null  object\n",
      " 2   aisle_id       49694 non-null  int64 \n",
      " 3   department_id  49694 non-null  int64 \n",
      "dtypes: int64(3), object(1)\n",
      "memory usage: 1.5+ MB\n",
      "None\n"
     ]
    }
   ],
   "source": [
    "print(df_products.info())# mostrar información del DataFrame"
   ]
  },
  {
   "cell_type": "code",
   "execution_count": 73,
   "id": "d8370c05",
   "metadata": {
    "id": "d8370c05"
   },
   "outputs": [
    {
     "name": "stdout",
     "output_type": "stream",
     "text": [
      "<class 'pandas.core.frame.DataFrame'>\n",
      "RangeIndex: 134 entries, 0 to 133\n",
      "Data columns (total 2 columns):\n",
      " #   Column    Non-Null Count  Dtype \n",
      "---  ------    --------------  ----- \n",
      " 0   aisle_id  134 non-null    int64 \n",
      " 1   aisle     134 non-null    object\n",
      "dtypes: int64(1), object(1)\n",
      "memory usage: 2.2+ KB\n",
      "None\n"
     ]
    }
   ],
   "source": [
    "print(df_aisles.info())# mostrar información del DataFrame"
   ]
  },
  {
   "cell_type": "code",
   "execution_count": 74,
   "id": "59e2090f",
   "metadata": {
    "id": "59e2090f"
   },
   "outputs": [
    {
     "name": "stdout",
     "output_type": "stream",
     "text": [
      "<class 'pandas.core.frame.DataFrame'>\n",
      "RangeIndex: 21 entries, 0 to 20\n",
      "Data columns (total 2 columns):\n",
      " #   Column         Non-Null Count  Dtype \n",
      "---  ------         --------------  ----- \n",
      " 0   department_id  21 non-null     int64 \n",
      " 1   department     21 non-null     object\n",
      "dtypes: int64(1), object(1)\n",
      "memory usage: 464.0+ bytes\n",
      "None\n"
     ]
    }
   ],
   "source": [
    "print(df_departments.info())# mostrar información del DataFrame"
   ]
  },
  {
   "cell_type": "code",
   "execution_count": 75,
   "id": "6fc81694",
   "metadata": {
    "id": "6fc81694"
   },
   "outputs": [
    {
     "name": "stdout",
     "output_type": "stream",
     "text": [
      "<class 'pandas.core.frame.DataFrame'>\n",
      "RangeIndex: 4545007 entries, 0 to 4545006\n",
      "Data columns (total 4 columns):\n",
      " #   Column             Non-Null Count    Dtype  \n",
      "---  ------             --------------    -----  \n",
      " 0   order_id           4545007 non-null  int64  \n",
      " 1   product_id         4545007 non-null  int64  \n",
      " 2   add_to_cart_order  4544171 non-null  float64\n",
      " 3   reordered          4545007 non-null  int64  \n",
      "dtypes: float64(1), int64(3)\n",
      "memory usage: 138.7 MB\n",
      "None\n"
     ]
    }
   ],
   "source": [
    "print(df_order_products.info(show_counts=True)) # mostrar información del DataFrame"
   ]
  },
  {
   "cell_type": "markdown",
   "id": "t75BD19oaR5f",
   "metadata": {
    "id": "t75BD19oaR5f"
   },
   "source": [
    "## Conclusiones\n",
    "\n",
    "Escribe aquí tus conclusiones intermedias sobre el Paso 1. Descripción de los datos.\n",
    "###### Revisé los archivos y están separados por ';' por lo tanto agregué la función sep=\"\". Hay alunos valores nulos.\n"
   ]
  },
  {
   "cell_type": "markdown",
   "id": "8RJHqxVmaVsF",
   "metadata": {
    "id": "8RJHqxVmaVsF"
   },
   "source": [
    "# Paso 2. Preprocesamiento de los datos\n",
    "\n",
    "Preprocesa los datos de la siguiente manera:\n",
    "\n",
    "- Verifica y corrige los tipos de datos (por ejemplo, asegúrate de que las columnas de ID sean números enteros).\n",
    "- Identifica y completa los valores ausentes.\n",
    "- Identifica y elimina los valores duplicados.\n",
    "\n",
    "Asegúrate de explicar qué tipos de valores ausentes y duplicados encontraste, cómo los completaste o eliminaste y por qué usaste esos métodos. ¿Por qué crees que estos valores ausentes y duplicados pueden haber estado presentes en el conjunto de datos?"
   ]
  },
  {
   "cell_type": "markdown",
   "id": "p6poABZQaZYb",
   "metadata": {
    "id": "p6poABZQaZYb"
   },
   "source": [
    "## Plan de solución\n",
    "\n",
    "Escribe aquí tu plan para el Paso 2. Preprocesamiento de los datos.\n",
    "\n",
    "###### Corregir tipos de datos\n",
    "+ Revisar tipos con df.info().\n",
    "+ Convertir IDs a enteros, fechas a datetime, etc.\n",
    "\n",
    "###### Manejar valores ausentes\n",
    "+ Identificarlos con df.isnull().sum().\n",
    "+ Rellenar numéricos con media/mediana, categóricos con valor más frecuente o \"Desconocido\".\n",
    "\n",
    "###### Eliminar duplicados\n",
    "+ Contar con df.duplicated().sum().\n",
    "+ Eliminar registros repetidos con df.drop_duplicates().\n",
    "\n",
    "###### Explicar resultados\n",
    "+ Qué errores se encontraron y cómo se corrigieron.\n",
    "+ Posibles causas de valores ausentes/duplicados."
   ]
  },
  {
   "cell_type": "markdown",
   "id": "07357848-dc64-4156-9cc3-01ff4365226d",
   "metadata": {
    "id": "07357848-dc64-4156-9cc3-01ff4365226d"
   },
   "source": [
    "## Encuentra y elimina los valores duplicados (y describe cómo tomaste tus decisiones)."
   ]
  },
  {
   "cell_type": "markdown",
   "id": "f179f0a9",
   "metadata": {
    "id": "f179f0a9"
   },
   "source": [
    "### `orders` data frame"
   ]
  },
  {
   "cell_type": "code",
   "execution_count": 126,
   "id": "b99297a5-405a-463d-8535-9adc3da4ad74",
   "metadata": {
    "id": "b99297a5-405a-463d-8535-9adc3da4ad74"
   },
   "outputs": [
    {
     "name": "stdout",
     "output_type": "stream",
     "text": [
      "Pedidos duplicados: 0\n"
     ]
    }
   ],
   "source": [
    "# Revisa si hay pedidos duplicados\n",
    "print(f\"Pedidos duplicados: {df_cart_orders['order_id'].duplicated().sum()}\")"
   ]
  },
  {
   "cell_type": "markdown",
   "id": "PEkwUX_gvt5A",
   "metadata": {
    "id": "PEkwUX_gvt5A"
   },
   "source": [
    "¿Tienes líneas duplicadas? Si sí, ¿qué tienen en común? \n",
    "###### No hay pedidos únicos duplicados"
   ]
  },
  {
   "cell_type": "code",
   "execution_count": 127,
   "id": "0d44de5d",
   "metadata": {
    "id": "0d44de5d"
   },
   "outputs": [
    {
     "name": "stdout",
     "output_type": "stream",
     "text": [
      "        order_id  user_id  order_number  order_dow  order_hour_of_day  \\\n",
      "4838     2766110   162084            41          3                  2   \n",
      "5156     2190225   138285            18          3                  2   \n",
      "15506     553049    58599            13          3                  2   \n",
      "18420     382357   120200            19          3                  2   \n",
      "24691     690242    77357             2          3                  2   \n",
      "...          ...      ...           ...        ...                ...   \n",
      "457013   3384021    14881             6          3                  2   \n",
      "458816    910166   164782            18          3                  2   \n",
      "459635   1680532   106435             6          3                  2   \n",
      "468324    222962    54979            59          3                  2   \n",
      "477526   2592344    46860            38          3                  2   \n",
      "\n",
      "        days_since_prior_order  \n",
      "4838                      16.0  \n",
      "5156                      11.0  \n",
      "15506                      7.0  \n",
      "18420                     11.0  \n",
      "24691                      9.0  \n",
      "...                        ...  \n",
      "457013                    30.0  \n",
      "458816                     4.0  \n",
      "459635                    21.0  \n",
      "468324                     3.0  \n",
      "477526                     3.0  \n",
      "\n",
      "[106 rows x 6 columns]\n"
     ]
    }
   ],
   "source": [
    "# Basándote en tus hallazgos,\n",
    "# Verifica todos los pedidos que se hicieron el miércoles a las 2:00 a.m.\n",
    "pedidos_miercoles_2am = df_cart_orders[\n",
    "    (df_cart_orders['order_dow'] == 3) &  \n",
    "    (df_cart_orders['order_hour_of_day'] == 2)\n",
    "]\n",
    "\n",
    "print(pedidos_miercoles_2am)\n"
   ]
  },
  {
   "cell_type": "markdown",
   "id": "vu2OWyoqwOx5",
   "metadata": {
    "id": "vu2OWyoqwOx5"
   },
   "source": [
    "¿Qué sugiere este resultado?\n",
    "###### Estos datos muestran que hay un grupo de usuarios que compra los miércoles a las 2:00 a.m., muchos de ellos clientes con patrones de compra diversos. Para un negocio, esto podría implicar oportunidades de optimización en promociones, atención al cliente o logística."
   ]
  },
  {
   "cell_type": "code",
   "execution_count": 128,
   "id": "480563c7",
   "metadata": {
    "id": "480563c7"
   },
   "outputs": [],
   "source": [
    "# Elimina los pedidos duplicados\n",
    "df_cart_orders= df_cart_orders.drop_duplicates()"
   ]
  },
  {
   "cell_type": "code",
   "execution_count": 129,
   "id": "0b2396a2",
   "metadata": {
    "id": "0b2396a2"
   },
   "outputs": [
    {
     "name": "stdout",
     "output_type": "stream",
     "text": [
      "Filas duplicadas: 0\n"
     ]
    }
   ],
   "source": [
    "print(f\"Filas duplicadas: {df_cart_orders.duplicated().sum()}\")\n",
    "# Vuelve a verificar si hay filas duplicadas\n"
   ]
  },
  {
   "cell_type": "code",
   "execution_count": 130,
   "id": "f6113ef1",
   "metadata": {
    "id": "f6113ef1"
   },
   "outputs": [
    {
     "name": "stdout",
     "output_type": "stream",
     "text": [
      "ID duplicados: 0\n"
     ]
    }
   ],
   "source": [
    "# Vuelve a verificar únicamente si hay IDs duplicados de pedidos\n",
    "print(f\"ID duplicados: {df_cart_orders['order_id'].duplicated().sum()}\")"
   ]
  },
  {
   "cell_type": "markdown",
   "id": "5e8905ae",
   "metadata": {
    "id": "5e8905ae"
   },
   "source": [
    "Describe brevemente tus hallazgos y lo que hiciste con ellos\n",
    "\n",
    "###### 15 valores duplicados de 121 no generan un gran impacto en los resultados si los eliminamos."
   ]
  },
  {
   "cell_type": "markdown",
   "id": "45e6bc46",
   "metadata": {
    "id": "45e6bc46"
   },
   "source": [
    "### `products` data frame"
   ]
  },
  {
   "cell_type": "code",
   "execution_count": 131,
   "id": "5f526b5b-8175-46fa-a0fd-441767d50e64",
   "metadata": {
    "id": "5f526b5b-8175-46fa-a0fd-441767d50e64"
   },
   "outputs": [
    {
     "name": "stdout",
     "output_type": "stream",
     "text": [
      "Filas duplicadas: 0\n"
     ]
    }
   ],
   "source": [
    "# Verifica si hay filas totalmente duplicadas\n",
    "print(f\"Filas duplicadas: {df_products.duplicated().sum()}\")\n"
   ]
  },
  {
   "cell_type": "code",
   "execution_count": 132,
   "id": "88daa4f4",
   "metadata": {
    "id": "88daa4f4"
   },
   "outputs": [
    {
     "name": "stdout",
     "output_type": "stream",
     "text": [
      "Filas duplicadas: 49673\n"
     ]
    }
   ],
   "source": [
    "# Revisa únicamente si hay ID de departamentos duplicados\n",
    "print(f\"Filas duplicadas: {df_products['department_id'].duplicated().sum()}\")"
   ]
  },
  {
   "cell_type": "code",
   "execution_count": 133,
   "id": "c773f0bf",
   "metadata": {
    "id": "c773f0bf"
   },
   "outputs": [
    {
     "name": "stdout",
     "output_type": "stream",
     "text": [
      "Nombres duplicados: 1361\n"
     ]
    }
   ],
   "source": [
    "# Revisa únicamente si hay nombres duplicados de productos (convierte los nombres a letras mayúsculas para compararlos mejor)\n",
    "df_products['product_name'] = df_products['product_name'].str.upper()\n",
    "print(f\"Nombres duplicados: {df_products['product_name'].duplicated().sum()}\")"
   ]
  },
  {
   "cell_type": "code",
   "execution_count": 134,
   "id": "01efd02e",
   "metadata": {
    "id": "01efd02e"
   },
   "outputs": [
    {
     "name": "stdout",
     "output_type": "stream",
     "text": [
      "Número de productos: 1361\n"
     ]
    }
   ],
   "source": [
    "# Revisa si hay nombres duplicados de productos no faltantes\n",
    "productos_no_faltantes = df_products[df_products['product_name'].notna()]['product_name'].duplicated().sum()\n",
    "print(f\"Número de productos: {productos_no_faltantes}\")\n"
   ]
  },
  {
   "cell_type": "markdown",
   "id": "9da8d293",
   "metadata": {
    "id": "9da8d293"
   },
   "source": [
    "Describe brevemente tus hallazgos y lo que hiciste con ellos.\n"
   ]
  },
  {
   "cell_type": "markdown",
   "id": "60f30db1",
   "metadata": {
    "id": "60f30db1"
   },
   "source": [
    "### `departments` data frame"
   ]
  },
  {
   "cell_type": "code",
   "execution_count": 135,
   "id": "fb410ad4-0fbf-4b80-bb09-23fdea79afe3",
   "metadata": {
    "id": "fb410ad4-0fbf-4b80-bb09-23fdea79afe3"
   },
   "outputs": [
    {
     "name": "stdout",
     "output_type": "stream",
     "text": [
      "Filas duplicadas: 0\n"
     ]
    }
   ],
   "source": [
    "# Revisa si hay filas totalmente duplicadas\n",
    "departments_dup = df_departments.duplicated().sum()\n",
    "print(f\"Filas duplicadas: {departments_dup}\")"
   ]
  },
  {
   "cell_type": "code",
   "execution_count": 136,
   "id": "332b12bb",
   "metadata": {
    "id": "332b12bb"
   },
   "outputs": [
    {
     "name": "stdout",
     "output_type": "stream",
     "text": [
      "Filas duplicadas: 0\n"
     ]
    }
   ],
   "source": [
    "# Revisa únicamente si hay IDs duplicadas de productos\n",
    "departments_id_dup = df_departments['department_id'].duplicated().sum()\n",
    "print(f\"Filas duplicadas: {departments_id_dup}\")"
   ]
  },
  {
   "cell_type": "markdown",
   "id": "bd30d78e",
   "metadata": {
    "id": "bd30d78e"
   },
   "source": [
    "Describe brevemente tus hallazgos y lo que hiciste con ellos.\n",
    "###### No se hallaron departamentos duplicados"
   ]
  },
  {
   "cell_type": "markdown",
   "id": "889349c1",
   "metadata": {
    "id": "889349c1"
   },
   "source": [
    "### `aisles` data frame"
   ]
  },
  {
   "cell_type": "code",
   "execution_count": 137,
   "id": "9da89fb9-4679-40f5-ad0d-c34df753a3f8",
   "metadata": {
    "id": "9da89fb9-4679-40f5-ad0d-c34df753a3f8"
   },
   "outputs": [
    {
     "name": "stdout",
     "output_type": "stream",
     "text": [
      "Filas duplicadas: 0\n"
     ]
    }
   ],
   "source": [
    "# Revisa si hay filas totalmente duplicadas\n",
    "aisles_dup = df_aisles.duplicated().sum()\n",
    "print(f\"Filas duplicadas: {aisles_dup}\")"
   ]
  },
  {
   "cell_type": "code",
   "execution_count": 138,
   "id": "da7c2822",
   "metadata": {
    "id": "da7c2822"
   },
   "outputs": [
    {
     "name": "stdout",
     "output_type": "stream",
     "text": [
      "IDs duplicados: 0\n"
     ]
    }
   ],
   "source": [
    "# Revisa únicamente si hay IDs duplicadas de pasillos\n",
    "aisles_id_dup = df_aisles['aisle_id'].duplicated().sum()\n",
    "print(f\"IDs duplicados: {aisles_id_dup}\")"
   ]
  },
  {
   "cell_type": "markdown",
   "id": "ac63826f",
   "metadata": {
    "id": "ac63826f"
   },
   "source": [
    "Describe brevemente tus hallazgos y lo que hiciste con ellos.\n",
    "\n",
    "###### No se halaron duplicados"
   ]
  },
  {
   "cell_type": "markdown",
   "id": "274cd06a",
   "metadata": {
    "id": "274cd06a"
   },
   "source": [
    "### `order_products` data frame"
   ]
  },
  {
   "cell_type": "code",
   "execution_count": 89,
   "id": "52326689-84a8-4b8f-a881-7c68780f62c9",
   "metadata": {
    "id": "52326689-84a8-4b8f-a881-7c68780f62c9"
   },
   "outputs": [
    {
     "name": "stdout",
     "output_type": "stream",
     "text": [
      "Filas duplicadas: 0\n"
     ]
    }
   ],
   "source": [
    "# Revisa si hay filas totalmente duplicadas\n",
    "order_dup = df_order_products.duplicated().sum()\n",
    "print(f\"Filas duplicadas: {order_dup}\")"
   ]
  },
  {
   "cell_type": "code",
   "execution_count": 90,
   "id": "7b861391",
   "metadata": {
    "id": "7b861391"
   },
   "outputs": [
    {
     "name": "stdout",
     "output_type": "stream",
     "text": [
      "Pedidos duplicados: 4094961\n"
     ]
    }
   ],
   "source": [
    "# Vuelve a verificar si hay cualquier otro duplicado engañoso\n",
    "print(f\"Pedidos duplicados: {df_order_products['order_id'].duplicated().sum()}\")"
   ]
  },
  {
   "cell_type": "markdown",
   "id": "0b890492",
   "metadata": {
    "id": "0b890492"
   },
   "source": [
    "Describe brevemente tus hallazgos y lo que hiciste con ellos.\n",
    "\n",
    "###### Hay ordenes repetidas pero no las voy a eliminar porque es muy seguro que se repitan por ser una misma compra pero distintos productos."
   ]
  },
  {
   "cell_type": "markdown",
   "id": "1e46de76",
   "metadata": {
    "id": "1e46de76"
   },
   "source": [
    "## Encuentra y elimina los valores ausentes\n",
    "\n",
    "Al trabajar con valores duplicados, pudimos observar que también nos falta investigar valores ausentes:\n",
    "\n",
    "* La columna `'product_name'` de la tabla products.\n",
    "* La columna `'days_since_prior_order'` de la tabla orders.\n",
    "* La columna `'add_to_cart_order'` de la tabla order_productos."
   ]
  },
  {
   "cell_type": "markdown",
   "id": "c0aebd78",
   "metadata": {
    "id": "c0aebd78"
   },
   "source": [
    "### `products` data frame"
   ]
  },
  {
   "cell_type": "code",
   "execution_count": 91,
   "id": "fe4a8b0f",
   "metadata": {
    "id": "fe4a8b0f"
   },
   "outputs": [
    {
     "name": "stdout",
     "output_type": "stream",
     "text": [
      "Valores ausentes: 1258\n"
     ]
    }
   ],
   "source": [
    "# Encuentra los valores ausentes en la columna 'product_name'\n",
    "print(f\"Valores ausentes: {df_products['product_name'].isna().sum()}\")"
   ]
  },
  {
   "cell_type": "markdown",
   "id": "-A6x1AbJhjkp",
   "metadata": {
    "id": "-A6x1AbJhjkp"
   },
   "source": [
    "Describe brevemente cuáles son tus hallazgos.\n",
    "###### Faltan algunos nombres"
   ]
  },
  {
   "cell_type": "code",
   "execution_count": 92,
   "id": "e96167bc",
   "metadata": {
    "id": "e96167bc"
   },
   "outputs": [
    {
     "name": "stdout",
     "output_type": "stream",
     "text": [
      "aisle_id\n",
      "100    1258\n",
      "Name: product_name, dtype: int64\n"
     ]
    }
   ],
   "source": [
    "#  ¿Todos los nombres de productos ausentes están relacionados con el pasillo con ID 100?\n",
    "missing_by_aisle = df_products.groupby('aisle_id')['product_name'].apply(lambda x: x.isna().sum())\n",
    "\n",
    "# Filtré pasillos con más de 1 dato faltante\n",
    "missing_by_aisle = missing_by_aisle[missing_by_aisle > 1]\n",
    "\n",
    "print(missing_by_aisle)\n"
   ]
  },
  {
   "cell_type": "markdown",
   "id": "WRpIfXRphpSL",
   "metadata": {
    "id": "WRpIfXRphpSL"
   },
   "source": [
    "Describe brevemente cuáles son tus hallazgos.\n",
    "###### Todos los datos faltantes se encuentran en el pasillo 100"
   ]
  },
  {
   "cell_type": "code",
   "execution_count": 93,
   "id": "8fd0a541",
   "metadata": {
    "id": "8fd0a541"
   },
   "outputs": [
    {
     "name": "stdout",
     "output_type": "stream",
     "text": [
      "Todos los productos faltantes están relacionados con el departamento con ID 21.\n"
     ]
    }
   ],
   "source": [
    "# ¿Todos los nombres de productos ausentes están relacionados con el departamento con ID 21?\n",
    "\n",
    "missing_products = df_products[df_products['product_name'].isna()]\n",
    "\n",
    "# Verificar si están relacionados con el departamento con ID 21\n",
    "related_to_21 = missing_products['department_id'] == 21\n",
    "\n",
    "if related_to_21.all():\n",
    "    print(\"Todos los productos faltantes están relacionados con el departamento con ID 21.\")\n",
    "elif related_to_21.any():\n",
    "    print(\"Algunos productos faltantes están relacionados con el departamento con ID 21.\")\n",
    "else:\n",
    "    print(\"Ningún producto faltante está relacionado con el departamento con ID 21.\")\n"
   ]
  },
  {
   "cell_type": "markdown",
   "id": "qDpdYn1Fht_I",
   "metadata": {
    "id": "qDpdYn1Fht_I"
   },
   "source": [
    "Describe brevemente cuáles son tus hallazgos.\n",
    "###### Están relacionados con el departamento con ID 21"
   ]
  },
  {
   "cell_type": "code",
   "execution_count": 94,
   "id": "325c3464",
   "metadata": {
    "id": "325c3464"
   },
   "outputs": [
    {
     "name": "stdout",
     "output_type": "stream",
     "text": [
      "Datos relacionados con el pasillo ID 100\n",
      "    aisle_id    aisle\n",
      "99       100  missing\n",
      "\n",
      "Datos relacionados con el departamento ID 21\n",
      "    department_id department\n",
      "20             21    missing\n"
     ]
    }
   ],
   "source": [
    "# Usa las tablas department y aisle para revisar los datos del pasillo con ID 100 y el departamento con ID 21.\n",
    "aisle_100 = df_aisles[df_aisles['aisle_id']==100]\n",
    "department_21 = df_departments[df_departments['department_id']==21]\n",
    "\n",
    "print('Datos relacionados con el pasillo ID 100')\n",
    "print(aisle_100)\n",
    "print()\n",
    "print('Datos relacionados con el departamento ID 21')\n",
    "print(department_21)"
   ]
  },
  {
   "cell_type": "markdown",
   "id": "nqhSTUPhhvEJ",
   "metadata": {
    "id": "nqhSTUPhhvEJ"
   },
   "source": [
    "Describe brevemente cuáles son tus hallazgos.\n",
    "###### Tanto el departamento 21 como el pasillo 100 están marcados con 'missing' lo que indica que no se tiene información sobre ellos."
   ]
  },
  {
   "cell_type": "code",
   "execution_count": 95,
   "id": "6b295120",
   "metadata": {
    "id": "6b295120"
   },
   "outputs": [
    {
     "name": "stdout",
     "output_type": "stream",
     "text": [
      "Valores ausentes: 0\n"
     ]
    }
   ],
   "source": [
    "# Completa los nombres de productos ausentes con 'Unknown'\n",
    "df_products['product_name'] = df_products['product_name'].fillna('Unknown')\n",
    "print(f\"Valores ausentes: {df_products['product_name'].isna().sum()}\")"
   ]
  },
  {
   "cell_type": "markdown",
   "id": "fc70e5ad",
   "metadata": {
    "id": "fc70e5ad"
   },
   "source": [
    "Describe brevemente tus hallazgos y lo que hiciste con ellos.\n",
    "###### Se reemplazaron los valores ausentes."
   ]
  },
  {
   "cell_type": "markdown",
   "id": "7eb45c86",
   "metadata": {
    "id": "7eb45c86"
   },
   "source": [
    "### `orders` data frame"
   ]
  },
  {
   "cell_type": "code",
   "execution_count": 96,
   "id": "93e41d96",
   "metadata": {
    "id": "93e41d96"
   },
   "outputs": [
    {
     "name": "stdout",
     "output_type": "stream",
     "text": [
      "Valores ausentes: order_id                      0\n",
      "user_id                       0\n",
      "order_number                  0\n",
      "order_dow                     0\n",
      "order_hour_of_day             0\n",
      "days_since_prior_order    28817\n",
      "dtype: int64\n"
     ]
    }
   ],
   "source": [
    "# Encuentra los valores ausentes\n",
    "print(f\"Valores ausentes: {df_cart_orders.isna().sum()}\")"
   ]
  },
  {
   "cell_type": "code",
   "execution_count": 97,
   "id": "166e5a86",
   "metadata": {
    "id": "166e5a86"
   },
   "outputs": [
    {
     "name": "stdout",
     "output_type": "stream",
     "text": [
      "Empty DataFrame\n",
      "Columns: [order_id, user_id, order_number, order_dow, order_hour_of_day, days_since_prior_order]\n",
      "Index: []\n"
     ]
    }
   ],
   "source": [
    "# ¿Hay algún valor ausente que no sea el primer pedido del cliente?\n",
    "# Filtrar los datos faltantes en 'days_since_prior_order' que no sean del primer pedido\n",
    "missing_not_first_order = df_cart_orders[(df_cart_orders['days_since_prior_order'].isna()) & (df_cart_orders['order_number'] != 1)]\n",
    "\n",
    "print(missing_not_first_order)\n"
   ]
  },
  {
   "cell_type": "markdown",
   "id": "4e23d089",
   "metadata": {
    "id": "4e23d089"
   },
   "source": [
    "Describe brevemente tus hallazgos y lo que hiciste con ellos.\n",
    "###### El resultado indica que no hay filas que cumplan con ambas condiciones: tener valores faltantes en la columna days_since_prior_order y no ser el primer pedido del cliente"
   ]
  },
  {
   "cell_type": "markdown",
   "id": "69dc9ca4",
   "metadata": {
    "id": "69dc9ca4"
   },
   "source": [
    "### `order_products` data frame"
   ]
  },
  {
   "cell_type": "code",
   "execution_count": 98,
   "id": "b8240253",
   "metadata": {
    "id": "b8240253"
   },
   "outputs": [
    {
     "name": "stdout",
     "output_type": "stream",
     "text": [
      "Valores ausentes: order_id               0\n",
      "product_id             0\n",
      "add_to_cart_order    836\n",
      "reordered              0\n",
      "dtype: int64\n"
     ]
    }
   ],
   "source": [
    "# Encuentra los valores ausentes\n",
    "print(f\"Valores ausentes: {df_order_products.isna().sum()}\")"
   ]
  },
  {
   "cell_type": "code",
   "execution_count": 99,
   "id": "9a78e5ee",
   "metadata": {
    "id": "9a78e5ee"
   },
   "outputs": [
    {
     "name": "stdout",
     "output_type": "stream",
     "text": [
      "El valor mínimo de esa columna es: 1.0. Y el valor máximo es: 64.0\n"
     ]
    }
   ],
   "source": [
    "# ¿Cuáles son los valores mínimos y máximos en esta columna?\n",
    "print(f\"El valor mínimo de esa columna es: {df_order_products['add_to_cart_order'].min()}. Y el valor máximo es: {df_order_products['add_to_cart_order'].max()}\")"
   ]
  },
  {
   "cell_type": "markdown",
   "id": "-Z2Ja215jW78",
   "metadata": {
    "id": "-Z2Ja215jW78"
   },
   "source": [
    "Describe brevemente cuáles son tus hallazgos.\n",
    "###### El valor mínimo de 1 significa que siempre hay un primer producto añadido al carrito, y el valor máximo de 64 indica que, en algún caso, se añadieron hasta 64 productos en un solo pedido."
   ]
  },
  {
   "cell_type": "code",
   "execution_count": 100,
   "id": "ab9d0c2b",
   "metadata": {
    "id": "ab9d0c2b"
   },
   "outputs": [],
   "source": [
    "# Guarda todas las IDs de pedidos que tengan un valor ausente en 'add_to_cart_order'\n",
    "add_to_cart_missing = df_order_products[df_order_products['add_to_cart_order'].isnull()]['order_id']"
   ]
  },
  {
   "cell_type": "code",
   "execution_count": 101,
   "id": "54c31695",
   "metadata": {
    "id": "54c31695"
   },
   "outputs": [
    {
     "name": "stdout",
     "output_type": "stream",
     "text": [
      "¿Todos los pedidos con valores ausentes tienen más de 64 productos? False\n",
      "El valor mínimo del conteo es: 1\n"
     ]
    }
   ],
   "source": [
    "# ¿Todos los pedidos con valores ausentes tienen más de 64 productos?\n",
    "# Agrupa todos los pedidos con datos ausentes por su ID de pedido.\n",
    "# Cuenta el número de 'product_id' en cada pedido y revisa el valor mínimo del conteo.\n",
    "\n",
    "missing_orders = df_order_products[df_order_products['add_to_cart_order'].isnull()]\n",
    "\n",
    "product_count_by_order = missing_orders.groupby('order_id')['product_id'].count()\n",
    "\n",
    "min_product_count = product_count_by_order.min()\n",
    "\n",
    "print(f\"¿Todos los pedidos con valores ausentes tienen más de 64 productos? {min_product_count > 64}\")\n",
    "print(f\"El valor mínimo del conteo es: {min_product_count}\")\n"
   ]
  },
  {
   "cell_type": "markdown",
   "id": "p9V6pddtjglj",
   "metadata": {
    "id": "p9V6pddtjglj"
   },
   "source": [
    "Describe brevemente cuáles son tus hallazgos.\n",
    "###### No todos los pedidos con valores ausentes tienen más de 64 productos, ya que el pedido con menos productos tiene solo 1 artículo."
   ]
  },
  {
   "cell_type": "code",
   "execution_count": 102,
   "id": "7a987d08",
   "metadata": {
    "id": "7a987d08"
   },
   "outputs": [],
   "source": [
    "# Remplaza los valores ausentes en la columna 'add_to_cart? con 999 y convierte la columna al tipo entero.\n",
    "df_order_products['add_to_cart_order'] = df_order_products['add_to_cart_order'].fillna(999).astype(int)"
   ]
  },
  {
   "cell_type": "markdown",
   "id": "fea4bcc7",
   "metadata": {
    "id": "fea4bcc7"
   },
   "source": [
    "Describe brevemente tus hallazgos y lo que hiciste con ellos.\n",
    "###### Se remplazaron los valores ausentes en la columna add_to_cart_order con el valor 999 y se convirtió toda la columna a tipo entero para garantizar que los datos sean consistentes y adecuados para análisis."
   ]
  },
  {
   "cell_type": "markdown",
   "id": "RnplPFY1gSrb",
   "metadata": {
    "id": "RnplPFY1gSrb"
   },
   "source": [
    "## Conclusiones\n",
    "\n",
    "Escribe aquí tus conclusiones intermedias sobre el Paso 2. Preprocesamiento de los datos\n",
    "###### En este procesamiento logramos identificar y anejar valores ausentes y limpiar datos para facilitar su análisis. Esto garantiza que los datos sean consistentes, limpios y adecuados para análisis posteriores.\n"
   ]
  },
  {
   "cell_type": "markdown",
   "id": "UjrOIwTcz3ri",
   "metadata": {
    "id": "UjrOIwTcz3ri"
   },
   "source": [
    "# Paso 3. Análisis de los datos\n",
    "\n",
    "Una vez los datos estén procesados y listos, haz el siguiente análisis:"
   ]
  },
  {
   "cell_type": "markdown",
   "id": "turkish-kidney",
   "metadata": {
    "id": "turkish-kidney"
   },
   "source": [
    "# [A] Fácil (deben completarse todos para aprobar)\n",
    "\n",
    "1. Verifica que los valores en las columnas `'order_hour_of_day'` y `'order_dow'` en la tabla orders sean razonables (es decir, `'order_hour_of_day'` oscile entre 0 y 23 y `'order_dow'` oscile entre 0 y 6).\n",
    "2. Crea un gráfico que muestre el número de personas que hacen pedidos dependiendo de la hora del día.\n",
    "3. Crea un gráfico que muestre qué día de la semana la gente hace sus compras.\n",
    "4. Crea un gráfico que muestre el tiempo que la gente espera hasta hacer su siguiente pedido, y comenta sobre los valores mínimos y máximos."
   ]
  },
  {
   "cell_type": "markdown",
   "id": "short-capability",
   "metadata": {
    "id": "short-capability"
   },
   "source": [
    "### [A1] Verifica que los valores sean sensibles"
   ]
  },
  {
   "cell_type": "code",
   "execution_count": 103,
   "id": "7883bd5f",
   "metadata": {},
   "outputs": [
    {
     "name": "stdout",
     "output_type": "stream",
     "text": [
      "Todos los valores en 'order_hour_of_day' y 'order_dow' están dentro de los rangos razonables.\n"
     ]
    }
   ],
   "source": [
    "# Verificar valores razonables en 'order_hour_of_day'\n",
    "invalid_hour = df_cart_orders[~df_cart_orders['order_hour_of_day'].between(0, 23)]\n",
    "\n",
    "# Verificar valores razonables en 'order_dow'\n",
    "invalid_dow = df_cart_orders[~df_cart_orders['order_dow'].between(0, 6)]\n",
    "\n",
    "# Mostrar resultados\n",
    "if invalid_hour.empty and invalid_dow.empty:\n",
    "    print(\"Todos los valores en 'order_hour_of_day' y 'order_dow' están dentro de los rangos razonables.\")\n",
    "else:\n",
    "    print(\"Valores fuera de rango encontrados:\")\n",
    "    print(f\"Valores fuera de rango en 'order_hour_of_day':\\n{invalid_hour}\")\n",
    "    print(f\"Valores fuera de rango en 'order_dow':\\n{invalid_dow}\")\n"
   ]
  },
  {
   "cell_type": "markdown",
   "id": "hmR2GNQ6lCsX",
   "metadata": {
    "id": "hmR2GNQ6lCsX"
   },
   "source": [
    "Escribe aquí tus conclusiones\n"
   ]
  },
  {
   "cell_type": "markdown",
   "id": "a6743a70",
   "metadata": {
    "id": "a6743a70"
   },
   "source": [
    "### [A2] Para cada hora del día, ¿cuántas personas hacen órdenes?"
   ]
  },
  {
   "cell_type": "code",
   "execution_count": 104,
   "id": "a36cca27",
   "metadata": {
    "id": "a36cca27"
   },
   "outputs": [
    {
     "data": {
      "image/png": "[encoded data removed]",
      "text/plain": [
       "<Figure size 800x500 with 1 Axes>"
      ]
     },
     "metadata": {},
     "output_type": "display_data"
    }
   ],
   "source": [
    "order_counts = df_cart_orders.groupby('order_hour_of_day')['user_id'].nunique()\n",
    "order_counts.plot(x='order_hour_of_day',\n",
    "                    y='order_counts',\n",
    "                    title = 'Número de personas que hacen pedidos por hora del día',\n",
    "                    xlabel = 'Hora del día',\n",
    "                    ylabel = 'Número de personas',\n",
    "                    figsize = (8, 5))\n",
    "labels = ['Madrugada', 'Mañana', 'Tarde', 'Noche']\n",
    "plt.show()"
   ]
  },
  {
   "cell_type": "markdown",
   "id": "11270eed",
   "metadata": {
    "id": "11270eed"
   },
   "source": [
    "Escribe aquí tus conclusiones\n",
    "\n",
    "###### Una fuerte cantidad de clientes haccen sus compras en un horario de 9 hrs a 17 hrs."
   ]
  },
  {
   "cell_type": "markdown",
   "id": "documented-command",
   "metadata": {
    "id": "documented-command"
   },
   "source": [
    "### [A3] ¿Qué día de la semana compran víveres las personas?"
   ]
  },
  {
   "cell_type": "code",
   "execution_count": 105,
   "id": "chief-digit",
   "metadata": {
    "id": "chief-digit"
   },
   "outputs": [
    {
     "data": {
      "image/png": "[encoded data removed]",
      "text/plain": [
       "<Figure size 640x480 with 1 Axes>"
      ]
     },
     "metadata": {},
     "output_type": "display_data"
    }
   ],
   "source": [
    "days_of_week = {\n",
    "    0: 'Domingo', 1: 'Lunes', 2: 'Martes', 3: 'Miércoles',\n",
    "    4: 'Jueves', 5: 'Viernes', 6: 'Sábado'\n",
    "}\n",
    "\n",
    "order_per_day = df_cart_orders.groupby('order_dow')['user_id'].nunique()\n",
    "order_per_day.index = order_per_day.index.map(days_of_week)\n",
    "order_per_day.plot(x='order_dow',\n",
    "                   y='order_per_day',\n",
    "                   title = 'Compras por día de la semana',\n",
    "                   xlabel = 'Día de la semana',\n",
    "                   ylabel = 'Número de compras',\n",
    "                   rot = 45)\n",
    "\n",
    "plt.show()"
   ]
  },
  {
   "cell_type": "markdown",
   "id": "dominant-lightning",
   "metadata": {
    "id": "dominant-lightning"
   },
   "source": [
    "Escribe aquí tus conclusiones\n",
    "\n",
    "###### Domingo y Lunes es cuando más compran víveres, seguramente para estar listos para la semana."
   ]
  },
  {
   "cell_type": "markdown",
   "id": "cutting-concert",
   "metadata": {
    "id": "cutting-concert"
   },
   "source": [
    "### [A4] ¿Cuánto tiempo esperan las personas hasta hacer otro pedido? Comenta sobre los valores mínimos y máximos."
   ]
  },
  {
   "cell_type": "code",
   "execution_count": 106,
   "id": "c231f523",
   "metadata": {
    "id": "c231f523"
   },
   "outputs": [
    {
     "data": {
      "image/png": "[encoded data removed]",
      "text/plain": [
       "<Figure size 640x480 with 1 Axes>"
      ]
     },
     "metadata": {},
     "output_type": "display_data"
    }
   ],
   "source": [
    "time_for_next_order = df_cart_orders.groupby('days_since_prior_order')['user_id'].nunique()\n",
    "time_for_next_order.plot(title = 'Frecuencia de pedidos',\n",
    "                         x='days_since_prior_order',\n",
    "                         y='time_for_next_order',\n",
    "                         xlabel='Días desde el último pedido',\n",
    "                         ylabel='Número de clientes')\n",
    "plt.show()"
   ]
  },
  {
   "cell_type": "markdown",
   "id": "discrete-vertex",
   "metadata": {
    "id": "discrete-vertex"
   },
   "source": [
    "Escribe aquí tus conclusiones\n",
    "\n",
    "##### Explicación: \n",
    "+ Valor mínimo: Parece haber un pico en valores bajos (1-7 días), lo que indica que muchas personas hacen pedidos semanales.\n",
    "+ Valor máximo: Hay un pico fuerte en el día 30, lo que sugiere que muchos clientes compran mensualmente (posiblemente después de recibir su salario o ajustar su presupuesto mensual)."
   ]
  },
  {
   "cell_type": "markdown",
   "id": "tight-staff",
   "metadata": {
    "id": "tight-staff"
   },
   "source": [
    "# [B] Intermedio (deben completarse todos para aprobar)\n",
    "\n",
    "1. ¿Existe alguna diferencia entre las distribuciones `'order_hour_of_day'` de los miércoles y los sábados? Traza gráficos de barra de `'order_hour_of_day'` para ambos días en la misma figura y describe las diferencias que observes.\n",
    "2. Grafica la distribución para el número de órdenes que hacen los clientes (es decir, cuántos clientes hicieron solo 1 pedido, cuántos hicieron 2, cuántos 3, y así sucesivamente...).\n",
    "3. ¿Cuáles son los 20 principales productos que se piden con más frecuencia (muestra su identificación y nombre)?"
   ]
  },
  {
   "cell_type": "markdown",
   "id": "packed-classic",
   "metadata": {
    "id": "packed-classic"
   },
   "source": [
    "### [B1] Diferencia entre miércoles y sábados para  `'order_hour_of_day'`. Traza gráficos de barra para los dos días y describe las diferencias que veas."
   ]
  },
  {
   "cell_type": "code",
   "execution_count": 107,
   "id": "d89b8403",
   "metadata": {
    "id": "d89b8403"
   },
   "outputs": [],
   "source": [
    "# Primero voy a crear un subconjunto\n",
    "df_wednesday = df_cart_orders[df_cart_orders['order_dow'] == 3]\n",
    "df_saturday = df_cart_orders[df_cart_orders['order_dow']== 6]"
   ]
  },
  {
   "cell_type": "code",
   "execution_count": 108,
   "id": "94e54e8a",
   "metadata": {
    "id": "94e54e8a"
   },
   "outputs": [],
   "source": [
    "# Cuántos pedidos se hicieron por cada día\n",
    "wednesday_orders = df_wednesday['order_hour_of_day'].value_counts().sort_index()\n",
    "saturday_orders = df_saturday['order_hour_of_day'].value_counts().sort_index()"
   ]
  },
  {
   "cell_type": "code",
   "execution_count": 109,
   "id": "797c90a8",
   "metadata": {
    "id": "797c90a8"
   },
   "outputs": [
    {
     "data": {
      "image/png": "[encoded data removed]",
      "text/plain": [
       "<Figure size 1000x500 with 1 Axes>"
      ]
     },
     "metadata": {},
     "output_type": "display_data"
    }
   ],
   "source": [
    "# Ahora el gráfico\n",
    "wednesday_orders.plot(kind='bar', alpha=0.8, label='Miércoles', figsize=(10,5), \n",
    "                      title='Distribución de pedidos por hora: Miércoles vs Sábado', \n",
    "                      xlabel='Hora del día', ylabel='Número de pedidos', xticks=range(0,24), color='yellow'); \n",
    "\n",
    "saturday_orders.plot(kind='bar', alpha=0.6, label='Sábado', color='blue'); \n",
    "\n",
    "plt.legend(); plt.show()"
   ]
  },
  {
   "cell_type": "markdown",
   "id": "charitable-congo",
   "metadata": {
    "id": "charitable-congo"
   },
   "source": [
    "Escribe aquí tus conclusiones\n",
    "###### No hay mucha diferencia, sin embargo podemos ver que los sábados entre las 11 hrs y las 14 hrs hay un aumento en la cantidad de compras"
   ]
  },
  {
   "cell_type": "markdown",
   "id": "e3891143",
   "metadata": {
    "id": "e3891143"
   },
   "source": [
    "### [B2] ¿Cuál es la distribución para el número de pedidos por cliente?"
   ]
  },
  {
   "cell_type": "code",
   "execution_count": 110,
   "id": "d8c26c23",
   "metadata": {
    "id": "d8c26c23"
   },
   "outputs": [
    {
     "data": {
      "image/png": "[encoded data removed]",
      "text/plain": [
       "<Figure size 640x480 with 1 Axes>"
      ]
     },
     "metadata": {},
     "output_type": "display_data"
    }
   ],
   "source": [
    "number_of_orders = df_cart_orders.groupby('order_number')['user_id'].nunique()\n",
    "number_of_orders.plot(title = 'Distribución del número de órdenes',\n",
    "                         x='order_number',\n",
    "                         y='number_of_orders',\n",
    "                         xlabel='Cantidad de órdenes',\n",
    "                         ylabel='Cantidad de clientes',\n",
    "                         kind='bar')\n",
    "plt.xticks(range(0, len(number_of_orders), 5), rotation=45) \n",
    "plt.show()"
   ]
  },
  {
   "cell_type": "markdown",
   "id": "d2eff7d5",
   "metadata": {
    "id": "d2eff7d5"
   },
   "source": [
    "Escribe aquí tus conclusiones\n",
    "###### Cerca del 10% del total de los clientes hacen en tre 1 y 10 pedidos."
   ]
  },
  {
   "cell_type": "markdown",
   "id": "54a0319c",
   "metadata": {
    "id": "54a0319c"
   },
   "source": [
    "### [B3] ¿Cuáles son los 20 productos más populares (muestra su ID y nombre)?"
   ]
  },
  {
   "cell_type": "code",
   "execution_count": 111,
   "id": "exterior-arizona",
   "metadata": {
    "id": "exterior-arizona",
    "scrolled": true
   },
   "outputs": [],
   "source": [
    "top_products = df_order_products['product_id'].value_counts().reset_index()\n",
    "top_products.columns = ['product_id', 'count']"
   ]
  },
  {
   "cell_type": "code",
   "execution_count": 112,
   "id": "universal-facial",
   "metadata": {
    "id": "universal-facial"
   },
   "outputs": [],
   "source": [
    "top_products = top_products.merge(df_products[['product_id', 'product_name']], on='product_id', how='left')"
   ]
  },
  {
   "cell_type": "code",
   "execution_count": 113,
   "id": "bbcdd20b",
   "metadata": {
    "id": "bbcdd20b"
   },
   "outputs": [
    {
     "name": "stdout",
     "output_type": "stream",
     "text": [
      "    product_id  count              product_name\n",
      "0        24852  66050                    BANANA\n",
      "1        13176  53297    BAG OF ORGANIC BANANAS\n",
      "2        21137  37039      ORGANIC STRAWBERRIES\n",
      "3        21903  33971      ORGANIC BABY SPINACH\n",
      "4        47209  29773      ORGANIC HASS AVOCADO\n",
      "5        47766  24689           ORGANIC AVOCADO\n",
      "6        47626  21495               LARGE LEMON\n",
      "7        16797  20018              STRAWBERRIES\n",
      "8        26209  19690                     LIMES\n",
      "9        27845  19600        ORGANIC WHOLE MILK\n",
      "10       27966  19197       ORGANIC RASPBERRIES\n",
      "11       22935  15898      ORGANIC YELLOW ONION\n",
      "12       24964  15292            ORGANIC GARLIC\n",
      "13       45007  14584          ORGANIC ZUCCHINI\n",
      "14       39275  13879       ORGANIC BLUEBERRIES\n",
      "15       49683  13675            CUCUMBER KIRBY\n",
      "16       28204  12544        ORGANIC FUJI APPLE\n",
      "17        5876  12232             ORGANIC LEMON\n",
      "18        8277  11993  APPLE HONEYCRISP ORGANIC\n",
      "19       40706  11781    ORGANIC GRAPE TOMATOES\n"
     ]
    }
   ],
   "source": [
    "print(top_products.head(20))"
   ]
  },
  {
   "cell_type": "markdown",
   "id": "7df00f47",
   "metadata": {
    "id": "7df00f47"
   },
   "source": [
    "Escribe aquí tus conclusiones\n",
    "###### Podemos ver que los clientes tienen preferencia por productos orgánicos."
   ]
  },
  {
   "cell_type": "markdown",
   "id": "gross-theme",
   "metadata": {
    "id": "gross-theme"
   },
   "source": [
    "# [C] Difícil (deben completarse todos para aprobar)\n",
    "\n",
    "1. ¿Cuántos artículos suelen comprar las personas en un pedido? ¿Cómo es la distribución?\n",
    "2. ¿Cuáles son los 20 principales artículos que vuelven a pedirse con mayor frecuencia (muestra sus nombres e IDs de los productos)?\n",
    "3. Para cada producto, ¿cuál es la tasa de repetición del pedido (número de repeticiones de pedido/total de pedidos?\n",
    "4. Para cada cliente, ¿qué proporción de los productos que pidió ya los había pedido? Calcula la tasa de repetición de pedido para cada usuario en lugar de para cada producto.\n",
    "5. ¿Cuáles son los 20 principales artículos que la gente pone primero en sus carritos (muestra las IDs de los productos, sus nombres, y el número de veces en que fueron el primer artículo en añadirse al carrito)?"
   ]
  },
  {
   "cell_type": "markdown",
   "id": "romantic-deposit",
   "metadata": {
    "id": "romantic-deposit"
   },
   "source": [
    "### [C1] ¿Cuántos artículos compran normalmente las personas en un pedido? ¿Cómo es la distribución?"
   ]
  },
  {
   "cell_type": "code",
   "execution_count": 114,
   "id": "virtual-punch",
   "metadata": {
    "id": "virtual-punch"
   },
   "outputs": [],
   "source": [
    "# Necesito ver en order_products, order_id que son los pedidos únicos y contar en product_id la cantidad de productos\n",
    "# Cuántos pedidos tienen 1 articulo, cuántos tienen 2 y así\n",
    "\n",
    "order_size = df_order_products.groupby('order_id').size()"
   ]
  },
  {
   "cell_type": "code",
   "execution_count": 115,
   "id": "sensitive-breathing",
   "metadata": {
    "id": "sensitive-breathing"
   },
   "outputs": [
    {
     "name": "stdout",
     "output_type": "stream",
     "text": [
      "count    450046.000000\n",
      "mean         10.098983\n",
      "std           7.540206\n",
      "min           1.000000\n",
      "25%           5.000000\n",
      "50%           8.000000\n",
      "75%          14.000000\n",
      "max         127.000000\n",
      "dtype: float64\n"
     ]
    }
   ],
   "source": [
    "# Esto para ver las estádisticas generales\n",
    "print(order_size.describe())"
   ]
  },
  {
   "cell_type": "code",
   "execution_count": 116,
   "id": "completed-frank",
   "metadata": {
    "id": "completed-frank"
   },
   "outputs": [
    {
     "data": {
      "image/png": "[encoded data removed]",
      "text/plain": [
       "<Figure size 640x480 with 1 Axes>"
      ]
     },
     "metadata": {},
     "output_type": "display_data"
    }
   ],
   "source": [
    "order_size.plot(title='Distribución de artículos por pedidos',\n",
    "                xlabel='Número de artículos por pedido',\n",
    "                ylabel='Frecuencia',\n",
    "                grid = True,\n",
    "                kind = 'hist',\n",
    "                edgecolor='black',\n",
    "                bins=50)\n",
    "plt.show()"
   ]
  },
  {
   "cell_type": "markdown",
   "id": "designed-mortality",
   "metadata": {
    "id": "designed-mortality"
   },
   "source": [
    "Escribe aquí tus conclusiones\n",
    "###### Los pedidos rondan entre 1 (min) y 10 productos (promedio)."
   ]
  },
  {
   "cell_type": "markdown",
   "id": "5e6b5537",
   "metadata": {
    "id": "5e6b5537"
   },
   "source": [
    "### [C2] ¿Cuáles son los 20 principales artículos que vuelven a pedirse con mayor frecuencia (muestra sus nombres e IDs de los productos)?"
   ]
  },
  {
   "cell_type": "code",
   "execution_count": 117,
   "id": "9374e55a",
   "metadata": {
    "id": "9374e55a"
   },
   "outputs": [],
   "source": [
    "# Revisar en order_products, la columnda reordered muestra 1 si el producto ya se ha ordenado antes\n",
    "reordered_products = df_order_products[df_order_products['reordered']== 1]\n",
    "reordered_products = reordered_products.groupby('product_id').size().sort_values(ascending=False)"
   ]
  },
  {
   "cell_type": "code",
   "execution_count": 118,
   "id": "possible-change",
   "metadata": {
    "id": "possible-change",
    "scrolled": true
   },
   "outputs": [],
   "source": [
    "# Mostrar los nombres\n",
    "top_reordered_products = reordered_products.head(20).reset_index()\n",
    "top_reordered_products = top_reordered_products.merge(df_products[['product_id', 'product_name']], on='product_id', how='left')"
   ]
  },
  {
   "cell_type": "code",
   "execution_count": 119,
   "id": "professional-surfing",
   "metadata": {
    "id": "professional-surfing",
    "scrolled": true
   },
   "outputs": [
    {
     "name": "stdout",
     "output_type": "stream",
     "text": [
      "    product_id      0              product_name\n",
      "0        24852  55763                    BANANA\n",
      "1        13176  44450    BAG OF ORGANIC BANANAS\n",
      "2        21137  28639      ORGANIC STRAWBERRIES\n",
      "3        21903  26233      ORGANIC BABY SPINACH\n",
      "4        47209  23629      ORGANIC HASS AVOCADO\n",
      "5        47766  18743           ORGANIC AVOCADO\n",
      "6        27845  16251        ORGANIC WHOLE MILK\n",
      "7        47626  15044               LARGE LEMON\n",
      "8        27966  14748       ORGANIC RASPBERRIES\n",
      "9        16797  13945              STRAWBERRIES\n",
      "10       26209  13327                     LIMES\n",
      "11       22935  11145      ORGANIC YELLOW ONION\n",
      "12       24964  10411            ORGANIC GARLIC\n",
      "13       45007  10076          ORGANIC ZUCCHINI\n",
      "14       49683   9538            CUCUMBER KIRBY\n",
      "15       28204   8989        ORGANIC FUJI APPLE\n",
      "16        8277   8836  APPLE HONEYCRISP ORGANIC\n",
      "17       39275   8799       ORGANIC BLUEBERRIES\n",
      "18        5876   8412             ORGANIC LEMON\n",
      "19       49235   8389       ORGANIC HALF & HALF\n"
     ]
    }
   ],
   "source": [
    "print(top_reordered_products)"
   ]
  },
  {
   "cell_type": "markdown",
   "id": "80e70c74",
   "metadata": {
    "id": "80e70c74"
   },
   "source": [
    "Escribe aquí tus conclusiones\n",
    "##### Volvemos a confirmar que los clientes prefieren los productos que son orgánicos"
   ]
  },
  {
   "cell_type": "markdown",
   "id": "9d312b14",
   "metadata": {
    "id": "9d312b14"
   },
   "source": [
    "### [C3] Para cada producto, ¿cuál es la proporción de las veces que se pide y que se vuelve a pedir?"
   ]
  },
  {
   "cell_type": "code",
   "execution_count": 120,
   "id": "8ae9f4b1",
   "metadata": {
    "id": "8ae9f4b1"
   },
   "outputs": [],
   "source": [
    "# Total de veces que cada producto ha sido pedido\n",
    "total_orders = df_order_products.groupby('product_id').size()\n",
    "\n",
    "# Total de veces que cada producto ha sido reordenado\n",
    "reordered_products = df_order_products[df_order_products['reordered'] == 1].groupby('product_id').size()"
   ]
  },
  {
   "cell_type": "code",
   "execution_count": 121,
   "id": "103e7fe1",
   "metadata": {
    "id": "103e7fe1"
   },
   "outputs": [],
   "source": [
    "# Calcular la tasa de repetición (reordenados / total pedidos)\n",
    "reorder_rate = (reordered_products / total_orders).fillna(0)\n",
    "\n",
    "# Convertir en DataFrame y ordenar de mayor a menor\n",
    "reorder_rate = reorder_rate.reset_index().rename(columns={0: 'reorder_rate'}).sort_values(by='reorder_rate', ascending=False)"
   ]
  },
  {
   "cell_type": "code",
   "execution_count": 122,
   "id": "social-individual",
   "metadata": {
    "id": "social-individual"
   },
   "outputs": [
    {
     "name": "stdout",
     "output_type": "stream",
     "text": [
      "       product_id  reorder_rate\n",
      "13453       14721           1.0\n",
      "19195       20949           1.0\n",
      "6136         6723           1.0\n",
      "6144         6732           1.0\n",
      "41319       45088           1.0\n",
      "41310       45078           1.0\n",
      "19258       21016           1.0\n",
      "19248       21005           1.0\n",
      "32273       35192           1.0\n",
      "32277       35197           1.0\n",
      "6211         6810           1.0\n",
      "41274       45040           1.0\n",
      "41269       45035           1.0\n",
      "25120       27373           1.0\n",
      "28203       30748           1.0\n",
      "41265       45031           1.0\n",
      "32224       35137           1.0\n",
      "28202       30747           1.0\n",
      "32304       35228           1.0\n",
      "32305       35229           1.0\n"
     ]
    }
   ],
   "source": [
    "# Mostrar los primeros productos con mayor tasa de repetición\n",
    "print(reorder_rate.head(20))"
   ]
  },
  {
   "cell_type": "markdown",
   "id": "I10dEIAyldcO",
   "metadata": {
    "id": "I10dEIAyldcO"
   },
   "source": [
    "Escribe aquí tus conclusiones\n",
    "\n",
    "###### Todos los productos en la lista tienen una tasa de repetición del 100% (1.0), lo que significa que cada vez que fueron pedidos, ya habían sido comprados antes. Son productos altamente recurrentes, es decir, los clientes que los compran suelen repetir la compra."
   ]
  },
  {
   "cell_type": "markdown",
   "id": "subject-boxing",
   "metadata": {
    "id": "subject-boxing"
   },
   "source": [
    "### [C4] Para cada cliente, ¿qué proporción de sus productos ya los había pedido?"
   ]
  },
  {
   "cell_type": "code",
   "execution_count": 123,
   "id": "medical-couple",
   "metadata": {
    "id": "medical-couple",
    "scrolled": true
   },
   "outputs": [],
   "source": [
    "# Unir df_order_products con df_cart_orders para obtener el user_id en cada pedido\n",
    "df_merged = df_order_products.merge(df_cart_orders[['order_id', 'user_id']], on='order_id', how='left')\n",
    "\n",
    "# Contar cuántos productos en total ha pedido cada usuario\n",
    "total_orders_per_user = df_merged.groupby('user_id').size()"
   ]
  },
  {
   "cell_type": "code",
   "execution_count": 124,
   "id": "8892e4b4",
   "metadata": {
    "id": "8892e4b4"
   },
   "outputs": [
    {
     "name": "stdout",
     "output_type": "stream",
     "text": [
      "   user_id  reorder_rate\n",
      "0        2      0.038462\n",
      "1        4      0.000000\n",
      "2        5      0.666667\n",
      "3        6      0.000000\n",
      "4        7      0.928571\n",
      "5       11      0.200000\n",
      "6       12      0.250000\n",
      "7       13      0.565217\n",
      "8       14      0.360656\n",
      "9       15      0.538462\n"
     ]
    }
   ],
   "source": [
    "# Contar cuántos productos ya habían sido pedidos antes por cada usuario\n",
    "reordered_orders_per_user = df_merged[df_merged['reordered'] == 1].groupby('user_id').size()\n",
    "\n",
    "# Calcular la tasa de repetición (productos repetidos / total de productos pedidos)\n",
    "repeat_rate_per_user = (reordered_orders_per_user / total_orders_per_user).fillna(0)\n",
    "\n",
    "# Convertirlo en un DataFrame para visualizar mejor\n",
    "repeat_rate_per_user = repeat_rate_per_user.reset_index()\n",
    "repeat_rate_per_user.columns = ['user_id', 'reorder_rate']\n",
    "print(repeat_rate_per_user.head(10))"
   ]
  },
  {
   "cell_type": "markdown",
   "id": "BgJSvXDsleXz",
   "metadata": {
    "id": "BgJSvXDsleXz"
   },
   "source": [
    "Escribe aquí tus conclusiones\n",
    "\n",
    "###### Conclusiones sencillas y cortas:  \n",
    "\n",
    "- Algunos usuarios (como el **7**) casi siempre repiten sus compras (92.8%).  \n",
    "- Otros (como el **4 y el 6**) nunca han repetido un producto (0%).  \n",
    "- La tasa de repetición varía bastante entre usuarios, lo que sugiere que algunos tienen hábitos de compra más constantes que otros.  \n",
    "- Usuarios como el **5 y el 12** repiten productos en **~20-25%** de los casos, lo que indica una mezcla entre productos nuevos y habituales."
   ]
  },
  {
   "cell_type": "markdown",
   "id": "92d35137",
   "metadata": {
    "id": "92d35137"
   },
   "source": [
    "### [C5] ¿Cuáles son los 20 principales artículos que las personas ponen primero en sus carritos?"
   ]
  },
  {
   "cell_type": "code",
   "execution_count": 125,
   "id": "0ae57274",
   "metadata": {
    "id": "0ae57274",
    "scrolled": true
   },
   "outputs": [
    {
     "name": "stdout",
     "output_type": "stream",
     "text": [
      "    product_id  count                 product_name\n",
      "0        24852  15562                       BANANA\n",
      "1        13176  11026       BAG OF ORGANIC BANANAS\n",
      "2        27845   4363           ORGANIC WHOLE MILK\n",
      "3        21137   3946         ORGANIC STRAWBERRIES\n",
      "4        47209   3390         ORGANIC HASS AVOCADO\n",
      "5        21903   3336         ORGANIC BABY SPINACH\n",
      "6        47766   3044              ORGANIC AVOCADO\n",
      "7        19660   2336                 SPRING WATER\n",
      "8        16797   2308                 STRAWBERRIES\n",
      "9        27966   2024          ORGANIC RASPBERRIES\n",
      "10       44632   1914   SPARKLING WATER GRAPEFRUIT\n",
      "11       49235   1797          ORGANIC HALF & HALF\n",
      "12       47626   1737                  LARGE LEMON\n",
      "13         196   1733                         SODA\n",
      "14       38689   1397     ORGANIC REDUCED FAT MILK\n",
      "15       26209   1370                        LIMES\n",
      "16       12341   1340                HASS AVOCADOS\n",
      "17        5785   1310  ORGANIC REDUCED FAT 2% MILK\n",
      "18       27086   1309                  HALF & HALF\n",
      "19       43352   1246                  RASPBERRIES\n"
     ]
    }
   ],
   "source": [
    "# Filtrar los productos que fueron los primeros en añadirse al carrito\n",
    "first_added_products = df_order_products[df_order_products['add_to_cart_order'] == 1]\n",
    "\n",
    "# Contar cuántas veces cada producto fue el primero en añadirse\n",
    "first_added_counts = first_added_products.groupby('product_id').size().reset_index(name='count')\n",
    "\n",
    "# Ordenar los productos por la cantidad de veces que fueron los primeros en añadirse\n",
    "top_first_added = first_added_counts.sort_values(by='count', ascending=False).head(20)\n",
    "\n",
    "# Unir con df_products para obtener los nombres de los productos\n",
    "top_first_added = top_first_added.merge(df_products[['product_id', 'product_name']], on='product_id', how='left')\n",
    "\n",
    "# Mostrar los 20 principales productos\n",
    "print(top_first_added)\n"
   ]
  },
  {
   "cell_type": "markdown",
   "id": "28ce9872",
   "metadata": {
    "id": "28ce9872"
   },
   "source": [
    "Escribe aquí tus conclusiones\n",
    "###### La mayoría de los productos que los clientes agregan primero a sus carritos son frutas y productos orgánicos, como plátanos, fresas, aguacates y leche orgánica. Esto sugiere que los compradores suelen comenzar sus compras con productos básicos y saludables."
   ]
  },
  {
   "cell_type": "markdown",
   "id": "uITbFCEoDosC",
   "metadata": {
    "id": "uITbFCEoDosC"
   },
   "source": [
    "### Conclusion general del proyecto:"
   ]
  },
  {
   "cell_type": "markdown",
   "id": "8cbea52d",
   "metadata": {
    "id": "Nk-4GS7mDwqY"
   },
   "source": [
    "### Conclusiones generales del proyecto:  \n",
    "\n",
    "1. **Los productos más comprados son alimentos básicos y saludables:**  \n",
    "   Los artículos más frecuentes en los carritos y los más reordenados incluyen plátanos, fresas, leche y espinacas orgánicas, lo que indica una preferencia por productos frescos y saludables.  \n",
    "\n",
    "2. **Muchos clientes son leales a ciertos productos:**  \n",
    "   Se observa que una gran parte de los productos tienen una alta tasa de reorden, lo que sugiere que los consumidores suelen comprar los mismos productos en repetidas ocasiones.  \n",
    "\n",
    "3. **El comportamiento de compra sigue patrones definidos:**  \n",
    "   Los clientes tienden a realizar pedidos en ciertos horarios del día, con diferencias entre los días de la semana. Además, los productos agregados primero al carrito suelen ser esenciales para el hogar.  \n",
    "\n",
    "4. **Algunos clientes reordenan casi todos sus productos, mientras que otros experimentan más:**  \n",
    "   La tasa de repetición de pedidos varía por usuario. Algunos consumidores repiten casi todas sus compras, mientras que otros prueban productos nuevos con más frecuencia.  \n",
    "\n",
    "5. **La información puede ayudar a optimizar estrategias de negocio:**  \n",
    "   Con estos datos, una tienda podría personalizar recomendaciones, mejorar el inventario y diseñar estrategias de marketing basadas en los hábitos de compra de los clientes.  \n"
   ]
  }
 ],
 "metadata": {
  "ExecuteTimeLog": [
   {
    "duration": 2483,
    "start_time": "2025-03-06T19:00:43.837Z"
   },
   {
    "duration": 2643,
    "start_time": "2025-03-06T19:03:59.617Z"
   },
   {
    "duration": 2367,
    "start_time": "2025-03-06T19:04:19.876Z"
   },
   {
    "duration": 21,
    "start_time": "2025-03-06T19:04:35.379Z"
   },
   {
    "duration": 13,
    "start_time": "2025-03-06T19:05:00.361Z"
   },
   {
    "duration": 8,
    "start_time": "2025-03-06T19:05:19.374Z"
   },
   {
    "duration": 9,
    "start_time": "2025-03-06T19:05:44.416Z"
   },
   {
    "duration": 5,
    "start_time": "2025-03-06T19:06:16.629Z"
   },
   {
    "duration": 194,
    "start_time": "2025-03-06T19:06:43.369Z"
   },
   {
    "duration": 122,
    "start_time": "2025-03-06T19:07:08.225Z"
   },
   {
    "duration": 3,
    "start_time": "2025-03-06T19:10:17.655Z"
   },
   {
    "duration": 2407,
    "start_time": "2025-03-06T19:10:18.967Z"
   },
   {
    "duration": 34,
    "start_time": "2025-03-06T19:10:21.376Z"
   },
   {
    "duration": 10,
    "start_time": "2025-03-06T19:10:21.411Z"
   },
   {
    "duration": 7,
    "start_time": "2025-03-06T19:10:24.085Z"
   },
   {
    "duration": 8,
    "start_time": "2025-03-06T19:10:25.097Z"
   },
   {
    "duration": 125,
    "start_time": "2025-03-06T19:10:28.322Z"
   },
   {
    "duration": 3,
    "start_time": "2025-03-06T19:16:10.428Z"
   },
   {
    "duration": 991,
    "start_time": "2025-03-06T19:16:11.548Z"
   },
   {
    "duration": 10,
    "start_time": "2025-03-06T19:16:13.962Z"
   },
   {
    "duration": 10,
    "start_time": "2025-03-06T19:16:16.825Z"
   },
   {
    "duration": 9,
    "start_time": "2025-03-06T19:16:18.403Z"
   },
   {
    "duration": 8,
    "start_time": "2025-03-06T19:16:20.025Z"
   },
   {
    "duration": 23,
    "start_time": "2025-03-06T19:16:21.633Z"
   },
   {
    "duration": 836,
    "start_time": "2025-03-06T19:23:15.414Z"
   },
   {
    "duration": 82,
    "start_time": "2025-03-06T19:26:13.674Z"
   },
   {
    "duration": 58,
    "start_time": "2025-03-06T19:34:20.846Z"
   },
   {
    "duration": 24,
    "start_time": "2025-03-06T19:35:02.084Z"
   },
   {
    "duration": 83,
    "start_time": "2025-03-06T19:37:04.546Z"
   },
   {
    "duration": 85,
    "start_time": "2025-03-06T19:37:07.459Z"
   },
   {
    "duration": 78,
    "start_time": "2025-03-06T19:37:14.484Z"
   },
   {
    "duration": 5,
    "start_time": "2025-03-06T19:37:50.708Z"
   },
   {
    "duration": 22,
    "start_time": "2025-03-06T19:38:13.064Z"
   },
   {
    "duration": 25,
    "start_time": "2025-03-06T19:44:02.754Z"
   },
   {
    "duration": 13,
    "start_time": "2025-03-06T19:44:11.329Z"
   },
   {
    "duration": 4,
    "start_time": "2025-03-06T19:45:18.492Z"
   },
   {
    "duration": 4,
    "start_time": "2025-03-06T19:46:07.281Z"
   },
   {
    "duration": 79,
    "start_time": "2025-03-06T19:46:26.749Z"
   },
   {
    "duration": 73,
    "start_time": "2025-03-06T19:46:46.632Z"
   },
   {
    "duration": 103,
    "start_time": "2025-03-06T19:46:50.770Z"
   },
   {
    "duration": 76,
    "start_time": "2025-03-06T19:46:58.663Z"
   },
   {
    "duration": 2,
    "start_time": "2025-03-06T19:47:06.231Z"
   },
   {
    "duration": 847,
    "start_time": "2025-03-06T19:47:07.368Z"
   },
   {
    "duration": 12,
    "start_time": "2025-03-06T19:47:08.842Z"
   },
   {
    "duration": 12,
    "start_time": "2025-03-06T19:47:10.023Z"
   },
   {
    "duration": 12,
    "start_time": "2025-03-06T19:47:11.197Z"
   },
   {
    "duration": 9,
    "start_time": "2025-03-06T19:47:12.450Z"
   },
   {
    "duration": 27,
    "start_time": "2025-03-06T19:47:14.411Z"
   },
   {
    "duration": 98,
    "start_time": "2025-03-06T19:47:21.569Z"
   },
   {
    "duration": 10,
    "start_time": "2025-03-06T19:47:25.369Z"
   },
   {
    "duration": 79,
    "start_time": "2025-03-06T19:47:27.707Z"
   },
   {
    "duration": 92,
    "start_time": "2025-03-06T19:47:36.838Z"
   },
   {
    "duration": 25,
    "start_time": "2025-03-06T19:48:05.420Z"
   },
   {
    "duration": 14,
    "start_time": "2025-03-06T19:50:07.183Z"
   },
   {
    "duration": 20,
    "start_time": "2025-03-06T19:50:41.990Z"
   },
   {
    "duration": 9,
    "start_time": "2025-03-06T19:53:14.190Z"
   },
   {
    "duration": 10,
    "start_time": "2025-03-06T19:53:30.744Z"
   },
   {
    "duration": 11,
    "start_time": "2025-03-06T19:53:39.558Z"
   },
   {
    "duration": 2173,
    "start_time": "2025-03-08T18:03:44.443Z"
   },
   {
    "duration": 996,
    "start_time": "2025-03-08T18:03:46.618Z"
   },
   {
    "duration": 11,
    "start_time": "2025-03-08T18:03:47.616Z"
   },
   {
    "duration": 9,
    "start_time": "2025-03-08T18:03:47.632Z"
   },
   {
    "duration": 12,
    "start_time": "2025-03-08T18:03:47.644Z"
   },
   {
    "duration": 16,
    "start_time": "2025-03-08T18:03:47.658Z"
   },
   {
    "duration": 23,
    "start_time": "2025-03-08T18:03:47.677Z"
   },
   {
    "duration": 109,
    "start_time": "2025-03-08T18:03:47.703Z"
   },
   {
    "duration": 18,
    "start_time": "2025-03-08T18:03:47.814Z"
   },
   {
    "duration": 102,
    "start_time": "2025-03-08T18:03:47.834Z"
   },
   {
    "duration": 84,
    "start_time": "2025-03-08T18:03:47.938Z"
   },
   {
    "duration": 30,
    "start_time": "2025-03-08T18:03:48.032Z"
   },
   {
    "duration": 12,
    "start_time": "2025-03-08T18:03:48.064Z"
   },
   {
    "duration": 3,
    "start_time": "2025-03-08T18:03:48.081Z"
   },
   {
    "duration": 19,
    "start_time": "2025-03-08T18:03:48.085Z"
   },
   {
    "duration": 34,
    "start_time": "2025-03-08T18:03:48.105Z"
   },
   {
    "duration": 3,
    "start_time": "2025-03-08T18:03:48.141Z"
   },
   {
    "duration": 4,
    "start_time": "2025-03-08T18:03:48.146Z"
   },
   {
    "duration": 2,
    "start_time": "2025-03-08T18:03:48.152Z"
   },
   {
    "duration": 3,
    "start_time": "2025-03-08T18:03:48.156Z"
   },
   {
    "duration": 4,
    "start_time": "2025-03-08T18:03:48.160Z"
   },
   {
    "duration": 3,
    "start_time": "2025-03-08T18:03:48.165Z"
   },
   {
    "duration": 4,
    "start_time": "2025-03-08T18:03:48.169Z"
   },
   {
    "duration": 3,
    "start_time": "2025-03-08T18:03:48.175Z"
   },
   {
    "duration": 2,
    "start_time": "2025-03-08T18:03:48.180Z"
   },
   {
    "duration": 4,
    "start_time": "2025-03-08T18:03:48.183Z"
   },
   {
    "duration": 43,
    "start_time": "2025-03-08T18:03:48.189Z"
   },
   {
    "duration": 4,
    "start_time": "2025-03-08T18:03:48.234Z"
   },
   {
    "duration": 2,
    "start_time": "2025-03-08T18:03:48.240Z"
   },
   {
    "duration": 2,
    "start_time": "2025-03-08T18:03:48.245Z"
   },
   {
    "duration": 3,
    "start_time": "2025-03-08T18:03:48.249Z"
   },
   {
    "duration": 3,
    "start_time": "2025-03-08T18:03:48.254Z"
   },
   {
    "duration": 3,
    "start_time": "2025-03-08T18:03:48.258Z"
   },
   {
    "duration": 3,
    "start_time": "2025-03-08T18:03:48.263Z"
   },
   {
    "duration": 3,
    "start_time": "2025-03-08T18:06:54.945Z"
   },
   {
    "duration": 3,
    "start_time": "2025-03-08T18:09:17.367Z"
   },
   {
    "duration": 4,
    "start_time": "2025-03-08T18:10:38.806Z"
   },
   {
    "duration": 3,
    "start_time": "2025-03-08T18:11:52.959Z"
   },
   {
    "duration": 762,
    "start_time": "2025-03-08T18:14:52.511Z"
   },
   {
    "duration": 3,
    "start_time": "2025-03-08T18:23:00.950Z"
   },
   {
    "duration": 15,
    "start_time": "2025-03-08T18:32:10.455Z"
   },
   {
    "duration": 9,
    "start_time": "2025-03-08T18:32:19.535Z"
   },
   {
    "duration": 15,
    "start_time": "2025-03-08T18:32:20.588Z"
   },
   {
    "duration": 11,
    "start_time": "2025-03-08T18:33:34.314Z"
   },
   {
    "duration": 10,
    "start_time": "2025-03-08T18:33:37.187Z"
   },
   {
    "duration": 3,
    "start_time": "2025-03-08T18:33:38.074Z"
   },
   {
    "duration": 19,
    "start_time": "2025-03-08T18:33:38.752Z"
   },
   {
    "duration": 9,
    "start_time": "2025-03-08T18:33:39.539Z"
   },
   {
    "duration": 14,
    "start_time": "2025-03-08T18:33:40.296Z"
   },
   {
    "duration": 2,
    "start_time": "2025-03-08T18:34:04.615Z"
   },
   {
    "duration": 845,
    "start_time": "2025-03-08T18:34:04.619Z"
   },
   {
    "duration": 10,
    "start_time": "2025-03-08T18:34:05.466Z"
   },
   {
    "duration": 9,
    "start_time": "2025-03-08T18:34:05.477Z"
   },
   {
    "duration": 8,
    "start_time": "2025-03-08T18:34:05.488Z"
   },
   {
    "duration": 35,
    "start_time": "2025-03-08T18:34:05.497Z"
   },
   {
    "duration": 21,
    "start_time": "2025-03-08T18:34:05.533Z"
   },
   {
    "duration": 86,
    "start_time": "2025-03-08T18:34:05.556Z"
   },
   {
    "duration": 8,
    "start_time": "2025-03-08T18:34:05.644Z"
   },
   {
    "duration": 94,
    "start_time": "2025-03-08T18:34:05.654Z"
   },
   {
    "duration": 88,
    "start_time": "2025-03-08T18:34:05.750Z"
   },
   {
    "duration": 24,
    "start_time": "2025-03-08T18:34:05.840Z"
   },
   {
    "duration": 12,
    "start_time": "2025-03-08T18:34:05.866Z"
   },
   {
    "duration": 3,
    "start_time": "2025-03-08T18:34:05.882Z"
   },
   {
    "duration": 44,
    "start_time": "2025-03-08T18:34:05.887Z"
   },
   {
    "duration": 9,
    "start_time": "2025-03-08T18:34:05.933Z"
   },
   {
    "duration": 14,
    "start_time": "2025-03-08T18:34:05.943Z"
   },
   {
    "duration": 4,
    "start_time": "2025-03-08T18:34:05.958Z"
   },
   {
    "duration": 3,
    "start_time": "2025-03-08T18:34:05.964Z"
   },
   {
    "duration": 4,
    "start_time": "2025-03-08T18:34:05.970Z"
   },
   {
    "duration": 4,
    "start_time": "2025-03-08T18:34:05.975Z"
   },
   {
    "duration": 797,
    "start_time": "2025-03-08T18:34:05.981Z"
   },
   {
    "duration": 2,
    "start_time": "2025-03-08T18:34:06.780Z"
   },
   {
    "duration": 3,
    "start_time": "2025-03-08T18:34:06.784Z"
   },
   {
    "duration": 2,
    "start_time": "2025-03-08T18:34:06.789Z"
   },
   {
    "duration": 3,
    "start_time": "2025-03-08T18:34:06.793Z"
   },
   {
    "duration": 4,
    "start_time": "2025-03-08T18:34:06.797Z"
   },
   {
    "duration": 29,
    "start_time": "2025-03-08T18:34:06.802Z"
   },
   {
    "duration": 2,
    "start_time": "2025-03-08T18:34:06.832Z"
   },
   {
    "duration": 3,
    "start_time": "2025-03-08T18:34:06.836Z"
   },
   {
    "duration": 2,
    "start_time": "2025-03-08T18:34:06.841Z"
   },
   {
    "duration": 2,
    "start_time": "2025-03-08T18:34:06.845Z"
   },
   {
    "duration": 3,
    "start_time": "2025-03-08T18:34:06.849Z"
   },
   {
    "duration": 3,
    "start_time": "2025-03-08T18:34:06.854Z"
   },
   {
    "duration": 3,
    "start_time": "2025-03-08T18:34:06.858Z"
   },
   {
    "duration": 12,
    "start_time": "2025-03-08T18:35:33.707Z"
   },
   {
    "duration": 4,
    "start_time": "2025-03-08T18:36:18.008Z"
   },
   {
    "duration": 4,
    "start_time": "2025-03-08T18:36:18.767Z"
   },
   {
    "duration": 4,
    "start_time": "2025-03-08T18:36:20.698Z"
   },
   {
    "duration": 3,
    "start_time": "2025-03-08T18:36:21.201Z"
   },
   {
    "duration": 699,
    "start_time": "2025-03-08T18:36:23.724Z"
   },
   {
    "duration": 57,
    "start_time": "2025-03-08T18:37:54.521Z"
   },
   {
    "duration": 607,
    "start_time": "2025-03-08T18:46:33.046Z"
   },
   {
    "duration": 5,
    "start_time": "2025-03-08T18:46:40.244Z"
   },
   {
    "duration": 2,
    "start_time": "2025-03-08T18:50:22.753Z"
   },
   {
    "duration": 830,
    "start_time": "2025-03-08T18:50:22.758Z"
   },
   {
    "duration": 16,
    "start_time": "2025-03-08T18:50:23.590Z"
   },
   {
    "duration": 28,
    "start_time": "2025-03-08T18:50:23.609Z"
   },
   {
    "duration": 8,
    "start_time": "2025-03-08T18:50:23.641Z"
   },
   {
    "duration": 7,
    "start_time": "2025-03-08T18:50:23.651Z"
   },
   {
    "duration": 21,
    "start_time": "2025-03-08T18:50:23.660Z"
   },
   {
    "duration": 109,
    "start_time": "2025-03-08T18:50:23.683Z"
   },
   {
    "duration": 8,
    "start_time": "2025-03-08T18:50:23.795Z"
   },
   {
    "duration": 95,
    "start_time": "2025-03-08T18:50:23.804Z"
   },
   {
    "duration": 83,
    "start_time": "2025-03-08T18:50:23.901Z"
   },
   {
    "duration": 27,
    "start_time": "2025-03-08T18:50:23.985Z"
   },
   {
    "duration": 27,
    "start_time": "2025-03-08T18:50:24.014Z"
   },
   {
    "duration": 4,
    "start_time": "2025-03-08T18:50:24.043Z"
   },
   {
    "duration": 22,
    "start_time": "2025-03-08T18:50:24.048Z"
   },
   {
    "duration": 10,
    "start_time": "2025-03-08T18:50:24.073Z"
   },
   {
    "duration": 3,
    "start_time": "2025-03-08T18:50:24.085Z"
   },
   {
    "duration": 4,
    "start_time": "2025-03-08T18:50:24.090Z"
   },
   {
    "duration": 4,
    "start_time": "2025-03-08T18:50:24.132Z"
   },
   {
    "duration": 4,
    "start_time": "2025-03-08T18:50:24.138Z"
   },
   {
    "duration": 804,
    "start_time": "2025-03-08T18:50:24.144Z"
   },
   {
    "duration": 105,
    "start_time": "2025-03-08T18:50:24.951Z"
   },
   {
    "duration": 6,
    "start_time": "2025-03-08T18:50:25.058Z"
   },
   {
    "duration": 3,
    "start_time": "2025-03-08T18:50:25.068Z"
   },
   {
    "duration": 3,
    "start_time": "2025-03-08T18:50:25.073Z"
   },
   {
    "duration": 3,
    "start_time": "2025-03-08T18:50:25.078Z"
   },
   {
    "duration": 3,
    "start_time": "2025-03-08T18:50:25.082Z"
   },
   {
    "duration": 2,
    "start_time": "2025-03-08T18:50:25.089Z"
   },
   {
    "duration": 4,
    "start_time": "2025-03-08T18:50:25.092Z"
   },
   {
    "duration": 34,
    "start_time": "2025-03-08T18:50:25.097Z"
   },
   {
    "duration": 2,
    "start_time": "2025-03-08T18:50:25.134Z"
   },
   {
    "duration": 3,
    "start_time": "2025-03-08T18:50:25.138Z"
   },
   {
    "duration": 3,
    "start_time": "2025-03-08T18:50:25.143Z"
   },
   {
    "duration": 4,
    "start_time": "2025-03-08T18:50:25.147Z"
   },
   {
    "duration": 27,
    "start_time": "2025-03-08T18:52:01.783Z"
   },
   {
    "duration": 29,
    "start_time": "2025-03-08T18:59:10.755Z"
   },
   {
    "duration": 7,
    "start_time": "2025-03-08T19:05:21.135Z"
   },
   {
    "duration": 6,
    "start_time": "2025-03-08T19:12:54.862Z"
   },
   {
    "duration": 13,
    "start_time": "2025-03-08T19:15:55.776Z"
   },
   {
    "duration": 8,
    "start_time": "2025-03-08T19:16:05.615Z"
   },
   {
    "duration": 3,
    "start_time": "2025-03-08T19:19:01.028Z"
   },
   {
    "duration": 13,
    "start_time": "2025-03-08T19:19:09.426Z"
   },
   {
    "duration": 6,
    "start_time": "2025-03-08T19:19:28.181Z"
   },
   {
    "duration": 13,
    "start_time": "2025-03-08T19:22:04.993Z"
   },
   {
    "duration": 5,
    "start_time": "2025-03-08T19:22:27.536Z"
   },
   {
    "duration": 14,
    "start_time": "2025-03-08T19:24:09.414Z"
   },
   {
    "duration": 5,
    "start_time": "2025-03-08T19:25:58.458Z"
   },
   {
    "duration": 3,
    "start_time": "2025-03-08T19:26:11.065Z"
   },
   {
    "duration": 25,
    "start_time": "2025-03-08T19:26:27.693Z"
   },
   {
    "duration": 8,
    "start_time": "2025-03-08T19:41:03.728Z"
   },
   {
    "duration": 9,
    "start_time": "2025-03-08T19:46:31.772Z"
   },
   {
    "duration": 21,
    "start_time": "2025-03-08T19:49:59.576Z"
   },
   {
    "duration": 30,
    "start_time": "2025-03-08T19:50:38.930Z"
   },
   {
    "duration": 14,
    "start_time": "2025-03-08T19:58:36.584Z"
   },
   {
    "duration": 7,
    "start_time": "2025-03-08T19:59:03.341Z"
   },
   {
    "duration": 13,
    "start_time": "2025-03-08T20:16:33.303Z"
   },
   {
    "duration": 2229,
    "start_time": "2025-03-08T20:16:45.623Z"
   },
   {
    "duration": 2134,
    "start_time": "2025-03-09T16:33:28.932Z"
   },
   {
    "duration": 983,
    "start_time": "2025-03-09T16:33:31.068Z"
   },
   {
    "duration": 13,
    "start_time": "2025-03-09T16:33:32.052Z"
   },
   {
    "duration": 8,
    "start_time": "2025-03-09T16:33:32.067Z"
   },
   {
    "duration": 7,
    "start_time": "2025-03-09T16:33:32.077Z"
   },
   {
    "duration": 28,
    "start_time": "2025-03-09T16:33:32.086Z"
   },
   {
    "duration": 23,
    "start_time": "2025-03-09T16:33:32.115Z"
   },
   {
    "duration": 24,
    "start_time": "2025-03-09T16:33:32.140Z"
   },
   {
    "duration": 10,
    "start_time": "2025-03-09T16:33:32.166Z"
   },
   {
    "duration": 116,
    "start_time": "2025-03-09T16:33:32.177Z"
   },
   {
    "duration": 94,
    "start_time": "2025-03-09T16:33:32.295Z"
   },
   {
    "duration": 36,
    "start_time": "2025-03-09T16:33:32.391Z"
   },
   {
    "duration": 12,
    "start_time": "2025-03-09T16:33:32.428Z"
   },
   {
    "duration": 3,
    "start_time": "2025-03-09T16:33:32.443Z"
   },
   {
    "duration": 19,
    "start_time": "2025-03-09T16:33:32.448Z"
   },
   {
    "duration": 8,
    "start_time": "2025-03-09T16:33:32.469Z"
   },
   {
    "duration": 3,
    "start_time": "2025-03-09T16:33:32.479Z"
   },
   {
    "duration": 3,
    "start_time": "2025-03-09T16:33:32.512Z"
   },
   {
    "duration": 4,
    "start_time": "2025-03-09T16:33:32.517Z"
   },
   {
    "duration": 3,
    "start_time": "2025-03-09T16:33:32.522Z"
   },
   {
    "duration": 771,
    "start_time": "2025-03-09T16:33:32.527Z"
   },
   {
    "duration": 77,
    "start_time": "2025-03-09T16:33:33.300Z"
   },
   {
    "duration": 5,
    "start_time": "2025-03-09T16:33:33.379Z"
   },
   {
    "duration": 41,
    "start_time": "2025-03-09T16:33:33.385Z"
   },
   {
    "duration": 6,
    "start_time": "2025-03-09T16:33:33.429Z"
   },
   {
    "duration": 6,
    "start_time": "2025-03-09T16:33:33.436Z"
   },
   {
    "duration": 7,
    "start_time": "2025-03-09T16:33:33.444Z"
   },
   {
    "duration": 6,
    "start_time": "2025-03-09T16:33:33.452Z"
   },
   {
    "duration": 5,
    "start_time": "2025-03-09T16:33:33.460Z"
   },
   {
    "duration": 47,
    "start_time": "2025-03-09T16:33:33.467Z"
   },
   {
    "duration": 30,
    "start_time": "2025-03-09T16:33:33.517Z"
   },
   {
    "duration": 12,
    "start_time": "2025-03-09T16:33:33.548Z"
   },
   {
    "duration": 8,
    "start_time": "2025-03-09T16:33:33.561Z"
   },
   {
    "duration": 50,
    "start_time": "2025-03-09T16:33:33.571Z"
   },
   {
    "duration": 7,
    "start_time": "2025-03-09T16:33:33.623Z"
   },
   {
    "duration": 559,
    "start_time": "2025-03-09T16:48:04.382Z"
   },
   {
    "duration": 253,
    "start_time": "2025-03-09T16:49:34.969Z"
   },
   {
    "duration": 168,
    "start_time": "2025-03-09T17:06:29.541Z"
   },
   {
    "duration": 161,
    "start_time": "2025-03-09T17:15:47.790Z"
   },
   {
    "duration": 234,
    "start_time": "2025-03-09T17:17:26.997Z"
   },
   {
    "duration": 186,
    "start_time": "2025-03-09T17:17:47.164Z"
   },
   {
    "duration": 161,
    "start_time": "2025-03-09T17:18:03.600Z"
   },
   {
    "duration": 9,
    "start_time": "2025-03-09T18:01:23.884Z"
   },
   {
    "duration": 4,
    "start_time": "2025-03-09T18:01:32.169Z"
   },
   {
    "duration": 223,
    "start_time": "2025-03-09T18:01:45.449Z"
   },
   {
    "duration": 174,
    "start_time": "2025-03-09T18:03:01.024Z"
   },
   {
    "duration": 173,
    "start_time": "2025-03-09T18:03:10.770Z"
   },
   {
    "duration": 229,
    "start_time": "2025-03-09T18:03:50.192Z"
   },
   {
    "duration": 298,
    "start_time": "2025-03-09T18:03:55.621Z"
   },
   {
    "duration": 224,
    "start_time": "2025-03-09T18:04:07.310Z"
   },
   {
    "duration": 332,
    "start_time": "2025-03-09T18:15:28.818Z"
   },
   {
    "duration": 327,
    "start_time": "2025-03-09T18:15:37.343Z"
   },
   {
    "duration": 85,
    "start_time": "2025-03-09T18:28:17.361Z"
   },
   {
    "duration": 13,
    "start_time": "2025-03-09T18:28:24.443Z"
   },
   {
    "duration": 5,
    "start_time": "2025-03-09T18:28:30.573Z"
   },
   {
    "duration": 249,
    "start_time": "2025-03-09T18:58:37.191Z"
   },
   {
    "duration": 14,
    "start_time": "2025-03-09T18:58:45.516Z"
   },
   {
    "duration": 210,
    "start_time": "2025-03-09T18:58:54.762Z"
   },
   {
    "duration": 167,
    "start_time": "2025-03-09T19:15:48.651Z"
   },
   {
    "duration": 11,
    "start_time": "2025-03-09T19:15:57.337Z"
   },
   {
    "duration": 4,
    "start_time": "2025-03-09T19:16:04.325Z"
   },
   {
    "duration": 223,
    "start_time": "2025-03-09T19:29:37.285Z"
   },
   {
    "duration": 10,
    "start_time": "2025-03-09T19:29:46.029Z"
   },
   {
    "duration": 6,
    "start_time": "2025-03-09T19:29:55.505Z"
   },
   {
    "duration": 730,
    "start_time": "2025-03-09T19:42:26.242Z"
   },
   {
    "duration": 191,
    "start_time": "2025-03-09T19:42:44.267Z"
   },
   {
    "duration": 121,
    "start_time": "2025-03-09T19:45:37.176Z"
   },
   {
    "duration": 3,
    "start_time": "2025-03-09T19:47:17.807Z"
   },
   {
    "duration": 860,
    "start_time": "2025-03-09T19:47:17.812Z"
   },
   {
    "duration": 11,
    "start_time": "2025-03-09T19:47:18.674Z"
   },
   {
    "duration": 10,
    "start_time": "2025-03-09T19:47:18.686Z"
   },
   {
    "duration": 7,
    "start_time": "2025-03-09T19:47:18.712Z"
   },
   {
    "duration": 7,
    "start_time": "2025-03-09T19:47:18.721Z"
   },
   {
    "duration": 20,
    "start_time": "2025-03-09T19:47:18.729Z"
   },
   {
    "duration": 22,
    "start_time": "2025-03-09T19:47:18.751Z"
   },
   {
    "duration": 8,
    "start_time": "2025-03-09T19:47:18.774Z"
   },
   {
    "duration": 79,
    "start_time": "2025-03-09T19:47:18.812Z"
   },
   {
    "duration": 91,
    "start_time": "2025-03-09T19:47:18.894Z"
   },
   {
    "duration": 40,
    "start_time": "2025-03-09T19:47:18.986Z"
   },
   {
    "duration": 13,
    "start_time": "2025-03-09T19:47:19.027Z"
   },
   {
    "duration": 4,
    "start_time": "2025-03-09T19:47:19.041Z"
   },
   {
    "duration": 18,
    "start_time": "2025-03-09T19:47:19.047Z"
   },
   {
    "duration": 7,
    "start_time": "2025-03-09T19:47:19.067Z"
   },
   {
    "duration": 3,
    "start_time": "2025-03-09T19:47:19.076Z"
   },
   {
    "duration": 3,
    "start_time": "2025-03-09T19:47:19.112Z"
   },
   {
    "duration": 4,
    "start_time": "2025-03-09T19:47:19.116Z"
   },
   {
    "duration": 3,
    "start_time": "2025-03-09T19:47:19.122Z"
   },
   {
    "duration": 736,
    "start_time": "2025-03-09T19:47:19.127Z"
   },
   {
    "duration": 88,
    "start_time": "2025-03-09T19:47:19.866Z"
   },
   {
    "duration": 7,
    "start_time": "2025-03-09T19:47:19.955Z"
   },
   {
    "duration": 47,
    "start_time": "2025-03-09T19:47:19.965Z"
   },
   {
    "duration": 6,
    "start_time": "2025-03-09T19:47:20.013Z"
   },
   {
    "duration": 7,
    "start_time": "2025-03-09T19:47:20.021Z"
   },
   {
    "duration": 8,
    "start_time": "2025-03-09T19:47:20.029Z"
   },
   {
    "duration": 6,
    "start_time": "2025-03-09T19:47:20.038Z"
   },
   {
    "duration": 4,
    "start_time": "2025-03-09T19:47:20.049Z"
   },
   {
    "duration": 14,
    "start_time": "2025-03-09T19:47:20.055Z"
   },
   {
    "duration": 65,
    "start_time": "2025-03-09T19:47:20.071Z"
   },
   {
    "duration": 11,
    "start_time": "2025-03-09T19:47:20.138Z"
   },
   {
    "duration": 7,
    "start_time": "2025-03-09T19:47:20.151Z"
   },
   {
    "duration": 52,
    "start_time": "2025-03-09T19:47:20.160Z"
   },
   {
    "duration": 5,
    "start_time": "2025-03-09T19:47:20.214Z"
   },
   {
    "duration": 213,
    "start_time": "2025-03-09T19:47:20.221Z"
   },
   {
    "duration": 180,
    "start_time": "2025-03-09T19:47:20.435Z"
   },
   {
    "duration": 172,
    "start_time": "2025-03-09T19:47:20.617Z"
   },
   {
    "duration": 9,
    "start_time": "2025-03-09T19:47:20.790Z"
   },
   {
    "duration": 13,
    "start_time": "2025-03-09T19:47:20.800Z"
   },
   {
    "duration": 241,
    "start_time": "2025-03-09T19:47:20.815Z"
   },
   {
    "duration": 334,
    "start_time": "2025-03-09T19:47:21.057Z"
   },
   {
    "duration": 85,
    "start_time": "2025-03-09T19:47:21.393Z"
   },
   {
    "duration": 12,
    "start_time": "2025-03-09T19:47:21.480Z"
   },
   {
    "duration": 4,
    "start_time": "2025-03-09T19:47:21.493Z"
   },
   {
    "duration": 234,
    "start_time": "2025-03-09T19:47:21.512Z"
   },
   {
    "duration": 12,
    "start_time": "2025-03-09T19:47:21.748Z"
   },
   {
    "duration": 171,
    "start_time": "2025-03-09T19:47:21.762Z"
   },
   {
    "duration": 176,
    "start_time": "2025-03-09T19:47:21.935Z"
   },
   {
    "duration": 11,
    "start_time": "2025-03-09T19:47:22.113Z"
   },
   {
    "duration": 4,
    "start_time": "2025-03-09T19:47:22.126Z"
   },
   {
    "duration": 233,
    "start_time": "2025-03-09T19:47:22.131Z"
   },
   {
    "duration": 10,
    "start_time": "2025-03-09T19:47:22.365Z"
   },
   {
    "duration": 4,
    "start_time": "2025-03-09T19:47:22.376Z"
   },
   {
    "duration": 743,
    "start_time": "2025-03-09T19:47:22.381Z"
   },
   {
    "duration": 224,
    "start_time": "2025-03-09T19:47:23.126Z"
   },
   {
    "duration": 41,
    "start_time": "2025-03-09T19:47:23.352Z"
   },
   {
    "duration": 23,
    "start_time": "2025-03-09T19:47:35.158Z"
   },
   {
    "duration": 7,
    "start_time": "2025-03-09T19:47:39.488Z"
   },
   {
    "duration": 84,
    "start_time": "2025-03-09T19:47:40.054Z"
   },
   {
    "duration": 65,
    "start_time": "2025-03-09T19:47:40.485Z"
   },
   {
    "duration": 21,
    "start_time": "2025-03-09T19:47:40.897Z"
   },
   {
    "duration": 14,
    "start_time": "2025-03-09T19:47:42.797Z"
   },
   {
    "duration": 3,
    "start_time": "2025-03-09T19:47:43.064Z"
   },
   {
    "duration": 19,
    "start_time": "2025-03-09T19:47:43.377Z"
   },
   {
    "duration": 13,
    "start_time": "2025-03-09T19:47:43.876Z"
   },
   {
    "duration": 3,
    "start_time": "2025-03-09T19:47:44.836Z"
   },
   {
    "duration": 4,
    "start_time": "2025-03-09T19:47:45.246Z"
   },
   {
    "duration": 4,
    "start_time": "2025-03-09T19:47:46.271Z"
   },
   {
    "duration": 3,
    "start_time": "2025-03-09T19:47:46.608Z"
   }
  ],
  "colab": {
   "provenance": []
  },
  "kernelspec": {
   "display_name": "Python 3 (ipykernel)",
   "language": "python",
   "name": "python3"
  },
  "language_info": {
   "codemirror_mode": {
    "name": "ipython",
    "version": 3
   },
   "file_extension": ".py",
   "mimetype": "text/x-python",
   "name": "python",
   "nbconvert_exporter": "python",
   "pygments_lexer": "ipython3",
   "version": "3.9.19"
  },
  "toc": {
   "base_numbering": 1,
   "nav_menu": {},
   "number_sections": true,
   "sideBar": true,
   "skip_h1_title": true,
   "title_cell": "Table of Contents",
   "title_sidebar": "Contents",
   "toc_cell": false,
   "toc_position": {},
   "toc_section_display": true,
   "toc_window_display": false
  },
  "vscode": {
   "interpreter": {
    "hash": "01a7be9ec63e704a62cefc5fe7a4756944464ee731be31632bdf42a4cb4688cf"
   }
  }
 },
 "nbformat": 4,
 "nbformat_minor": 5
}
